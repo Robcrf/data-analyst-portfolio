{
  "cells": [
    {
      "cell_type": "markdown",
      "id": "37803673",
      "metadata": {
        "id": "37803673"
      },
      "source": [
        "# Sprint 2: Preparación Proyecto"
      ]
    },
    {
      "cell_type": "markdown",
      "id": "02608763",
      "metadata": {
        "id": "02608763"
      },
      "source": [
        "## Objetivo de la Clase\n",
        "Seguiremos explorando los conceptos básicos de python pero en esta ocasion abordaremos ejercicios complejos que nos permitirán desarrollar nuestra lógica de programación y crear código utilizando todas las funciones y métodos vistos hasta ahora."
      ]
    },
    {
      "cell_type": "markdown",
      "id": "f6ghZXFjOK1l",
      "metadata": {
        "id": "f6ghZXFjOK1l"
      },
      "source": []
    },
    {
      "cell_type": "markdown",
      "id": "ab8c32d8-8274-411c-beb6-703d5b4ad019",
      "metadata": {
        "id": "ab8c32d8-8274-411c-beb6-703d5b4ad019",
        "jp-MarkdownHeadingCollapsed": true
      },
      "source": [
        "#### Ejercicio 0: Recordemos funciones"
      ]
    },
    {
      "cell_type": "markdown",
      "id": "195b3278-bd10-4f4f-9e5e-e7a44ffaaf32",
      "metadata": {
        "id": "195b3278-bd10-4f4f-9e5e-e7a44ffaaf32"
      },
      "source": [
        "Filtremos a partir de una categoria de una lista anidada."
      ]
    },
    {
      "cell_type": "code",
      "execution_count": 2,
      "id": "51af20fb-4cf4-491c-94fb-ed8bc79311b1",
      "metadata": {
        "id": "51af20fb-4cf4-491c-94fb-ed8bc79311b1"
      },
      "outputs": [],
      "source": [
        "# Inventory list\n",
        "inventory = [\n",
        "    ['P001', 'Smartphone', ['electronics', 'gadgets'], [50, 30, 20]],\n",
        "    ['P002', 'Laptop', ['electronics', 'computers'], [25, 15, 10]],\n",
        "    ['P003', 'T-Shirt', ['clothing', 'sportswear'], [100, 200]],\n",
        "    ['P004', 'Headphones', ['electronics', 'gadgets', 'audio'], [80, 50]],\n",
        "    ['P005', 'Running Shoes', ['clothing', 'sportswear', 'footwear'], [40, 60]],\n",
        "    ['P006', 'Blender', ['kitchen', 'home appliances'], [15, 25]],\n",
        "    ['P007', 'Microwave', ['kitchen', 'home appliances'], [10, 5]],\n",
        "    ['P008', 'Sofa', ['furniture', 'living room'], [8, 12]],\n",
        "    ['P009', 'Notebook', ['stationery', 'office'], [150, 200]],\n",
        "    ['P010', 'Backpack', ['sportswear', 'travel'], [30, 45]]\n",
        "]"
      ]
    },
    {
      "cell_type": "code",
      "execution_count": 3,
      "id": "e771d7cf-b1a8-4636-9177-71e5d87d0f45",
      "metadata": {
        "colab": {
          "base_uri": "https://localhost:8080/"
        },
        "id": "e771d7cf-b1a8-4636-9177-71e5d87d0f45",
        "outputId": "90d33f8f-f26e-4586-aabb-e0f16ddbd97d"
      },
      "outputs": [
        {
          "data": {
            "text/plain": [
              "[['P001', 'Smartphone', ['electronics', 'gadgets'], [50, 30, 20]],\n",
              " ['P002', 'Laptop', ['electronics', 'computers'], [25, 15, 10]],\n",
              " ['P004', 'Headphones', ['electronics', 'gadgets', 'audio'], [80, 50]]]"
            ]
          },
          "execution_count": 3,
          "metadata": {},
          "output_type": "execute_result"
        }
      ],
      "source": [
        "#Filtramos a partir de una lista anidada\n",
        "def filter_inventory_by_category(category, list):\n",
        "    filtered_items = []\n",
        "    for items in list:\n",
        "        if category in items[2]:\n",
        "            filtered_items.append(items)\n",
        "    return filtered_items\n",
        "# Filtramos por la categoria 'electronics'\n",
        "filter_inventory_by_category('electronics', inventory)\n",
        "    \n"
      ]
    },
    {
      "cell_type": "code",
      "execution_count": 5,
      "id": "DuCliDEdH30T",
      "metadata": {
        "id": "DuCliDEdH30T"
      },
      "outputs": [
        {
          "data": {
            "text/plain": [
              "[{'id': 'P006',\n",
              "  'name': 'Blender',\n",
              "  'category': ['kitchen', 'home appliances'],\n",
              "  'stock': [15, 25]},\n",
              " {'id': 'P007',\n",
              "  'name': 'Microwave',\n",
              "  'category': ['kitchen', 'home appliances'],\n",
              "  'stock': [10, 5]}]"
            ]
          },
          "execution_count": 5,
          "metadata": {},
          "output_type": "execute_result"
        }
      ],
      "source": [
        "def get_products_by_category(inventory, id_index, name_index, category_index, stock_index, category):\n",
        "    nueva_lista = []\n",
        "    for producto in inventory:\n",
        "        if category in producto[category_index]:\n",
        "            nuevo_producto = {\n",
        "                'id': producto[id_index],\n",
        "                'name': producto[name_index],\n",
        "                'category': producto[category_index],\n",
        "                'stock': producto[stock_index]\n",
        "            }\n",
        "            nueva_lista.append(nuevo_producto)\n",
        "    return nueva_lista\n",
        "# Obtenemos los productos de la categoria 'electronics'\n",
        "get_products_by_category(inventory, 0, 1, 2, 3, 'kitchen')"
      ]
    },
    {
      "cell_type": "markdown",
      "id": "d4335d36-1e9f-4721-ab5e-546b14c28be5",
      "metadata": {
        "id": "d4335d36-1e9f-4721-ab5e-546b14c28be5"
      },
      "source": [
        "- [ ] **Check:** Los parámetros de la funcion ingresan como enteros. ¿Crees que la funcion caiga en un error si se pasan string?."
      ]
    },
    {
      "cell_type": "code",
      "execution_count": 6,
      "id": "mHIFbL_g8TMJ",
      "metadata": {
        "colab": {
          "base_uri": "https://localhost:8080/"
        },
        "id": "mHIFbL_g8TMJ",
        "outputId": "186c9df2-a5e4-4d36-9bd3-e3fb8c0bb676"
      },
      "outputs": [
        {
          "data": {
            "text/plain": [
              "[{'id': 'P001',\n",
              "  'name': 'Smartphone',\n",
              "  'category': ['electronics', 'gadgets'],\n",
              "  'stock': [50, 30, 20]},\n",
              " {'id': 'P002',\n",
              "  'name': 'Laptop',\n",
              "  'category': ['electronics', 'computers'],\n",
              "  'stock': [25, 15, 10]},\n",
              " {'id': 'P004',\n",
              "  'name': 'Headphones',\n",
              "  'category': ['electronics', 'gadgets', 'audio'],\n",
              "  'stock': [80, 50]}]"
            ]
          },
          "execution_count": 6,
          "metadata": {},
          "output_type": "execute_result"
        }
      ],
      "source": [
        "get_products_by_category(inventory, 0, 1, 2, 3, 'electronics')"
      ]
    },
    {
      "cell_type": "markdown",
      "id": "2f5410b9-cdb2-4a43-b754-03ab8c3d8bba",
      "metadata": {
        "id": "2f5410b9-cdb2-4a43-b754-03ab8c3d8bba",
        "jp-MarkdownHeadingCollapsed": true
      },
      "source": [
        "#### Ejercicio 1: Variables globales"
      ]
    },
    {
      "cell_type": "markdown",
      "id": "8e2da02f-9c82-44b3-850a-c158f661a85a",
      "metadata": {
        "id": "8e2da02f-9c82-44b3-850a-c158f661a85a"
      },
      "source": [
        "Creemos una variable global, y editemosla desde una función.\n",
        "- **Hint**: Hagamos una operación de `+=`."
      ]
    },
    {
      "cell_type": "code",
      "execution_count": 8,
      "id": "02986d5d-52a6-4da8-b6c3-5021e4349b07",
      "metadata": {
        "id": "02986d5d-52a6-4da8-b6c3-5021e4349b07"
      },
      "outputs": [],
      "source": [
        "#Creamos una variable global, y editemosla desde una funcion\n",
        "total_stock = 0\n",
        "def add_stock(amount):\n",
        "    global total_stock\n",
        "    total_stock += amount\n",
        "    print(f\"Stock global actualizado: {total_stock}\")"
      ]
    },
    {
      "cell_type": "code",
      "execution_count": 11,
      "id": "b2a19389-a157-41d1-93a4-a316b9872ae0",
      "metadata": {
        "id": "b2a19389-a157-41d1-93a4-a316b9872ae0"
      },
      "outputs": [
        {
          "name": "stdout",
          "output_type": "stream",
          "text": [
            "Stock global actualizado: 550\n"
          ]
        }
      ],
      "source": [
        "# Realiza operaciones para agregar stock\n",
        "#add_stock(100)  # Agregar 100 productos\n",
        "#add_stock(250)  # Agregar 250 productos\n",
        "add_stock(100)  # Agregar 100 productos"
      ]
    },
    {
      "cell_type": "markdown",
      "id": "d97fff90-a26c-4fb5-99ba-454cdc7c0a40",
      "metadata": {
        "id": "d97fff90-a26c-4fb5-99ba-454cdc7c0a40"
      },
      "source": [
        "- [ ] **Check:** Recordemos como se comportan las variables dentro de ciclos `for` o funciones."
      ]
    },
    {
      "cell_type": "markdown",
      "id": "3c688cce-7b76-4498-9493-52dc869cca74",
      "metadata": {
        "id": "3c688cce-7b76-4498-9493-52dc869cca74",
        "jp-MarkdownHeadingCollapsed": true
      },
      "source": [
        "#### Ejercicio 2: Gestión inventario de herramientas"
      ]
    },
    {
      "cell_type": "markdown",
      "id": "8ce04147",
      "metadata": {
        "id": "8ce04147",
        "jp-MarkdownHeadingCollapsed": true
      },
      "source": [
        "A partir de un inventario (una lista vacia) vamos a crear diferentes funciones que me permitan modificar esta lista vacia. Esto es:\n",
        "- Creemos una funcion llamada `add_tool` que me permita agregar una herramienta a la lista (simplemente un elemento). Por ejemplo: `name`, `category` y `available`.\n",
        "- `check_availability` que a partir del `name` me indique si la herramienta está disponible.\n",
        "- `lend_tool` que me permita alterar el `available` para indicar que la herramienta no está disponible\n",
        "\n",
        "- **Hint**: En cada punto hacemos una operación: Agregar, filtrar y alterar elementos."
      ]
    },
    {
      "cell_type": "code",
      "execution_count": null,
      "id": "11db104f-b8d4-48e6-8873-4fa41b23d69f",
      "metadata": {
        "id": "11db104f-b8d4-48e6-8873-4fa41b23d69f"
      },
      "outputs": [],
      "source": [
        "inventory = []"
      ]
    },
    {
      "cell_type": "code",
      "execution_count": 23,
      "id": "9fa52379-6262-4cb1-941f-abfba585a11e",
      "metadata": {
        "id": "9fa52379-6262-4cb1-941f-abfba585a11e"
      },
      "outputs": [],
      "source": [
        "\n",
        "inventory = []\n",
        "\n",
        "# Tarea 1: encapsular el agregar una herramienta\n",
        "def add_tool(name, category, available=True):\n",
        "    tool = {\n",
        "        'name': name,\n",
        "        'category': category,\n",
        "        'available': available\n",
        "    }\n",
        "    inventory.append(tool)\n",
        "\n",
        "\n",
        "# Tarea 2: encapsular la comprobación de disponibilidad de herramienta\n",
        "def check_availability(tool_name):\n",
        "    for tool in inventory:\n",
        "        if tool['name'] == tool_name:\n",
        "            return tool['available']\n",
        "    return False\n",
        "\n",
        "# Tarea 3: encapsular el préstamo de una herramienta\n",
        "def lend_tool(tool_name):\n",
        "    for tool in inventory:\n",
        "        if tool['name'] == tool_name:\n",
        "            if tool['available']:\n",
        "                tool['available'] = False\n",
        "                print(f\"{tool_name} ha sido prestada.\")\n",
        "            else:\n",
        "                print(f\"{tool_name} no está disponible para préstamo.\")\n",
        "    print(f\"{tool_name} no se encuentra en el inventario.\")\n"
      ]
    },
    {
      "cell_type": "code",
      "execution_count": null,
      "id": "rFXv9q-uRELj",
      "metadata": {
        "id": "rFXv9q-uRELj"
      },
      "outputs": [
        {
          "data": {
            "text/plain": [
              "[{'name': 'Martillo', 'category': 'Manual', 'available': True},\n",
              " {'name': 'Martillo', 'category': 'Manual', 'available': True},\n",
              " {'name': 'Martillo', 'category': 'Manual', 'available': True},\n",
              " {'name': 'Martillo', 'category': 'Manual', 'available': True}]"
            ]
          },
          "execution_count": 16,
          "metadata": {},
          "output_type": "execute_result"
        }
      ],
      "source": [
        "# Agregar la herramienta 'Martillo' a nuestro inventario, mencionando que está disponible y que pertenece a la categoría Manual.\n",
        "#add_tool(\"Martillo\", \"Manual\", available=True)\n",
        "inventory"
      ]
    },
    {
      "cell_type": "code",
      "execution_count": 18,
      "id": "-KC0HCAPRXt1",
      "metadata": {
        "colab": {
          "base_uri": "https://localhost:8080/"
        },
        "id": "-KC0HCAPRXt1",
        "outputId": "24a9fed2-8359-46d0-8ec6-c494372292dd"
      },
      "outputs": [
        {
          "data": {
            "text/plain": [
              "True"
            ]
          },
          "execution_count": 18,
          "metadata": {},
          "output_type": "execute_result"
        }
      ],
      "source": [
        "# Comprobar la disponibilidad de la herramienta 'Martillo'\n",
        "check_availability(\"Martillo\")"
      ]
    },
    {
      "cell_type": "code",
      "execution_count": 24,
      "id": "S_CcUnczRd8t",
      "metadata": {
        "id": "S_CcUnczRd8t"
      },
      "outputs": [
        {
          "name": "stdout",
          "output_type": "stream",
          "text": [
            "Martillo no se encuentra en el inventario.\n"
          ]
        }
      ],
      "source": [
        "# Comprobar si la herramienta 'Martillo' está prestada o no.\n",
        "lend_tool(\"Martillo\")"
      ]
    },
    {
      "cell_type": "markdown",
      "id": "7763e300",
      "metadata": {
        "id": "7763e300"
      },
      "source": [
        "- [ ] **Check:** Un repaso completo de los dos sprints."
      ]
    },
    {
      "cell_type": "markdown",
      "id": "68b0d0c7",
      "metadata": {
        "id": "68b0d0c7"
      },
      "source": [
        "### Conclusiones"
      ]
    },
    {
      "cell_type": "markdown",
      "id": "eb5f8b31-6cf0-4a3d-96cb-ce367da3527e",
      "metadata": {
        "id": "eb5f8b31-6cf0-4a3d-96cb-ce367da3527e"
      },
      "source": [
        "Hoy nos hemos realizado un repaso exhaustivo de los conceptos aprendidos en el Sprint 1 y 2, desde como crear variables hasta como crear programar tu sistema de gestión de inventario utilizando el uso de funciones avanzada, condicionales y bucles. GENIAL!!!"
      ]
    },
    {
      "cell_type": "markdown",
      "id": "7458bda6",
      "metadata": {
        "id": "7458bda6"
      },
      "source": [
        "### Takeaways"
      ]
    },
    {
      "cell_type": "markdown",
      "id": "-SZfFsOd60_K",
      "metadata": {
        "id": "-SZfFsOd60_K"
      },
      "source": [
        "- ¿Qué nos llevamos el día de hoy?"
      ]
    }
  ],
  "metadata": {
    "colab": {
      "provenance": []
    },
    "kernelspec": {
      "display_name": "base",
      "language": "python",
      "name": "python3"
    },
    "language_info": {
      "codemirror_mode": {
        "name": "ipython",
        "version": 3
      },
      "file_extension": ".py",
      "mimetype": "text/x-python",
      "name": "python",
      "nbconvert_exporter": "python",
      "pygments_lexer": "ipython3",
      "version": "3.12.7"
    }
  },
  "nbformat": 4,
  "nbformat_minor": 5
}
