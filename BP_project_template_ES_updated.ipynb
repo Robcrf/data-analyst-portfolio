{
 "cells": [
  {
   "cell_type": "markdown",
   "metadata": {},
   "source": [
    "# ¡Hola Roberto! <a class=\"tocSkip\"></a>\n",
    "\n",
    "Mi nombre es Oscar Flores y tengo el gusto de revisar tu proyecto. Si tienes algún comentario que quieras agregar en tus respuestas te puedes referir a mi como Oscar, no hay problema que me trates de tú.\n",
    "\n",
    "Si veo un error en la primera revisión solamente lo señalaré y dejaré que tú encuentres de qué se trata y cómo arreglarlo. Debo prepararte para que te desempeñes como especialista en Data, en un trabajo real, el responsable a cargo tuyo hará lo mismo. Si aún tienes dificultades para resolver esta tarea, te daré indicaciones más precisas en una siguiente iteración.\n",
    "\n",
    "Te dejaré mis comentarios más abajo - **por favor, no los muevas, modifiques o borres**\n",
    "\n",
    "Comenzaré mis comentarios con un resumen de los puntos que están bien, aquellos que debes corregir y aquellos que puedes mejorar. Luego deberás revisar todo el notebook para leer mis comentarios, los cuales estarán en rectángulos de color verde, amarillo o rojo como siguen:\n",
    "\n",
    "<div class='alert alert-block alert-success'>\n",
    "<b>Comentario de Reviewer</b> <a class='tocSkip'></a>\n",
    "\n",
    "Muy bien! Toda la respuesta fue lograda satisfactoriamente.\n",
    "</div>\n",
    "\n",
    "<div class='alert alert-block alert-warning'>\n",
    "<b>Comentario de Reviewer</b> <a class='tocSkip'></a>\n",
    "\n",
    "Existen detalles a mejorar. Existen recomendaciones.\n",
    "</div>\n",
    "\n",
    "<div class='alert alert-block alert-danger'>\n",
    "\n",
    "<b>Comentario de Reviewer</b> <a class='tocSkip'></a>\n",
    "\n",
    "Se necesitan correcciones en el bloque. El trabajo no puede ser aceptado con comentarios en rojo sin solucionar.\n",
    "</div>\n",
    "\n",
    "Cualquier comentario que quieras agregar entre iteraciones de revisión lo puedes hacer de la siguiente manera:\n",
    "\n",
    "<div class='alert alert-block alert-info'>\n",
    "<b>Respuesta estudiante.</b> <a class='tocSkip'></a>\n",
    "</div>\n",
    "\n",
    "Mucho éxito en el proyecto!"
   ]
  },
  {
   "cell_type": "markdown",
   "metadata": {},
   "source": [
    "## Resumen de la revisión v1 <a class=\"tocSkip\"></a>"
   ]
  },
  {
   "cell_type": "markdown",
   "metadata": {},
   "source": [
    "<div class=\"alert alert-block alert-success\">\n",
    "<b>Comentario de Revisor</b> <a class=\"tocSkip\"></a>\n",
    "\n",
    "Buen trabajo Roberto! Has completado correctamente todo lo necesario del notebook, realizaste un gran trabajo aplicando los conocimientos de analítica necesarios, se nota que los manejas muy bien. No tengo comentarios de corrección, tu proyecto está aprobado. Felicitaciones por completar el notebook en la primera revisión, mucho éxito en el siguiente sprint!\n",
    "\n",
    "Saludos!\n",
    "\n",
    "</div>"
   ]
  },
  {
   "cell_type": "markdown",
   "metadata": {},
   "source": [
    "----"
   ]
  },
  {
   "cell_type": "markdown",
   "metadata": {
    "id": "E0vqbgi9ay0H"
   },
   "source": [
    "# Déjame escuchar música"
   ]
  },
  {
   "cell_type": "markdown",
   "metadata": {
    "id": "VUC88oWjTJw2"
   },
   "source": [
    "Los datos están almacenados en el archivo `/datasets/music_project_en.csv`.\n",
    "\n",
    "¡Ahora sí, manos al código!\n"
   ]
  },
  {
   "cell_type": "markdown",
   "metadata": {
    "id": "Ml1hmfXC_Zcs"
   },
   "source": [
    "## Etapa 1. Descripción de los datos <a id='data_review'></a>\n",
    "\n",
    "Abre los datos y examínalos."
   ]
  },
  {
   "cell_type": "markdown",
   "metadata": {
    "id": "57eAOGIz_Zcs"
   },
   "source": [
    "Etapa 1.1. Necesitarás `pandas`, así que impórtalo."
   ]
  },
  {
   "cell_type": "code",
   "execution_count": 28,
   "metadata": {
    "id": "AXN7PHPN_Zcs"
   },
   "outputs": [],
   "source": [
    "# Importa pandas\n",
    "import pandas as pd"
   ]
  },
  {
   "cell_type": "markdown",
   "metadata": {
    "id": "QTgizB8FN3OV"
   },
   "source": [
    "<details>\n",
    "<summary>Haz clic para ver la pista</summary>\n",
    "\n",
    "Para usar `pandas`, necesitas la palabra clave `import` seguida del nombre de la biblioteca y un alias.\n"
   ]
  },
  {
   "cell_type": "markdown",
   "metadata": {
    "id": "SG23P8tt_Zcs"
   },
   "source": [
    "Etapa 1.2. Lee el archivo `music_project_en.csv` de la carpeta `/datasets/` y guárdalo en la variable `df`:"
   ]
  },
  {
   "cell_type": "code",
   "execution_count": 29,
   "metadata": {
    "id": "fFVu7vqh_Zct"
   },
   "outputs": [],
   "source": [
    "# Lee el archivo y almacénalo en df\n",
    "df = pd.read_csv('/Users/robertohernandezluna/Downloads/music_project_en.csv')"
   ]
  },
  {
   "cell_type": "markdown",
   "metadata": {
    "id": "rzbIaFcaN5d_"
   },
   "source": [
    "<details>\n",
    "<summary>Haz clic para ver la pista</summary>\n",
    "\n",
    "Usa la palabra clave `read_csv` para leer el archivo CSV. Asegúrate de incluir la ruta `/datasets/music_project_en.csv` y guarda el resultado en la variable `df`."
   ]
  },
  {
   "cell_type": "markdown",
   "metadata": {
    "id": "rDoOMd3uTqnZ"
   },
   "source": [
    "Etapa 1.3. Muestra las 10 primeras filas de la tabla:"
   ]
  },
  {
   "cell_type": "code",
   "execution_count": 30,
   "metadata": {
    "id": "oWTVX3gW_Zct"
   },
   "outputs": [
    {
     "data": {
      "text/html": [
       "<div>\n",
       "<style scoped>\n",
       "    .dataframe tbody tr th:only-of-type {\n",
       "        vertical-align: middle;\n",
       "    }\n",
       "\n",
       "    .dataframe tbody tr th {\n",
       "        vertical-align: top;\n",
       "    }\n",
       "\n",
       "    .dataframe thead th {\n",
       "        text-align: right;\n",
       "    }\n",
       "</style>\n",
       "<table border=\"1\" class=\"dataframe\">\n",
       "  <thead>\n",
       "    <tr style=\"text-align: right;\">\n",
       "      <th></th>\n",
       "      <th>userID</th>\n",
       "      <th>Track</th>\n",
       "      <th>artist</th>\n",
       "      <th>genre</th>\n",
       "      <th>City</th>\n",
       "      <th>time</th>\n",
       "      <th>Day</th>\n",
       "    </tr>\n",
       "  </thead>\n",
       "  <tbody>\n",
       "    <tr>\n",
       "      <th>0</th>\n",
       "      <td>FFB692EC</td>\n",
       "      <td>Kamigata To Boots</td>\n",
       "      <td>The Mass Missile</td>\n",
       "      <td>rock</td>\n",
       "      <td>Shelbyville</td>\n",
       "      <td>20:28:33</td>\n",
       "      <td>Wednesday</td>\n",
       "    </tr>\n",
       "    <tr>\n",
       "      <th>1</th>\n",
       "      <td>55204538</td>\n",
       "      <td>Delayed Because of Accident</td>\n",
       "      <td>Andreas Rönnberg</td>\n",
       "      <td>rock</td>\n",
       "      <td>Springfield</td>\n",
       "      <td>14:07:09</td>\n",
       "      <td>Friday</td>\n",
       "    </tr>\n",
       "    <tr>\n",
       "      <th>2</th>\n",
       "      <td>20EC38</td>\n",
       "      <td>Funiculì funiculà</td>\n",
       "      <td>Mario Lanza</td>\n",
       "      <td>pop</td>\n",
       "      <td>Shelbyville</td>\n",
       "      <td>20:58:07</td>\n",
       "      <td>Wednesday</td>\n",
       "    </tr>\n",
       "    <tr>\n",
       "      <th>3</th>\n",
       "      <td>A3DD03C9</td>\n",
       "      <td>Dragons in the Sunset</td>\n",
       "      <td>Fire + Ice</td>\n",
       "      <td>folk</td>\n",
       "      <td>Shelbyville</td>\n",
       "      <td>08:37:09</td>\n",
       "      <td>Monday</td>\n",
       "    </tr>\n",
       "    <tr>\n",
       "      <th>4</th>\n",
       "      <td>E2DC1FAE</td>\n",
       "      <td>Soul People</td>\n",
       "      <td>Space Echo</td>\n",
       "      <td>dance</td>\n",
       "      <td>Springfield</td>\n",
       "      <td>08:34:34</td>\n",
       "      <td>Monday</td>\n",
       "    </tr>\n",
       "    <tr>\n",
       "      <th>5</th>\n",
       "      <td>842029A1</td>\n",
       "      <td>Chains</td>\n",
       "      <td>Obladaet</td>\n",
       "      <td>rusrap</td>\n",
       "      <td>Shelbyville</td>\n",
       "      <td>13:09:41</td>\n",
       "      <td>Friday</td>\n",
       "    </tr>\n",
       "    <tr>\n",
       "      <th>6</th>\n",
       "      <td>4CB90AA5</td>\n",
       "      <td>True</td>\n",
       "      <td>Roman Messer</td>\n",
       "      <td>dance</td>\n",
       "      <td>Springfield</td>\n",
       "      <td>13:00:07</td>\n",
       "      <td>Wednesday</td>\n",
       "    </tr>\n",
       "    <tr>\n",
       "      <th>7</th>\n",
       "      <td>F03E1C1F</td>\n",
       "      <td>Feeling This Way</td>\n",
       "      <td>Polina Griffith</td>\n",
       "      <td>dance</td>\n",
       "      <td>Springfield</td>\n",
       "      <td>20:47:49</td>\n",
       "      <td>Wednesday</td>\n",
       "    </tr>\n",
       "    <tr>\n",
       "      <th>8</th>\n",
       "      <td>8FA1D3BE</td>\n",
       "      <td>L’estate</td>\n",
       "      <td>Julia Dalia</td>\n",
       "      <td>ruspop</td>\n",
       "      <td>Springfield</td>\n",
       "      <td>09:17:40</td>\n",
       "      <td>Friday</td>\n",
       "    </tr>\n",
       "    <tr>\n",
       "      <th>9</th>\n",
       "      <td>E772D5C0</td>\n",
       "      <td>Pessimist</td>\n",
       "      <td>NaN</td>\n",
       "      <td>dance</td>\n",
       "      <td>Shelbyville</td>\n",
       "      <td>21:20:49</td>\n",
       "      <td>Wednesday</td>\n",
       "    </tr>\n",
       "  </tbody>\n",
       "</table>\n",
       "</div>"
      ],
      "text/plain": [
       "     userID                        Track            artist   genre  \\\n",
       "0  FFB692EC            Kamigata To Boots  The Mass Missile    rock   \n",
       "1  55204538  Delayed Because of Accident  Andreas Rönnberg    rock   \n",
       "2    20EC38            Funiculì funiculà       Mario Lanza     pop   \n",
       "3  A3DD03C9        Dragons in the Sunset        Fire + Ice    folk   \n",
       "4  E2DC1FAE                  Soul People        Space Echo   dance   \n",
       "5  842029A1                       Chains          Obladaet  rusrap   \n",
       "6  4CB90AA5                         True      Roman Messer   dance   \n",
       "7  F03E1C1F             Feeling This Way   Polina Griffith   dance   \n",
       "8  8FA1D3BE                     L’estate       Julia Dalia  ruspop   \n",
       "9  E772D5C0                    Pessimist               NaN   dance   \n",
       "\n",
       "        City        time        Day  \n",
       "0  Shelbyville  20:28:33  Wednesday  \n",
       "1  Springfield  14:07:09     Friday  \n",
       "2  Shelbyville  20:58:07  Wednesday  \n",
       "3  Shelbyville  08:37:09     Monday  \n",
       "4  Springfield  08:34:34     Monday  \n",
       "5  Shelbyville  13:09:41     Friday  \n",
       "6  Springfield  13:00:07  Wednesday  \n",
       "7  Springfield  20:47:49  Wednesday  \n",
       "8  Springfield  09:17:40     Friday  \n",
       "9  Shelbyville  21:20:49  Wednesday  "
      ]
     },
     "execution_count": 30,
     "metadata": {},
     "output_type": "execute_result"
    }
   ],
   "source": [
    "# Obtén las 10 primeras filas de la tabla df\n",
    "df.head(10)"
   ]
  },
  {
   "cell_type": "markdown",
   "metadata": {
    "id": "8n3gC1osN4PF"
   },
   "source": [
    "<details>\n",
    "<summary>Haz clic para ver la pista</summary>\n",
    "\n",
    "Usa el método `head` para ver las primeras filas del DataFrame."
   ]
  },
  {
   "cell_type": "markdown",
   "metadata": {
    "id": "EO73Kwic_Zct"
   },
   "source": [
    "Etapa 1.4. Obtén la información general sobre la tabla con el método info()."
   ]
  },
  {
   "cell_type": "code",
   "execution_count": 31,
   "metadata": {
    "id": "DSf2kIb-_Zct"
   },
   "outputs": [
    {
     "name": "stdout",
     "output_type": "stream",
     "text": [
      "<class 'pandas.core.frame.DataFrame'>\n",
      "RangeIndex: 65079 entries, 0 to 65078\n",
      "Data columns (total 7 columns):\n",
      " #   Column    Non-Null Count  Dtype \n",
      "---  ------    --------------  ----- \n",
      " 0     userID  65079 non-null  object\n",
      " 1   Track     63736 non-null  object\n",
      " 2   artist    57512 non-null  object\n",
      " 3   genre     63881 non-null  object\n",
      " 4     City    65079 non-null  object\n",
      " 5   time      65079 non-null  object\n",
      " 6   Day       65079 non-null  object\n",
      "dtypes: object(7)\n",
      "memory usage: 3.5+ MB\n"
     ]
    }
   ],
   "source": [
    "# Obtén la información general sobre nuestros datos\n",
    "df.info()"
   ]
  },
  {
   "cell_type": "markdown",
   "metadata": {},
   "source": [
    "<div class=\"alert alert-block alert-success\">\n",
    "<b>Comentario de Revisor</b> <a class=\"tocSkip\"></a>\n",
    "\n",
    "Bien, correcto. Usar `head()` e `info()` es muy útil para mostrar un primer vistazo de la data\n",
    "\n",
    "</div>"
   ]
  },
  {
   "cell_type": "markdown",
   "metadata": {
    "id": "VgiKIV41N6rt"
   },
   "source": [
    "<details>\n",
    "<summary>Haz clic para ver la pista</summary>\n",
    "\n",
    "Usa el método `info` para obtener detalles sobre columnas, tipos de datos y valores nulos.\n"
   ]
  },
  {
   "cell_type": "markdown",
   "metadata": {
    "id": "TaQ2Iwbr_Zct"
   },
   "source": [
    "Estas son nuestras observaciones sobre la tabla. Contiene siete columnas que almacenan los mismos tipos de datos: `object`.\n",
    "\n",
    "Según la documentación:\n",
    "- `' userID'`: identificador del usuario;\n",
    "- `'Track'`: título de la canción;\n",
    "- `'artist'`: nombre del artista;\n",
    "- `'genre'`: género de la canción;\n",
    "- `'City'`: ciudad del usuario;\n",
    "- `'time'`: la hora exacta en la que se reprodujo la canción;\n",
    "- `'Day'`: día de la semana.\n",
    "\n",
    "Podemos ver dos problemas con el estilo en los encabezados de la tabla:\n",
    "1. Algunos encabezados están en mayúsculas, otros en minúsculas.\n",
    "2. `Identifica tú mismo el segundo problema y escríbelo aquí.`\n",
    "\n",
    "\n"
   ]
  },
  {
   "cell_type": "markdown",
   "metadata": {},
   "source": [
    "Respuesta: El segundo problema que veo es que los ancabezados tienen espacios en blanco al inicio o al final, lo cual puede causar problemas al referirse a ellos en el código."
   ]
  },
  {
   "cell_type": "markdown",
   "metadata": {
    "id": "MCB6-dXG_Zct"
   },
   "source": [
    "### Escribe algunas observaciones por tu parte. Contesta a las siguientes preguntas: <a id='data_review_conclusions'></a>\n",
    "\n",
    "`1.   ¿Qué tipo de datos hay en las filas? ¿Cómo podemos saber qué almacenan las columnas?`\n",
    "\n",
    "`2.   ¿Hay suficientes datos para proporcionar respuestas a nuestra hipótesis o necesitamos más información?`\n",
    "\n",
    "`3.   ¿Notaste algún problema en los datos, como valores ausentes, duplicados o tipos de datos incorrectos?`"
   ]
  },
  {
   "cell_type": "markdown",
   "metadata": {},
   "source": [
    "#1. El tipo de datos en las filas es de tipo object, lo cual indica que son cadenas de texto. Podemos saber qué almacenan las columnas revisando la documentación proporcionada, que describe el propósito de cada columna.\n",
    "\n",
    "#2. No, hay suficientes datos para proporcionar respuestas a nuestra hipótesis, se observa la presencia de valores nulos, ya que la tabla contiene múltiples columnas con información relevante sobre las canciones, los usuarios y sus hábitos de escucha.\n",
    "\n",
    "#3. Un problema que noté es que los encabezados de las columnas no son consistentes en cuanto a mayúsculas y minúsculas, lo que podría causar confusión al referirse a ellos en el código. Además, algunos encabezados tienen espacios en blanco al inicio o al final, lo cual puede generar errores al intentar acceder a esas columnas."
   ]
  },
  {
   "cell_type": "markdown",
   "metadata": {
    "id": "emewmQcy3m_F"
   },
   "source": [
    "Escribe aquí tus respuestas:\n",
    "\n",
    "1.El tipo de datos que se almacenan en la tabla son strings ya que utilizando el método info() los detcta como tipo object indicando que no hay algún valor numérico.\n",
    "\n",
    "2.Si bien el DataFrame tiene una estructura adecuada se puede observar que hay columnas como 'Track','Artist' y 'genere' que tienen datos vacios debido a que su total debería ser 65079 y se estas columnas muestran menos datos lo que indica que por le momento no hay suficientes datos para determinar respuestas de manera completa.\n",
    "\n",
    "3.Si encontré columnas con filas vacías -valores ausentes-, y también observo que la calidad de los datos no es buena debido a que hay nombres de columas con espacios, y los nombres de unas columnas están en mayúsculas y otras en minúsculas lo que puede dificultar el análisis de datos."
   ]
  },
  {
   "cell_type": "markdown",
   "metadata": {},
   "source": [
    "<div class=\"alert alert-block alert-success\">\n",
    "<b>Comentario de Revisor </b> <a class=\"tocSkip\"></a>\n",
    "\n",
    "Muy bien, de acuerdo con tus respuestas, te comento:\n",
    "    \n",
    " 1. Muy bien\n",
    " 2. OK, así es. Todo depende de la hipótesis que se nos formule y la variedad de la data. Esto lo veremos cuando la exploremos un poco más.\n",
    " 3. Bien, correcto.\n",
    "\n",
    "</div>"
   ]
  },
  {
   "cell_type": "markdown",
   "metadata": {
    "id": "SjYF6Ub9_Zct"
   },
   "source": [
    "## Etapa 2. Preprocesamiento de los datos <a id='data_preprocessing'></a>\n",
    "\n",
    "Tu objetivo aquí es preparar los datos para analizarlos.\n",
    "El primer paso es resolver los problemas con los encabezados. Después podemos avanzar a los valores ausentes y duplicados. ¡Empecemos!\n",
    "\n",
    "Vamos a corregir el formato en los encabezados de la tabla.\n"
   ]
  },
  {
   "cell_type": "markdown",
   "metadata": {
    "id": "dIaKXr29_Zct"
   },
   "source": [
    "### Estilo del encabezado <a id='header_style'></a>\n",
    "Etapa 2.1. Muestra los encabezados de la tabla (los nombres de las columnas):"
   ]
  },
  {
   "cell_type": "code",
   "execution_count": 32,
   "metadata": {
    "id": "oKOTdF_Q_Zct"
   },
   "outputs": [
    {
     "data": {
      "text/plain": [
       "['  userID', 'Track', 'artist', 'genre', '  City  ', 'time', 'Day']"
      ]
     },
     "execution_count": 32,
     "metadata": {},
     "output_type": "execute_result"
    }
   ],
   "source": [
    "# Muestra los nombres de las columnas\n",
    "df.columns.to_list()"
   ]
  },
  {
   "cell_type": "markdown",
   "metadata": {
    "id": "QzB1N3zrN_Fu"
   },
   "source": [
    "<details>\n",
    "<summary>Haz clic para ver la pista</summary>\n",
    "\n",
    "Usa el atributo `.columns` para ver todos los nombres de las columnas en el DataFrame.\n"
   ]
  },
  {
   "cell_type": "markdown",
   "metadata": {
    "id": "zj5534cv_Zct"
   },
   "source": [
    "Vamos cambiar los encabezados de la tabla siguiendo las reglas estilísticas convencionales:\n",
    "*   Todos los caracteres deben ser minúsculas.\n",
    "*   Elimina los espacios.\n",
    "*   Si el nombre tiene varias palabras, utiliza snake_case, es decir, añade un guion bajo ( _ ) entre las palabras en lugar de un espacio.\n"
   ]
  },
  {
   "cell_type": "markdown",
   "metadata": {
    "id": "Xu0zkfe5zNJe"
   },
   "source": [
    "\n",
    "Etapa 2.2. Utiliza el bucle for para iterar sobre los nombres de las columnas y poner todos los caracteres en minúsculas. Cuando hayas terminado, vuelve a mostrar los encabezados de la tabla:"
   ]
  },
  {
   "cell_type": "markdown",
   "metadata": {
    "id": "pweIRxjSzPYW"
   },
   "source": [
    "Etapa 2.3. Ahora, utilizando el mismo método, elimina los espacios al principio y al final de los nombres de las columnas y muestra los nombres de las columnas de nuevo:"
   ]
  },
  {
   "cell_type": "markdown",
   "metadata": {
    "id": "DNHRpuSyOBPd"
   },
   "source": [
    "<details>\n",
    "<summary>Haz clic para ver la pista</summary>\n",
    "\n",
    "Usa un `for` para recorrer `df.columns` y aplica `.lower()` a cada nombre. Luego, asigna la lista resultante de nuevo a `df.columns`.\n"
   ]
  },
  {
   "cell_type": "markdown",
   "metadata": {
    "id": "dfh7DxFiOChP"
   },
   "source": [
    "<details>\n",
    "<summary>Haz clic para ver la pista</summary>\n",
    "\n",
    "Usa `.strip()` dentro del bucle para limpiar los nombres de columnas. Asegúrate de reasignar los nuevos nombres a `df.columns`.\n"
   ]
  },
  {
   "cell_type": "markdown",
   "metadata": {
    "id": "yCb8MW1JzURd"
   },
   "source": [
    "Etapa 2.4. Necesitamos aplicar la regla de snake_case en la columna `userid`. Debe ser `user_id`. Cambia el nombre de esta columna y muestra los nombres de todas las columnas cuando hayas terminado."
   ]
  },
  {
   "cell_type": "code",
   "execution_count": 33,
   "metadata": {
    "id": "6I_RwwMhzM4e"
   },
   "outputs": [],
   "source": [
    "# Bucle que itera sobre los encabezados y los pone todos en minúsculas\n",
    "\n",
    "new_columns = []\n",
    "\n",
    "for column in df.columns:\n",
    "    column_lower = column.lower().strip().replace(' ','_')\n",
    "    new_columns.append(column_lower)\n",
    "\n",
    "df.columns = new_columns"
   ]
  },
  {
   "cell_type": "markdown",
   "metadata": {
    "id": "jYBUtVrzODMV"
   },
   "source": [
    "<details>\n",
    "<summary>Haz clic para ver la pista</summary>\n",
    "\n",
    "Usa el método `.rename()` con el parámetro `columns` para cambiar `userid` a `user_id`. No olvides establecer `inplace=True` o reasignar a `df`."
   ]
  },
  {
   "cell_type": "markdown",
   "metadata": {
    "id": "1dqbh00J_Zct"
   },
   "source": [
    "Etapa 2.5. Comprueba el resultado. Muestra los encabezados una vez más:"
   ]
  },
  {
   "cell_type": "markdown",
   "metadata": {
    "id": "3bf_tmneOEPV"
   },
   "source": [
    "<details>\n",
    "<summary>Haz clic para ver la pista</summary>\n",
    "\n",
    "Usa `.columns` para volver a ver los nombres actualizados de las columnas."
   ]
  },
  {
   "cell_type": "code",
   "execution_count": 35,
   "metadata": {
    "id": "d4NOAmTW_Zct"
   },
   "outputs": [
    {
     "data": {
      "text/plain": [
       "['user_id', 'track', 'artist', 'genre', 'city', 'time', 'day']"
      ]
     },
     "execution_count": 35,
     "metadata": {},
     "output_type": "execute_result"
    }
   ],
   "source": [
    "# Comprueba el resultado: lista de encabezados\n",
    "\n",
    "df.rename(columns={'userid':'user_id'},inplace=True)\n",
    "\n",
    "df.columns.to_list()"
   ]
  },
  {
   "cell_type": "markdown",
   "metadata": {},
   "source": [
    "<div class=\"alert alert-block alert-success\">\n",
    "<b>Comentario de Revisor</b> <a class=\"tocSkip\"></a>\n",
    "\n",
    "Muy bien, el uso de snakecase siempre es bienvenido, aunque existen otros formatos. En TripleTen, daremos preferencia a este.\n",
    "\n",
    "</div>"
   ]
  },
  {
   "cell_type": "markdown",
   "metadata": {
    "id": "5ISfbcfY_Zct"
   },
   "source": [
    "### Valores ausentes <a id='missing_values'></a>\n",
    " Etapa 2.5. Primero, encuentra el número de valores ausentes en la tabla. Debes utilizar dos métodos para obtener el número de valores ausentes."
   ]
  },
  {
   "cell_type": "markdown",
   "metadata": {
    "id": "pYoO_DBgNuEu"
   },
   "source": [
    "<details>\n",
    "<summary>Haz clic para ver la pista</summary>\n",
    "\n",
    "Usa `.isna()` para detectar los valores ausentes y combínalo con el método `.sum()` para contar cuántos hay por columna.\n"
   ]
  },
  {
   "cell_type": "code",
   "execution_count": 36,
   "metadata": {
    "id": "RskX29qr_Zct"
   },
   "outputs": [
    {
     "data": {
      "text/plain": [
       "user_id       0\n",
       "track      1343\n",
       "artist     7567\n",
       "genre      1198\n",
       "city          0\n",
       "time          0\n",
       "day           0\n",
       "dtype: int64"
      ]
     },
     "execution_count": 36,
     "metadata": {},
     "output_type": "execute_result"
    }
   ],
   "source": [
    "# Calcula el número de valores ausentes\n",
    "df.isna().sum()"
   ]
  },
  {
   "cell_type": "markdown",
   "metadata": {
    "id": "fSv2laPA_Zct"
   },
   "source": [
    "Etapa 2.6. Sustituye los valores ausentes en las columnas `'track'`, `'artist'` y `'genre'` con el string `'unknown'`.\n",
    "\n",
    "1. Crea una lista llamada columns_to_replace que contenga los nombres de las columnas 'track', 'artist' y 'genre'.\n",
    "\n",
    "2. Usa un bucle for para iterar sobre cada columna en columns_to_replace.\n",
    "\n",
    "3. Dentro del bucle, sustituye los valores ausentes en cada columna con el string `'unknown'`."
   ]
  },
  {
   "cell_type": "markdown",
   "metadata": {
    "id": "tZmzT1yGNw72"
   },
   "source": [
    "<details>\n",
    "<summary>Haz clic para ver la pista</summary>\n",
    "\n",
    "Crea una lista con los nombres de las columnas y usa un `for` para recorrerla. Dentro del bucle, aplica `.fillna('unknown')` a cada una."
   ]
  },
  {
   "cell_type": "code",
   "execution_count": 61,
   "metadata": {
    "id": "KplB5qWs_Zct"
   },
   "outputs": [
    {
     "name": "stderr",
     "output_type": "stream",
     "text": [
      "/var/folders/57/kn6hhqmx3y54ym5nw_tlnx100000gn/T/ipykernel_2147/359706182.py:6: FutureWarning: A value is trying to be set on a copy of a DataFrame or Series through chained assignment using an inplace method.\n",
      "The behavior will change in pandas 3.0. This inplace method will never work because the intermediate object on which we are setting values always behaves as a copy.\n",
      "\n",
      "For example, when doing 'df[col].method(value, inplace=True)', try using 'df.method({col: value}, inplace=True)' or df[col] = df[col].method(value) instead, to perform the operation inplace on the original object.\n",
      "\n",
      "\n",
      "  df[column].fillna('unokwn',inplace=True)\n"
     ]
    },
    {
     "data": {
      "text/plain": [
       "user_id    0\n",
       "track      0\n",
       "artist     0\n",
       "genre      0\n",
       "city       0\n",
       "time       0\n",
       "day        0\n",
       "dtype: int64"
      ]
     },
     "execution_count": 61,
     "metadata": {},
     "output_type": "execute_result"
    }
   ],
   "source": [
    "# Bucle en los encabezados reemplazando los valores ausentes con 'unknown'\n",
    "\n",
    "columns_to_replace = ['track','artist','genre']\n",
    "\n",
    "for column in columns_to_replace:\n",
    "    df[column].fillna('unokwn',inplace=True)  \n",
    "\n",
    "df.isna().sum()"
   ]
  },
  {
   "cell_type": "markdown",
   "metadata": {
    "id": "Ilsm-MZo_Zct"
   },
   "source": [
    "Etapa 2.7. Ahora comprueba el resultado para asegurarte de que no falten valores ausentes por reemplazar en el conjunto de datos. Para ello, cuenta los valores ausentes una vez más."
   ]
  },
  {
   "cell_type": "markdown",
   "metadata": {
    "id": "DKO1KYriNzGF"
   },
   "source": [
    "<details>\n",
    "<summary>Haz clic para ver la pista</summary>\n",
    "\n",
    "Usa `isna()` con `sum()` otra vez para confirmar que ya no quedan valores nulos en las columnas modificadas."
   ]
  },
  {
   "cell_type": "code",
   "execution_count": 62,
   "metadata": {
    "id": "Tq4nYRX4_Zct"
   },
   "outputs": [
    {
     "data": {
      "text/plain": [
       "user_id    0\n",
       "track      0\n",
       "artist     0\n",
       "genre      0\n",
       "city       0\n",
       "time       0\n",
       "day        0\n",
       "dtype: int64"
      ]
     },
     "execution_count": 62,
     "metadata": {},
     "output_type": "execute_result"
    }
   ],
   "source": [
    "# Cuenta los valores ausentes\n",
    "df.isna().sum()"
   ]
  },
  {
   "cell_type": "markdown",
   "metadata": {},
   "source": [
    "<div class=\"alert alert-block alert-success\">\n",
    "<b>Comentario de Revisor</b> <a class=\"tocSkip\"></a>\n",
    "\n",
    "Bien hecho. Dado que los rellenamos con un valor, ya no aparecen como nulos. Otra opción para tratar los nulos, es eliminarlos. Sin embargo, esto se debe realizar con mucho cuidado, ya que podríamos eliminar mucha información útil. Además, es posible que las filas que tienen nulo en una columna, contengan información valiosa en otras columnas.\n",
    "\n",
    "</div>"
   ]
  },
  {
   "cell_type": "markdown",
   "metadata": {
    "id": "BWKRtBJ3_Zct"
   },
   "source": [
    "### Duplicados <a id='duplicates'></a>\n",
    "Etapa 2.8. Encuentra el número de duplicados explícitos en la tabla. Una vez más, debes aplicar dos métodos para obtener la cantidad de duplicados explícitos."
   ]
  },
  {
   "cell_type": "markdown",
   "metadata": {
    "id": "Zt8VTho3OF5u"
   },
   "source": [
    "<details>\n",
    "<summary>Haz clic para ver la pista</summary>\n",
    "\n",
    "Usa un método que detecte filas repetidas (`duplicated`) y luego otro para contarlas."
   ]
  },
  {
   "cell_type": "code",
   "execution_count": 63,
   "metadata": {
    "id": "36eES_S0_Zct"
   },
   "outputs": [
    {
     "data": {
      "text/plain": [
       "3826"
      ]
     },
     "execution_count": 63,
     "metadata": {},
     "output_type": "execute_result"
    }
   ],
   "source": [
    "# Cuenta los duplicados explícitos\n",
    "\n",
    "df.duplicated().sum()"
   ]
  },
  {
   "cell_type": "markdown",
   "metadata": {
    "id": "Ot25h6XR_Zct"
   },
   "source": [
    "Etapa 2.9. Ahora, elimina todos los duplicados. Para ello, llama al método que hace exactamente esto."
   ]
  },
  {
   "cell_type": "markdown",
   "metadata": {
    "id": "qIUdIXpZOGoG"
   },
   "source": [
    "<details>\n",
    "<summary>Haz clic para ver la pista</summary>\n",
    "\n",
    "Busca un método que elimine las filas duplicadas directamente del DataFrame. No olvides actualizar la variable."
   ]
  },
  {
   "cell_type": "code",
   "execution_count": 77,
   "metadata": {
    "id": "exFHq6tt_Zct"
   },
   "outputs": [
    {
     "data": {
      "text/html": [
       "<div>\n",
       "<style scoped>\n",
       "    .dataframe tbody tr th:only-of-type {\n",
       "        vertical-align: middle;\n",
       "    }\n",
       "\n",
       "    .dataframe tbody tr th {\n",
       "        vertical-align: top;\n",
       "    }\n",
       "\n",
       "    .dataframe thead th {\n",
       "        text-align: right;\n",
       "    }\n",
       "</style>\n",
       "<table border=\"1\" class=\"dataframe\">\n",
       "  <thead>\n",
       "    <tr style=\"text-align: right;\">\n",
       "      <th></th>\n",
       "      <th>user_id</th>\n",
       "      <th>track</th>\n",
       "      <th>artist</th>\n",
       "      <th>genre</th>\n",
       "      <th>city</th>\n",
       "      <th>time</th>\n",
       "      <th>day</th>\n",
       "    </tr>\n",
       "  </thead>\n",
       "  <tbody>\n",
       "    <tr>\n",
       "      <th>0</th>\n",
       "      <td>FFB692EC</td>\n",
       "      <td>Kamigata To Boots</td>\n",
       "      <td>The Mass Missile</td>\n",
       "      <td>rock</td>\n",
       "      <td>Shelbyville</td>\n",
       "      <td>20:28:33</td>\n",
       "      <td>Wednesday</td>\n",
       "    </tr>\n",
       "    <tr>\n",
       "      <th>1</th>\n",
       "      <td>55204538</td>\n",
       "      <td>Delayed Because of Accident</td>\n",
       "      <td>Andreas Rönnberg</td>\n",
       "      <td>rock</td>\n",
       "      <td>Springfield</td>\n",
       "      <td>14:07:09</td>\n",
       "      <td>Friday</td>\n",
       "    </tr>\n",
       "    <tr>\n",
       "      <th>2</th>\n",
       "      <td>20EC38</td>\n",
       "      <td>Funiculì funiculà</td>\n",
       "      <td>Mario Lanza</td>\n",
       "      <td>pop</td>\n",
       "      <td>Shelbyville</td>\n",
       "      <td>20:58:07</td>\n",
       "      <td>Wednesday</td>\n",
       "    </tr>\n",
       "    <tr>\n",
       "      <th>3</th>\n",
       "      <td>A3DD03C9</td>\n",
       "      <td>Dragons in the Sunset</td>\n",
       "      <td>Fire + Ice</td>\n",
       "      <td>folk</td>\n",
       "      <td>Shelbyville</td>\n",
       "      <td>08:37:09</td>\n",
       "      <td>Monday</td>\n",
       "    </tr>\n",
       "    <tr>\n",
       "      <th>4</th>\n",
       "      <td>E2DC1FAE</td>\n",
       "      <td>Soul People</td>\n",
       "      <td>Space Echo</td>\n",
       "      <td>dance</td>\n",
       "      <td>Springfield</td>\n",
       "      <td>08:34:34</td>\n",
       "      <td>Monday</td>\n",
       "    </tr>\n",
       "    <tr>\n",
       "      <th>...</th>\n",
       "      <td>...</td>\n",
       "      <td>...</td>\n",
       "      <td>...</td>\n",
       "      <td>...</td>\n",
       "      <td>...</td>\n",
       "      <td>...</td>\n",
       "      <td>...</td>\n",
       "    </tr>\n",
       "    <tr>\n",
       "      <th>61248</th>\n",
       "      <td>729CBB09</td>\n",
       "      <td>My Name</td>\n",
       "      <td>McLean</td>\n",
       "      <td>rnb</td>\n",
       "      <td>Springfield</td>\n",
       "      <td>13:32:28</td>\n",
       "      <td>Wednesday</td>\n",
       "    </tr>\n",
       "    <tr>\n",
       "      <th>61249</th>\n",
       "      <td>D08D4A55</td>\n",
       "      <td>Maybe One Day (feat. Black Spade)</td>\n",
       "      <td>Blu &amp; Exile</td>\n",
       "      <td>hip</td>\n",
       "      <td>Shelbyville</td>\n",
       "      <td>10:00:00</td>\n",
       "      <td>Monday</td>\n",
       "    </tr>\n",
       "    <tr>\n",
       "      <th>61250</th>\n",
       "      <td>C5E3A0D5</td>\n",
       "      <td>Jalopiina</td>\n",
       "      <td>unokwn</td>\n",
       "      <td>industrial</td>\n",
       "      <td>Springfield</td>\n",
       "      <td>20:09:26</td>\n",
       "      <td>Friday</td>\n",
       "    </tr>\n",
       "    <tr>\n",
       "      <th>61251</th>\n",
       "      <td>321D0506</td>\n",
       "      <td>Freight Train</td>\n",
       "      <td>Chas McDevitt</td>\n",
       "      <td>rock</td>\n",
       "      <td>Springfield</td>\n",
       "      <td>21:43:59</td>\n",
       "      <td>Friday</td>\n",
       "    </tr>\n",
       "    <tr>\n",
       "      <th>61252</th>\n",
       "      <td>3A64EF84</td>\n",
       "      <td>Tell Me Sweet Little Lies</td>\n",
       "      <td>Monica Lopez</td>\n",
       "      <td>country</td>\n",
       "      <td>Springfield</td>\n",
       "      <td>21:59:46</td>\n",
       "      <td>Friday</td>\n",
       "    </tr>\n",
       "  </tbody>\n",
       "</table>\n",
       "<p>61253 rows × 7 columns</p>\n",
       "</div>"
      ],
      "text/plain": [
       "        user_id                              track            artist  \\\n",
       "0      FFB692EC                  Kamigata To Boots  The Mass Missile   \n",
       "1      55204538        Delayed Because of Accident  Andreas Rönnberg   \n",
       "2        20EC38                  Funiculì funiculà       Mario Lanza   \n",
       "3      A3DD03C9              Dragons in the Sunset        Fire + Ice   \n",
       "4      E2DC1FAE                        Soul People        Space Echo   \n",
       "...         ...                                ...               ...   \n",
       "61248  729CBB09                            My Name            McLean   \n",
       "61249  D08D4A55  Maybe One Day (feat. Black Spade)       Blu & Exile   \n",
       "61250  C5E3A0D5                          Jalopiina            unokwn   \n",
       "61251  321D0506                      Freight Train     Chas McDevitt   \n",
       "61252  3A64EF84          Tell Me Sweet Little Lies      Monica Lopez   \n",
       "\n",
       "            genre         city      time        day  \n",
       "0            rock  Shelbyville  20:28:33  Wednesday  \n",
       "1            rock  Springfield  14:07:09     Friday  \n",
       "2             pop  Shelbyville  20:58:07  Wednesday  \n",
       "3            folk  Shelbyville  08:37:09     Monday  \n",
       "4           dance  Springfield  08:34:34     Monday  \n",
       "...           ...          ...       ...        ...  \n",
       "61248         rnb  Springfield  13:32:28  Wednesday  \n",
       "61249         hip  Shelbyville  10:00:00     Monday  \n",
       "61250  industrial  Springfield  20:09:26     Friday  \n",
       "61251        rock  Springfield  21:43:59     Friday  \n",
       "61252     country  Springfield  21:59:46     Friday  \n",
       "\n",
       "[61253 rows x 7 columns]"
      ]
     },
     "execution_count": 77,
     "metadata": {},
     "output_type": "execute_result"
    }
   ],
   "source": [
    "# Elimina los duplicados explícitos\n",
    "df.drop_duplicates(inplace=True)\n",
    "\n",
    "df.reset_index(drop=True)"
   ]
  },
  {
   "cell_type": "markdown",
   "metadata": {
    "id": "Im2YwBEG_Zct"
   },
   "source": [
    "Etapa 2.10. Comprobemos ahora si conseguimos eliminar todos los duplicados. Cuenta los duplicados explícitos una vez más para asegurarte de haberlos eliminado todos:"
   ]
  },
  {
   "cell_type": "markdown",
   "metadata": {
    "id": "aBGJg25nOHeW"
   },
   "source": [
    "<details>\n",
    "<summary>Haz clic para ver la pista</summary>\n",
    "\n",
    "Repite el mismo enfoque que usaste para contar duplicados antes. Deberías ver que el total ahora es cero."
   ]
  },
  {
   "cell_type": "code",
   "execution_count": 76,
   "metadata": {
    "id": "-8PuNWQ0_Zct"
   },
   "outputs": [
    {
     "data": {
      "text/plain": [
       "0"
      ]
     },
     "execution_count": 76,
     "metadata": {},
     "output_type": "execute_result"
    }
   ],
   "source": [
    "# Comprueba de nuevo si hay duplicados\n",
    "\n",
    "df.duplicated().sum()"
   ]
  },
  {
   "cell_type": "markdown",
   "metadata": {},
   "source": [
    "<div class=\"alert alert-block alert-success\">\n",
    "<b>Comentario de Revisor</b> <a class=\"tocSkip\"></a>\n",
    "\n",
    "Bien hecho. Al eliminar los duplicados, como recomendación, es buena idea resetear el índice con `reset_index()`. Si es que el índice no era solo un correlativo (número de fila) y contiene información adicional, entonces esto no es recomendado. En este caso, era solo un correlativo, por lo que sí sería bueno resetearlo.\n",
    "\n",
    "</div>"
   ]
  },
  {
   "cell_type": "markdown",
   "metadata": {
    "id": "QlFBsxAr_Zct"
   },
   "source": [
    "Ahora queremos deshacernos de los duplicados implícitos en la columna `genre`. Por ejemplo, el nombre de un género se puede escribir de varias formas. Dichos errores también pueden afectar al resultado."
   ]
  },
  {
   "cell_type": "markdown",
   "metadata": {
    "id": "eSjWwsOh_Zct"
   },
   "source": [
    "Etapa 2.11. Primero debemos mostrar una lista de nombres de géneros únicos, por orden alfabético. Para ello:\n",
    "1. Extrae la columna `genre` del DataFrame.\n",
    "2. Llama al método que devolverá todos los valores únicos en la columna extraída.\n"
   ]
  },
  {
   "cell_type": "markdown",
   "metadata": {
    "id": "r_9H-WnFOIHG"
   },
   "source": [
    "<details>\n",
    "<summary>Haz clic para ver la pista</summary>\n",
    "\n",
    "Usa `unique()` para obtener los géneros únicos. Si quieres verlos en orden alfabético, combina con `sorted()`."
   ]
  },
  {
   "cell_type": "code",
   "execution_count": 126,
   "metadata": {
    "id": "JIUcqzZN_Zct"
   },
   "outputs": [
    {
     "data": {
      "text/plain": [
       "array(['acid', 'acoustic', 'action', 'adult', 'africa', 'afrikaans',\n",
       "       'alternative', 'ambient', 'americana', 'animated', 'anime',\n",
       "       'arabesk', 'arabic', 'arena', 'argentinetango', 'art', 'audiobook',\n",
       "       'avantgarde', 'axé', 'baile', 'balkan', 'beats', 'bigroom',\n",
       "       'black', 'bluegrass', 'blues', 'bollywood', 'bossa', 'brazilian',\n",
       "       'breakbeat', 'breaks', 'broadway', 'cantautori', 'cantopop',\n",
       "       'canzone', 'caribbean', 'caucasian', 'celtic', 'chamber',\n",
       "       'children', 'chill', 'chinese', 'choral', 'christian', 'christmas',\n",
       "       'classical', 'classicmetal', 'club', 'colombian', 'comedy',\n",
       "       'conjazz', 'contemporary', 'country', 'cuban', 'dance',\n",
       "       'dancehall', 'dancepop', 'dark', 'death', 'deep', 'deutschrock',\n",
       "       'deutschspr', 'dirty', 'disco', 'dnb', 'documentary', 'downbeat',\n",
       "       'downtempo', 'drum', 'dub', 'dubstep', 'eastern', 'easy',\n",
       "       'electronic', 'electropop', 'emo', 'entehno', 'epicmetal',\n",
       "       'estrada', 'ethnic', 'eurofolk', 'european', 'experimental',\n",
       "       'extrememetal', 'fado', 'film', 'fitness', 'flamenco', 'folk',\n",
       "       'folklore', 'folkmetal', 'folkrock', 'folktronica', 'forró',\n",
       "       'frankreich', 'französisch', 'french', 'funk', 'future', 'gangsta',\n",
       "       'garage', 'german', 'ghazal', 'gitarre', 'glitch', 'gospel',\n",
       "       'gothic', 'grime', 'grunge', 'gypsy', 'handsup', \"hard'n'heavy\",\n",
       "       'hardcore', 'hardstyle', 'hardtechno', 'hip', 'hip-hop', 'hiphop',\n",
       "       'historisch', 'holiday', 'hop', 'horror', 'house', 'idm',\n",
       "       'independent', 'indian', 'indie', 'indipop', 'industrial',\n",
       "       'inspirational', 'instrumental', 'international', 'irish', 'jam',\n",
       "       'japanese', 'jazz', 'jewish', 'jpop', 'jungle', 'k-pop',\n",
       "       'karadeniz', 'karaoke', 'kayokyoku', 'korean', 'laiko', 'latin',\n",
       "       'latino', 'leftfield', 'local', 'lounge', 'loungeelectronic',\n",
       "       'lovers', 'malaysian', 'mandopop', 'marschmusik', 'meditative',\n",
       "       'mediterranean', 'melodic', 'metal', 'metalcore', 'mexican',\n",
       "       'middle', 'minimal', 'miscellaneous', 'modern', 'mood', 'mpb',\n",
       "       'muslim', 'native', 'neoklassik', 'neue', 'new', 'newage',\n",
       "       'newwave', 'nu', 'nujazz', 'numetal', 'oceania', 'old', 'opera',\n",
       "       'orchestral', 'other', 'piano', 'pop', 'popelectronic',\n",
       "       'popeurodance', 'post', 'posthardcore', 'postrock', 'power',\n",
       "       'progmetal', 'progressive', 'psychedelic', 'punjabi', 'punk',\n",
       "       'quebecois', 'ragga', 'ram', 'rancheras', 'rap', 'rave', 'reggae',\n",
       "       'reggaeton', 'regional', 'relax', 'religious', 'retro', 'rhythm',\n",
       "       'rnb', 'rnr', 'rock', 'rockabilly', 'romance', 'roots', 'ruspop',\n",
       "       'rusrap', 'rusrock', 'salsa', 'samba', 'schlager', 'self',\n",
       "       'sertanejo', 'shoegazing', 'showtunes', 'singer', 'ska', 'slow',\n",
       "       'smooth', 'soul', 'soulful', 'sound', 'soundtrack', 'southern',\n",
       "       'specialty', 'speech', 'spiritual', 'sport', 'stonerrock', 'surf',\n",
       "       'swing', 'synthpop', 'sängerportrait', 'tango', 'tanzorchester',\n",
       "       'taraftar', 'tech', 'techno', 'thrash', 'top', 'traditional',\n",
       "       'tradjazz', 'trance', 'tribal', 'trip', 'triphop', 'tropical',\n",
       "       'türk', 'türkçe', 'unokwn', 'urban', 'uzbek', 'variété', 'vi',\n",
       "       'videogame', 'vocal', 'western', 'world', 'worldbeat', 'ïîï'],\n",
       "      dtype=object)"
      ]
     },
     "execution_count": 126,
     "metadata": {},
     "output_type": "execute_result"
    }
   ],
   "source": [
    "# Inspecciona los nombres de géneros únicos\n",
    "\n",
    "df['genre'].sort_values().unique()\n"
   ]
  },
  {
   "cell_type": "markdown",
   "metadata": {},
   "source": [
    "<div class=\"alert alert-block alert-success\">\n",
    "<b>Comentario de Revisor</b> <a class=\"tocSkip\"></a>\n",
    "\n",
    "Muy bien! Mostrar los géneros ordenados alfabéticamente permite explorar más fácil y encontrar los que tienen nombre similar y que corregiremos.\n",
    "\n",
    "</div>"
   ]
  },
  {
   "cell_type": "markdown",
   "metadata": {
    "id": "qej-Qmuo_Zct"
   },
   "source": [
    "Etapa 2.12. Vamos a examinar la lista para identificar **duplicados implícitos** del género `hiphop`, es decir, nombres mal escritos o variantes que hacen referencia al mismo género musical.\n",
    "\n",
    "Los duplicados que encontrarás son:\n",
    "\n",
    "* `hip`  \n",
    "* `hop`  \n",
    "* `hip-hop`  \n",
    "\n",
    "Para solucionarlo, vamos a crear una función llamada `replace_wrong_values()`."
   ]
  },
  {
   "cell_type": "markdown",
   "metadata": {
    "id": "7kmujhjP_bIl"
   },
   "source": [
    "\n",
    "1. Define una función llamada `replace_wrong_values()` que reciba los siguientes parámetros:\n",
    "\n",
    "* `df`: el DataFrame a modificar\n",
    "* `column`: el nombre de la columna a trabajar\n",
    "* `wrong_values`: una lista con los valores incorrectos\n",
    "* `correct_value`: el valor correcto para reemplazar\n",
    "\n",
    "2. Dentro de la función, usa un bucle `for` para iterar sobre cada valor incorrecto y aplicar `.replace()`.\n"
   ]
  },
  {
   "cell_type": "markdown",
   "metadata": {
    "id": "5eE71tWIOJQ9"
   },
   "source": [
    "<details>\n",
    "<summary>Haz clic para ver la pista</summary>\n",
    "\n",
    "Crea una función con cuatro parámetros. Dentro del bucle, llama a `.replace()` sobre la columna para cada valor incorrecto, cambiándolo por el correcto."
   ]
  },
  {
   "cell_type": "code",
   "execution_count": 140,
   "metadata": {
    "id": "ErNDkmns_Zct"
   },
   "outputs": [],
   "source": [
    "# Función para reemplazar los duplicados implícitos\n",
    "\n",
    "def replace_wrong_values(df,column,wrong_values,correct_values):\n",
    "    for val in wrong_values:\n",
    "        df[column].replace(val,correct_values, inplace=True)\n",
    "            \n",
    "    "
   ]
  },
  {
   "cell_type": "markdown",
   "metadata": {},
   "source": [
    "<div class=\"alert alert-block alert-success\">\n",
    "<b>Comentario de Revisor</b> <a class=\"tocSkip\"></a>\n",
    "\n",
    "Bien hecho con la función, esta definida correctamente para reemplazar los valores que fueron listados de forma incorrecta.\n",
    "\n",
    "</div>"
   ]
  },
  {
   "cell_type": "markdown",
   "metadata": {
    "id": "aDoBJxbA_Zct"
   },
   "source": [
    "Etapa 2.13. Ahora, llama a la función pasando:\n",
    "\n",
    "* `df` como el DataFrame\n",
    "* `'genre'` como nombre de columna\n",
    "* `['hip', 'hop', 'hip-hop']` como lista de valores incorrectos\n",
    "* `'hiphop'` como valor correcto\n"
   ]
  },
  {
   "cell_type": "code",
   "execution_count": 141,
   "metadata": {
    "id": "YN5i2hpmSo09"
   },
   "outputs": [],
   "source": [
    "# Elimina los duplicados implícitos\n",
    "\n",
    "column = 'genre'\n",
    "wrong_values = ['hip', 'hop', 'hip-hop']\n",
    "correct_values = 'hiphop'\n",
    "\n",
    "replace_wrong_values(df,column,wrong_values,correct_values)"
   ]
  },
  {
   "cell_type": "markdown",
   "metadata": {
    "id": "bI-SxLgMOJ0l"
   },
   "source": [
    "<details>\n",
    "<summary>Haz clic para ver la pista</summary>\n",
    "\n",
    "Llama a la función que creaste y pasa los cuatro argumentos necesarios. Asegúrate de usar el nombre correcto de la columna y lista los valores que deben unificarse."
   ]
  },
  {
   "cell_type": "markdown",
   "metadata": {
    "id": "zQKF16_RG15m"
   },
   "source": [
    "Etapa 2.14. Asegúrate de que los nombres duplicados se hayan eliminado. Muestra la lista de valores únicos de la columna `'genre'` una vez más:"
   ]
  },
  {
   "cell_type": "markdown",
   "metadata": {
    "id": "OMAnRyP_OKl1"
   },
   "source": [
    "<details>\n",
    "<summary>Haz clic para ver la pista</summary>\n",
    "\n",
    "Usa de nuevo el método que muestra los valores únicos de una columna para verificar que todos los nombres se hayan unificado correctamente."
   ]
  },
  {
   "cell_type": "code",
   "execution_count": 144,
   "metadata": {
    "id": "wvixALnFG15m"
   },
   "outputs": [
    {
     "data": {
      "text/plain": [
       "array(['acid', 'acoustic', 'action', 'adult', 'africa', 'afrikaans',\n",
       "       'alternative', 'ambient', 'americana', 'animated', 'anime',\n",
       "       'arabesk', 'arabic', 'arena', 'argentinetango', 'art', 'audiobook',\n",
       "       'avantgarde', 'axé', 'baile', 'balkan', 'beats', 'bigroom',\n",
       "       'black', 'bluegrass', 'blues', 'bollywood', 'bossa', 'brazilian',\n",
       "       'breakbeat', 'breaks', 'broadway', 'cantautori', 'cantopop',\n",
       "       'canzone', 'caribbean', 'caucasian', 'celtic', 'chamber',\n",
       "       'children', 'chill', 'chinese', 'choral', 'christian', 'christmas',\n",
       "       'classical', 'classicmetal', 'club', 'colombian', 'comedy',\n",
       "       'conjazz', 'contemporary', 'country', 'cuban', 'dance',\n",
       "       'dancehall', 'dancepop', 'dark', 'death', 'deep', 'deutschrock',\n",
       "       'deutschspr', 'dirty', 'disco', 'dnb', 'documentary', 'downbeat',\n",
       "       'downtempo', 'drum', 'dub', 'dubstep', 'eastern', 'easy',\n",
       "       'electronic', 'electropop', 'emo', 'entehno', 'epicmetal',\n",
       "       'estrada', 'ethnic', 'eurofolk', 'european', 'experimental',\n",
       "       'extrememetal', 'fado', 'film', 'fitness', 'flamenco', 'folk',\n",
       "       'folklore', 'folkmetal', 'folkrock', 'folktronica', 'forró',\n",
       "       'frankreich', 'französisch', 'french', 'funk', 'future', 'gangsta',\n",
       "       'garage', 'german', 'ghazal', 'gitarre', 'glitch', 'gospel',\n",
       "       'gothic', 'grime', 'grunge', 'gypsy', 'handsup', \"hard'n'heavy\",\n",
       "       'hardcore', 'hardstyle', 'hardtechno', 'hiphop', 'historisch',\n",
       "       'holiday', 'horror', 'house', 'idm', 'independent', 'indian',\n",
       "       'indie', 'indipop', 'industrial', 'inspirational', 'instrumental',\n",
       "       'international', 'irish', 'jam', 'japanese', 'jazz', 'jewish',\n",
       "       'jpop', 'jungle', 'k-pop', 'karadeniz', 'karaoke', 'kayokyoku',\n",
       "       'korean', 'laiko', 'latin', 'latino', 'leftfield', 'local',\n",
       "       'lounge', 'loungeelectronic', 'lovers', 'malaysian', 'mandopop',\n",
       "       'marschmusik', 'meditative', 'mediterranean', 'melodic', 'metal',\n",
       "       'metalcore', 'mexican', 'middle', 'minimal', 'miscellaneous',\n",
       "       'modern', 'mood', 'mpb', 'muslim', 'native', 'neoklassik', 'neue',\n",
       "       'new', 'newage', 'newwave', 'nu', 'nujazz', 'numetal', 'oceania',\n",
       "       'old', 'opera', 'orchestral', 'other', 'piano', 'pop',\n",
       "       'popelectronic', 'popeurodance', 'post', 'posthardcore',\n",
       "       'postrock', 'power', 'progmetal', 'progressive', 'psychedelic',\n",
       "       'punjabi', 'punk', 'quebecois', 'ragga', 'ram', 'rancheras', 'rap',\n",
       "       'rave', 'reggae', 'reggaeton', 'regional', 'relax', 'religious',\n",
       "       'retro', 'rhythm', 'rnb', 'rnr', 'rock', 'rockabilly', 'romance',\n",
       "       'roots', 'ruspop', 'rusrap', 'rusrock', 'salsa', 'samba',\n",
       "       'schlager', 'self', 'sertanejo', 'shoegazing', 'showtunes',\n",
       "       'singer', 'ska', 'slow', 'smooth', 'soul', 'soulful', 'sound',\n",
       "       'soundtrack', 'southern', 'specialty', 'speech', 'spiritual',\n",
       "       'sport', 'stonerrock', 'surf', 'swing', 'synthpop',\n",
       "       'sängerportrait', 'tango', 'tanzorchester', 'taraftar', 'tech',\n",
       "       'techno', 'thrash', 'top', 'traditional', 'tradjazz', 'trance',\n",
       "       'tribal', 'trip', 'triphop', 'tropical', 'türk', 'türkçe',\n",
       "       'unokwn', 'urban', 'uzbek', 'variété', 'vi', 'videogame', 'vocal',\n",
       "       'western', 'world', 'worldbeat', 'ïîï'], dtype=object)"
      ]
     },
     "execution_count": 144,
     "metadata": {},
     "output_type": "execute_result"
    }
   ],
   "source": [
    "# Comprueba de nuevo los duplicados implícitos\n",
    "\n",
    "df['genre'].sort_values().unique()"
   ]
  },
  {
   "cell_type": "markdown",
   "metadata": {},
   "source": [
    "<div class=\"alert alert-block alert-success\">\n",
    "<b>Comentario de Revisor</b> <a class=\"tocSkip\"></a>\n",
    "\n",
    "Bien hecho, al mostrar los géneros ordenados vemos que sí funcionó el reemplazo que se aplicó.\n",
    "\n",
    "</div>"
   ]
  },
  {
   "cell_type": "markdown",
   "metadata": {
    "id": "WttZHXH0SqKk"
   },
   "source": [
    "## Etapa 3. Análisis"
   ]
  },
  {
   "cell_type": "markdown",
   "metadata": {
    "id": "Im936VVi_Zcu"
   },
   "source": [
    "### Tarea: Comparar el comportamiento de los usuarios en las dos ciudades <a id='activity'></a>"
   ]
  },
  {
   "cell_type": "markdown",
   "metadata": {
    "id": "nwt_MuaL_Zcu"
   },
   "source": [
    "Queremos analizar si hay diferencias en la cantidad de canciones reproducidas en Springfield y Shelbyville. Para ello, usaremos los datos de dos días de la semana: lunes y viernes.\n",
    "\n",
    "Compararemos cuántas canciones se escucharon en cada ciudad durante esos días para identificar posibles patrones de comportamiento."
   ]
  },
  {
   "cell_type": "markdown",
   "metadata": {
    "id": "8Dw_YMmT_Zcu"
   },
   "source": [
    "Sigue estos tres pasos para organizar tu análisis:\n",
    "\n",
    "- Dividir: agrupa los datos por ciudad.\n",
    "\n",
    "- Aplicar: cuenta cuántas canciones se reproducen en cada grupo.\n",
    "\n",
    "- Combinar: presenta los resultados de forma que se puedan comparar fácilmente ambas ciudades.\n",
    "\n",
    "Repite este proceso por separado para cada uno de los dos días."
   ]
  },
  {
   "cell_type": "markdown",
   "metadata": {
    "id": "dgMGeLF2CMJv"
   },
   "source": [
    "Etapa 3.1.\n",
    "Cuenta cuántas canciones se reprodujeron en cada ciudad utilizando la columna `'track'` como referencia."
   ]
  },
  {
   "cell_type": "markdown",
   "metadata": {
    "id": "gmQ75cL9OLUV"
   },
   "source": [
    "<details>\n",
    "<summary>Haz clic para ver la pista</summary>\n",
    "\n",
    "Agrupa los datos por ciudad con el método `groupby()` y usa el método `count()` para contar las canciones reproducidas en cada grupo."
   ]
  },
  {
   "cell_type": "code",
   "execution_count": 146,
   "metadata": {},
   "outputs": [
    {
     "data": {
      "text/html": [
       "<div>\n",
       "<style scoped>\n",
       "    .dataframe tbody tr th:only-of-type {\n",
       "        vertical-align: middle;\n",
       "    }\n",
       "\n",
       "    .dataframe tbody tr th {\n",
       "        vertical-align: top;\n",
       "    }\n",
       "\n",
       "    .dataframe thead th {\n",
       "        text-align: right;\n",
       "    }\n",
       "</style>\n",
       "<table border=\"1\" class=\"dataframe\">\n",
       "  <thead>\n",
       "    <tr style=\"text-align: right;\">\n",
       "      <th></th>\n",
       "      <th>user_id</th>\n",
       "      <th>track</th>\n",
       "      <th>artist</th>\n",
       "      <th>genre</th>\n",
       "      <th>city</th>\n",
       "      <th>time</th>\n",
       "      <th>day</th>\n",
       "    </tr>\n",
       "  </thead>\n",
       "  <tbody>\n",
       "    <tr>\n",
       "      <th>0</th>\n",
       "      <td>FFB692EC</td>\n",
       "      <td>Kamigata To Boots</td>\n",
       "      <td>The Mass Missile</td>\n",
       "      <td>rock</td>\n",
       "      <td>Shelbyville</td>\n",
       "      <td>20:28:33</td>\n",
       "      <td>Wednesday</td>\n",
       "    </tr>\n",
       "    <tr>\n",
       "      <th>1</th>\n",
       "      <td>55204538</td>\n",
       "      <td>Delayed Because of Accident</td>\n",
       "      <td>Andreas Rönnberg</td>\n",
       "      <td>rock</td>\n",
       "      <td>Springfield</td>\n",
       "      <td>14:07:09</td>\n",
       "      <td>Friday</td>\n",
       "    </tr>\n",
       "    <tr>\n",
       "      <th>2</th>\n",
       "      <td>20EC38</td>\n",
       "      <td>Funiculì funiculà</td>\n",
       "      <td>Mario Lanza</td>\n",
       "      <td>pop</td>\n",
       "      <td>Shelbyville</td>\n",
       "      <td>20:58:07</td>\n",
       "      <td>Wednesday</td>\n",
       "    </tr>\n",
       "    <tr>\n",
       "      <th>3</th>\n",
       "      <td>A3DD03C9</td>\n",
       "      <td>Dragons in the Sunset</td>\n",
       "      <td>Fire + Ice</td>\n",
       "      <td>folk</td>\n",
       "      <td>Shelbyville</td>\n",
       "      <td>08:37:09</td>\n",
       "      <td>Monday</td>\n",
       "    </tr>\n",
       "    <tr>\n",
       "      <th>4</th>\n",
       "      <td>E2DC1FAE</td>\n",
       "      <td>Soul People</td>\n",
       "      <td>Space Echo</td>\n",
       "      <td>dance</td>\n",
       "      <td>Springfield</td>\n",
       "      <td>08:34:34</td>\n",
       "      <td>Monday</td>\n",
       "    </tr>\n",
       "  </tbody>\n",
       "</table>\n",
       "</div>"
      ],
      "text/plain": [
       "    user_id                        track            artist  genre  \\\n",
       "0  FFB692EC            Kamigata To Boots  The Mass Missile   rock   \n",
       "1  55204538  Delayed Because of Accident  Andreas Rönnberg   rock   \n",
       "2    20EC38            Funiculì funiculà       Mario Lanza    pop   \n",
       "3  A3DD03C9        Dragons in the Sunset        Fire + Ice   folk   \n",
       "4  E2DC1FAE                  Soul People        Space Echo  dance   \n",
       "\n",
       "          city      time        day  \n",
       "0  Shelbyville  20:28:33  Wednesday  \n",
       "1  Springfield  14:07:09     Friday  \n",
       "2  Shelbyville  20:58:07  Wednesday  \n",
       "3  Shelbyville  08:37:09     Monday  \n",
       "4  Springfield  08:34:34     Monday  "
      ]
     },
     "execution_count": 146,
     "metadata": {},
     "output_type": "execute_result"
    }
   ],
   "source": [
    "df.head()"
   ]
  },
  {
   "cell_type": "code",
   "execution_count": 151,
   "metadata": {
    "id": "0_Qs96oh_Zcu"
   },
   "outputs": [
    {
     "data": {
      "text/plain": [
       "city\n",
       "Shelbyville    18512\n",
       "Springfield    42741\n",
       "Name: track, dtype: int64"
      ]
     },
     "execution_count": 151,
     "metadata": {},
     "output_type": "execute_result"
    }
   ],
   "source": [
    "# Cuenta las canciones reproducidas en cada ciudad\n",
    "df.groupby('city')['track'].count()"
   ]
  },
  {
   "cell_type": "markdown",
   "metadata": {
    "id": "cC2tNrlL_Zcu"
   },
   "source": [
    "Etapa 3.2. Redacta brevemente tus observaciones sobre los resultados.\n",
    "\n",
    "¿Qué diferencias encontraste entre Springfield y Shelbyville? ¿A qué podrían deberse?"
   ]
  },
  {
   "cell_type": "markdown",
   "metadata": {},
   "source": [
    "#en springfield se escucharon 42,741 canciones y en shelbyville 18,512 canciones. Esto puede deberse a que springfield tiene una población mayor a shelbyville y por lo tanto hay más usuarios que escuchan música en esa ciudad.\n",
    "\n",
    "#otra teoria es que en springfield hay más usuarios activos en la plataforma de música que en shelbyville, es decir en springfield hay mas usuarios que conocen la plataforma."
   ]
  },
  {
   "cell_type": "markdown",
   "metadata": {
    "id": "Kjb4vX38DC3I"
   },
   "source": [
    "#La principal diferencia que se identifica es que en Springfield se reproducen más caciones que en Shelbyville, en un 43% más y creo que se puede deber a varios factores como:\n",
    "1.La población en Springfield puede ser mayor que en Shelbyville.\n",
    "2.La población en Springfield tiene un mayor conocimiento de la plataforma y con la tecnología."
   ]
  },
  {
   "cell_type": "markdown",
   "metadata": {
    "id": "dzli3w8o_Zcu"
   },
   "source": [
    "Etapa 3.3.\n",
    "Agrupa los datos por día de la semana y cuenta cuántas canciones se reprodujeron los lunes y viernes.\n",
    "\n"
   ]
  },
  {
   "cell_type": "markdown",
   "metadata": {
    "id": "ZXOKc51_OMOm"
   },
   "source": [
    "<details>\n",
    "<summary>Haz clic para ver la pista</summary>\n",
    "\n",
    "Cambia el criterio de agrupación a la columna que representa el día de la semana y filtra solo para los días que te interesan."
   ]
  },
  {
   "cell_type": "code",
   "execution_count": 160,
   "metadata": {
    "id": "uZMKjiJz_Zcu"
   },
   "outputs": [
    {
     "data": {
      "text/plain": [
       "day\n",
       "Friday    21840\n",
       "Monday    21354\n",
       "Name: track, dtype: int64"
      ]
     },
     "execution_count": 160,
     "metadata": {},
     "output_type": "execute_result"
    }
   ],
   "source": [
    "# Calcula las canciones reproducidas en cada uno de los dos días\n",
    "df_filtered = df[df['day'].isin(['Monday','Friday'])]\n",
    "\n",
    "df_filtered.groupby('day')['track'].count()"
   ]
  },
  {
   "cell_type": "markdown",
   "metadata": {},
   "source": [
    "<div class=\"alert alert-block alert-success\">\n",
    "<b>Comentario de Revisor</b> <a class=\"tocSkip\"></a>\n",
    "\n",
    "Muy bien, correcto, buen uso de `groupby` y `count`\n",
    "\n",
    "</div>"
   ]
  },
  {
   "cell_type": "markdown",
   "metadata": {
    "id": "t_Qx-3NewAnK"
   },
   "source": [
    "Etapa 3.4. Describe brevemente qué observaste al comparar los lunes y viernes.\n",
    "\n",
    "¿Hubo un día con más actividad? ¿Cambia algo si analizas cada ciudad por separado?"
   ]
  },
  {
   "cell_type": "markdown",
   "metadata": {},
   "source": [
    "#los dias lunes y viernes tuvieron una actividad similar, con una ligera diferencia de 486 canciones reproducidas más el viernes que el lunes.\n",
    "\n",
    "#si se observa diferencia si se analiza cada ciudad por separado, ya que en springfield se reproducen más canciones que en shelbyville de mas de 24,229 canciones reproducidas."
   ]
  },
  {
   "cell_type": "markdown",
   "metadata": {
    "id": "q537Zl8oDNfH"
   },
   "source": [
    "Los numerós de reproducciones son similares con una diferencia de 486 reproducciones, si se ve un cambio diferente si se analiza por día que por ciudad."
   ]
  },
  {
   "cell_type": "markdown",
   "metadata": {
    "id": "itD2P5lhEpuX"
   },
   "source": [
    "Etapa 3.5\n",
    "\n",
    "Ahora vamos a combinar dos criterios: día y ciudad.\n",
    "\n",
    "Crea una función llamada `number_tracks()` que reciba dos parámetros:\n",
    "\n",
    "* `day`: un día de la semana (por ejemplo, `'Monday'`)\n",
    "* `city`: el nombre de una ciudad (por ejemplo, `'Springfield'`)\n",
    "\n",
    "Dentro de la función:\n",
    "\n",
    "1. Filtra el DataFrame por el día.\n",
    "2. Luego, filtra por la ciudad.\n",
    "3. Cuenta cuántas veces aparece `'user_id'` en ese filtro.\n",
    "4. Devuelve ese número como resultado.\n"
   ]
  },
  {
   "cell_type": "markdown",
   "metadata": {
    "id": "S0BEnPOMONNV"
   },
   "source": [
    "<details>\n",
    "<summary>Haz clic para ver la pista</summary>\n",
    "\n",
    "Define una función con dos parámetros. Dentro, aplica un filtrado secuencial usando `df[...]`, y al final cuenta los valores con `.count()`."
   ]
  },
  {
   "cell_type": "code",
   "execution_count": 166,
   "metadata": {
    "id": "Nz3GdQB1_Zcu"
   },
   "outputs": [],
   "source": [
    "# Declara la función number_tracks() con dos parámetros: day= y city=.\n",
    "\n",
    "def number_tracks(day,city):\n",
    "    result = df[(df['day'] == day) & (df['city'] == city)]['user_id'].count()\n",
    "    return result    \n"
   ]
  },
  {
   "cell_type": "markdown",
   "metadata": {
    "id": "ytf7xFrFJQ2r"
   },
   "source": [
    "Etapa 3.6. Llama a `number_tracks()` cuatro veces: una por ciudad en cada uno de los dos días."
   ]
  },
  {
   "cell_type": "markdown",
   "metadata": {
    "id": "YolwCEHYOOXd"
   },
   "source": [
    "<details>\n",
    "<summary>Haz clic para ver la pista</summary>\n",
    "\n",
    "Llama a tu función con combinaciones distintas de ciudad y día, como `'Monday', 'Springfield'`, y guarda o imprime los resultados para comparar."
   ]
  },
  {
   "cell_type": "code",
   "execution_count": 167,
   "metadata": {
    "id": "rJcRATNQ_Zcu"
   },
   "outputs": [
    {
     "data": {
      "text/plain": [
       "15740"
      ]
     },
     "execution_count": 167,
     "metadata": {},
     "output_type": "execute_result"
    }
   ],
   "source": [
    "# El número de canciones reproducidas en Springfield el lunes\n",
    "day = 'Monday'\n",
    "city = 'Springfield'\n",
    "\n",
    "number_tracks(day,city)"
   ]
  },
  {
   "cell_type": "code",
   "execution_count": 168,
   "metadata": {
    "id": "hq_ncZ5T_Zcu"
   },
   "outputs": [
    {
     "data": {
      "text/plain": [
       "5614"
      ]
     },
     "execution_count": 168,
     "metadata": {},
     "output_type": "execute_result"
    }
   ],
   "source": [
    "# El número de canciones reproducidas en Shelbyville el lunes\n",
    "\n",
    "day = 'Monday'\n",
    "city = 'Shelbyville'\n",
    "\n",
    "number_tracks(day,city)"
   ]
  },
  {
   "cell_type": "code",
   "execution_count": 169,
   "metadata": {
    "id": "vYDw5u_K_Zcu"
   },
   "outputs": [
    {
     "data": {
      "text/plain": [
       "15945"
      ]
     },
     "execution_count": 169,
     "metadata": {},
     "output_type": "execute_result"
    }
   ],
   "source": [
    "# El número de canciones reproducidas en Springfield el viernes\n",
    "\n",
    "day = 'Friday'\n",
    "city = 'Springfield'\n",
    "\n",
    "number_tracks(day,city)"
   ]
  },
  {
   "cell_type": "code",
   "execution_count": 170,
   "metadata": {
    "id": "8_yzFtW3_Zcu"
   },
   "outputs": [
    {
     "data": {
      "text/plain": [
       "5895"
      ]
     },
     "execution_count": 170,
     "metadata": {},
     "output_type": "execute_result"
    }
   ],
   "source": [
    "# El número de canciones reproducidas en Shelbyville el viernes\n",
    "\n",
    "day = 'Friday'\n",
    "city = 'Shelbyville'\n",
    "\n",
    "number_tracks(day,city)"
   ]
  },
  {
   "cell_type": "markdown",
   "metadata": {},
   "source": [
    "<div class=\"alert alert-block alert-success\">\n",
    "<b>Comentario de Revisor</b> <a class=\"tocSkip\"></a>\n",
    "\n",
    "Buen trabajo! La función está definida correctamente, muy bien con estos resultados\n",
    "\n",
    "</div>"
   ]
  },
  {
   "cell_type": "markdown",
   "metadata": {
    "id": "ykKQ0N65_Zcv"
   },
   "source": [
    "# Conclusiones <a id='end'></a>"
   ]
  },
  {
   "cell_type": "markdown",
   "metadata": {
    "id": "jz6a9-7HQUDd"
   },
   "source": [
    "## Escribe tus conclusiones finales sobre el análisis\n",
    "\n",
    "Redacta un resumen breve y claro de los hallazgos obtenidos durante el proceso de análisis. Tu conclusión debe:\n",
    "\n",
    "* Mencionar los principales patrones que observaste en los datos.\n",
    "* Identificar cualquier problema encontrado y cómo lo solucionaste.\n",
    "* Explicar cómo estas acciones ayudaron a mejorar la calidad del análisis.\n",
    "\n",
    "Reflexiona también sobre la pregunta central:\n",
    "\n",
    "> *¿Los datos muestran que el comportamiento de los usuarios —en cuanto a la música que escuchan— varía según la ciudad y el día de la semana?*\n",
    "\n",
    "Apoya tu respuesta con ejemplos concretos de los resultados obtenidos.\n"
   ]
  },
  {
   "cell_type": "markdown",
   "metadata": {
    "id": "7igqKDUBwPQt"
   },
   "source": [
    "1.Las ciudad que representa una mayor variación en el consumo de la plataforma es Springfield.\n",
    "2. El día en que más se usa la plataforma son los Viernes, en ambas ciudades.\n",
    "\n",
    "El principal error que encontré fue que la funcion me estaba retornando 0 y era por el orden de las variables que tenia en los parametros de la función, después de esta corrección logré obtener los resultados correctos por día y ciudad."
   ]
  },
  {
   "cell_type": "markdown",
   "metadata": {},
   "source": [
    "<div class=\"alert alert-block alert-success\">\n",
    "<b>Comentario de Revisor</b> <a class=\"tocSkip\"></a>\n",
    "\n",
    "Muy bien con las conclusiones! En futuros notebooks usaremos métodos más avanzados para poder determinar si la data confirma una hipótesis.\n",
    "\n",
    "</div>"
   ]
  }
 ],
 "metadata": {
  "colab": {
   "collapsed_sections": [
    "E0vqbgi9ay0H",
    "VUC88oWjTJw2"
   ],
   "provenance": []
  },
  "kernelspec": {
   "display_name": "estadistica",
   "language": "python",
   "name": "python3"
  },
  "language_info": {
   "codemirror_mode": {
    "name": "ipython",
    "version": 3
   },
   "file_extension": ".py",
   "mimetype": "text/x-python",
   "name": "python",
   "nbconvert_exporter": "python",
   "pygments_lexer": "ipython3",
   "version": "3.12.11"
  },
  "toc": {
   "base_numbering": 1,
   "nav_menu": {},
   "number_sections": true,
   "sideBar": true,
   "skip_h1_title": true,
   "title_cell": "Table of Contents",
   "title_sidebar": "Contents",
   "toc_cell": false,
   "toc_position": {},
   "toc_section_display": true,
   "toc_window_display": false
  }
 },
 "nbformat": 4,
 "nbformat_minor": 4
}
