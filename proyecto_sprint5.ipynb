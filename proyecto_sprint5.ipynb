{
 "cells": [
  {
   "cell_type": "markdown",
   "metadata": {},
   "source": [
    "# ¡Hola Roberto! 😊\n",
    "\n",
    "Mi nombre es **Alejandro Castellanos** y hoy tengo el placer de ser el revisor de tu proyecto.\n",
    "\n",
    "Voy a revisar todo tu código con detalle, buscando tanto los puntos fuertes como aquellos en los que podrías mejorar. Te dejaré comentarios a lo largo del notebook, destacando lo que has hecho bien y sugiriendo ajustes donde sea necesario. Si encuentro algún error, no te preocupes, te lo haré saber de forma clara y te daré información útil para que puedas corregirlo en la próxima iteración. Si en algún punto tienes comentarios, siéntete libre de dejarlos también.\n",
    "\n",
    "\n",
    "Encontrarás mis comentarios específicos dentro de cajas verdes, amarillas o rojas, es muy importante que no muevas, modifiques o borres mis comentarios, con el fin de tener un seguimiento adecuado de tu proceso:\n",
    "\n",
    "\n",
    "<div class=\"alert alert-block alert-success\">\n",
    "<b>Comentario del revisor</b> <a class=“tocSkip”></a>\n",
    "Si todo está perfecto.\n",
    "</div>\n",
    "\n",
    "<div class=\"alert alert-block alert-warning\">\n",
    "<b>Comentario del revisor</b> <a class=“tocSkip”></a>\n",
    "Si tu código está bien pero se puede mejorar o hay algún detalle que le hace falta.\n",
    "</div>\n",
    "\n",
    "<div class=\"alert alert-block alert-danger\">\n",
    "<b>Comentario del revisor</b> <a class=“tocSkip”></a>\n",
    "Si de pronto hace falta algo o existe algún problema con tu código o conclusiones.\n",
    "</div>\n",
    "\n",
    "Puedes responderme de esta forma:\n",
    "<div class=\"alert alert-block alert-info\">\n",
    "<b>Respuesta del estudiante</b> <a class=“tocSkip”></a>\n",
    "</div>\n",
    "\n",
    "A continuación te dejaré un comentario general con mi valoración del proyecto. **¡Mi objetivo es que sigas aprendiendo y mejorando con cada paso!**\n"
   ]
  },
  {
   "cell_type": "markdown",
   "metadata": {},
   "source": [
    "------"
   ]
  },
  {
   "cell_type": "markdown",
   "metadata": {},
   "source": [
    "<div class=\"alert alert-block alert-warning\">\n",
    "<b>Comentario General del revisor (1ra Iteración)</b> <a class=“tocSkip”></a>\n",
    "\n",
    "Rob has demostrado buenas habilidades en la etapa de preparación de datos para tu proyecto, lo cual establece una base firme para tu análisis. En el apartado de visualización, utilizaste herramientas efectivas para comprender el comportamiento de consumo de los usuarios en diferentes planes, mostrando habilidad para representar datos complejos. Además, tu enfoque en las pruebas de hipótesis refleja un buen dominio de la metodología para realizar comparaciones estadísticas en diferentes conjuntos de datos. \n",
    "\n",
    "Sin embargo, es necesario ajustar el cálculo del consumo de minutos e internet para determinar con mayor precisión el cobro mensual por usuario, un aspecto clave para la validez de tus conclusiones. \n",
    "\n",
    "¡No te preocupes! Cada ajuste que haces es una oportunidad para aprender y mejorar. Vas por buen camino, y estoy seguro de que en la siguiente versión harás un gran trabajo y lograrás completar el proyecto con éxito. ¡Sigue adelante! \n",
    "\n",
    "Estaré atento a tu próxima iteración 👀\n",
    "\n",
    "\n",
    "</div>"
   ]
  },
  {
   "cell_type": "markdown",
   "metadata": {},
   "source": [
    "<div class=\"alert alert-block alert-success\">\n",
    "<b>Comentario General del revisor (2da Iteración)</b> <a class=“tocSkip”></a>\n",
    "\n",
    "¡Roberto excelente trabajo con los ajustes! Tu proyecto ahora cumple con todos los objetivos propuestos. Estoy seguro de que lo que aprendiste aquí te será muy útil más adelante. \n",
    "\n",
    "¡Éxito en tu próximo sprint! 🚀\n",
    "\n",
    "*Estado del Proyecto:* **Aprobado**\n",
    "\n",
    "</div>"
   ]
  },
  {
   "cell_type": "markdown",
   "metadata": {},
   "source": [
    "------"
   ]
  },
  {
   "cell_type": "markdown",
   "metadata": {},
   "source": [
    "# 🧠 Sprint 5 - Proyecto: Análisis Estadístico de Datos\n",
    "\n",
    "---\n",
    "\n",
    "## 🎉 ¡Felicidades!\n",
    "Has completado la sección de **Análisis estadístico de datos**.  \n",
    "Es hora de aplicar todo tu conocimiento y habilidades en un **proyecto real**: un **estudio de caso analítico** que realizarás por tu cuenta.\n",
    "\n",
    "Cuando termines el proyecto:\n",
    "- 📤 Envía tu trabajo al **revisor de proyecto** para su evaluación.\n",
    "- ⏱️ Recibirás comentarios en **24 horas**.\n",
    "- 🔁 Usa el feedback para mejorar tu trabajo y vuelve a enviarlo si es necesario.\n",
    "\n",
    "> 💬 Es normal recibir varios ciclos de revisión.  \n",
    "> El proyecto se considerará **completado** una vez que el revisor lo **apruebe** ✅\n",
    "\n",
    "---\n",
    "\n",
    "## 🧾 Descripción del proyecto\n",
    "\n",
    "Trabajas como **analista de datos** para el operador de telecomunicaciones **Megaline**.  \n",
    "La empresa ofrece a sus clientes dos tarifas de prepago:\n",
    "\n",
    "- 📱 **Surf**  \n",
    "- 🌐 **Ultimate**\n",
    "\n",
    "El **departamento comercial** quiere saber **cuál de los planes genera más ingresos** para ajustar el presupuesto de publicidad.\n",
    "\n",
    "Tendrás acceso a los datos de **500 clientes** de Megaline, que incluyen:  \n",
    "👤 información de usuarios,  \n",
    "📞 llamadas realizadas,  \n",
    "💬 mensajes enviados, y  \n",
    "🌍 tráfico de internet consumido en 2018.\n",
    "\n",
    "Tu tarea será **analizar el comportamiento de los clientes** y determinar **qué plan de prepago genera más ingresos**.\n",
    "\n",
    "> 🧩 La conclusión final se basará en **pruebas estadísticas**.\n",
    "\n",
    "---\n",
    "\n",
    "## 💡 Descripción de las tarifas\n",
    "\n",
    "> 📏 *Nota:* Megaline **redondea los segundos a minutos** y los **megabytes a gigabytes**.\n",
    "\n",
    "- Para llamadas:  \n",
    "  Cada llamada individual se **redondea hacia arriba a minutos**.  \n",
    "  Ejemplo: una llamada de 1 segundo cuenta como **1 minuto**.\n",
    "\n",
    "- Para tráfico web:  \n",
    "  El total mensual se **redondea hacia arriba a GB**.  \n",
    "  Ejemplo: 1025 MB = **2 GB** cobrados.\n",
    "\n",
    "---\n",
    "\n",
    "### 📋 Detalle de las tarifas\n",
    "\n",
    "| Plan | Pago mensual | Minutos incluidos | SMS incluidos | Datos incluidos | Precio por minuto extra | Precio por SMS extra | Precio por GB extra |\n",
    "|------|---------------:|------------------:|---------------:|----------------:|------------------------:|---------------------:|--------------------:|\n",
    "| **Surf** | $20 | 500 min/mes | 50 SMS | 15 GB | 0.03 USD/min (3 centavos) | 0.03 USD/SMS | 10 USD/GB |\n",
    "| **Ultimate** | $70 | 3000 min/mes | 1000 SMS | 30 GB | 0.01 USD/min (1 centavo) | 0.01 USD/SMS | 7 USD/GB |\n",
    "\n",
    "---\n",
    "\n",
    "## 🗂️ Diccionario de datos\n",
    "\n",
    "Vas a trabajar con **cinco tablas diferentes**.\n",
    "\n",
    "---\n",
    "\n",
    "### 🧍‍♂️ `users` — Datos sobre los usuarios\n",
    "- `user_id` — identificador único del usuario.  \n",
    "- `first_name` — nombre del usuario.  \n",
    "- `last_name` — apellido del usuario.  \n",
    "- `age` — edad del usuario (en años).  \n",
    "- `reg_date` — fecha de suscripción (dd, mm, aa).  \n",
    "- `churn_date` — fecha en la que el usuario dejó de usar el servicio (si está ausente, la tarifa se estaba usando cuando se extrajo la base).  \n",
    "- `city` — ciudad de residencia del usuario.  \n",
    "- `plan` — nombre de la tarifa.\n",
    "\n",
    "---\n",
    "\n",
    "### 📞 `calls` — Datos sobre las llamadas\n",
    "- `id` — identificador único de la llamada.  \n",
    "- `call_date` — fecha de la llamada.  \n",
    "- `duration` — duración de la llamada (en minutos).  \n",
    "- `user_id` — identificador del usuario que realiza la llamada.\n",
    "\n",
    "---\n",
    "\n",
    "### 💬 `messages` — Datos sobre los SMS\n",
    "- `id` — identificador único del SMS.  \n",
    "- `message_date` — fecha del SMS.  \n",
    "- `user_id` — identificador del usuario que manda el SMS.\n",
    "\n",
    "---\n",
    "\n",
    "### 🌐 `internet` — Datos sobre las sesiones web\n",
    "- `id` — identificador único de la sesión.  \n",
    "- `mb_used` — volumen de datos gastados durante la sesión (en megabytes).  \n",
    "- `session_date` — fecha de la sesión web.  \n",
    "- `user_id` — identificador del usuario.\n",
    "\n",
    "---\n",
    "\n",
    "### 💰 `plans` — Datos sobre las tarifas\n",
    "- `plan_name` — nombre de la tarifa.  \n",
    "- `usd_monthly_fee` — pago mensual en USD.  \n",
    "- `minutes_included` — minutos incluidos al mes.  \n",
    "- `messages_included` — SMS incluidos al mes.  \n",
    "- `mb_per_month_included` — datos incluidos al mes (en megabytes).  \n",
    "- `usd_per_minute` — precio por minuto tras exceder los límites.  \n",
    "- `usd_per_message` — precio por SMS tras exceder los límites.  \n",
    "- `usd_per_gb` — precio por GB tras exceder los límites (1 GB = 1024 MB).\n",
    "\n",
    "---\n",
    "\n",
    "## 🧭 Instrucciones para completar el proyecto\n",
    "\n",
    "El proyecto incluye una **plantilla del cuaderno (Jupyter Notebook)**. El cuaderno te orientará sobre qué código escribir y te pedirá que expliques tus resultados a lo largo del proceso.\n",
    "\n",
    "### Tareas principales:\n",
    "- Rellenar cada celda de código en la plantilla.  \n",
    "- Editar las celdas Markdown donde la plantilla te pide que expliques tus resultados.  \n",
    "- Incluir una introducción (objetivos) y una conclusión (resumen de resultados).\n",
    "\n",
    "---\n",
    "\n",
    "## 🧱 Paso 1. Abrir el archivo de datos y estudiar la información general\n",
    "\n",
    "Rutas de los archivos (usa estas rutas en el notebook):\n",
    "\n"
   ]
  },
  {
   "cell_type": "markdown",
   "metadata": {},
   "source": [
    "\n",
    "---\n",
    "\n",
    "## 🧹 Paso 2. Preparar los datos\n",
    "\n",
    "- Convierte los datos a los tipos adecuados (**fechas, numéricos, etc.**).  \n",
    "- Encuentra y elimina errores en los datos. Explica qué errores encontraste y cómo los corregiste/eliminaste.  \n",
    "- Para cada usuario, calcula mensualmente:\n",
    "  - Número de llamadas realizadas y minutos utilizados.  \n",
    "  - Cantidad de SMS enviados.  \n",
    "  - Volumen de datos por mes.  \n",
    "  - **Ingresos mensuales por usuario**:\n",
    "    - Restar el límite del paquete gratuito del número total de llamadas, mensajes de texto y datos.  \n",
    "    - Multiplicar los excesos por el precio correspondiente.  \n",
    "    - Añadir la cuota mensual según el plan.\n",
    "\n",
    "---\n",
    "\n",
    "## 📊 Paso 3. Analizar los datos\n",
    "\n",
    "Describe el comportamiento de la clientela:\n",
    "\n",
    "- Encuentra los minutos, SMS y volumen de datos que requieren los usuarios de cada tarifa por mes.  \n",
    "- Calcula la **media**, la **varianza** y la **desviación estándar**.  \n",
    "- Traza histogramas y describe las distribuciones.\n",
    "\n",
    "---\n",
    "\n",
    "## 🧪 Paso 4. Probar las hipótesis\n",
    "\n",
    "Plantea y prueba al menos estas hipótesis:\n",
    "\n",
    "- **Hipótesis A:** El ingreso promedio de los usuarios de las tarifas **Ultimate** y **Surf** difiere.  \n",
    "- **Hipótesis B:** El ingreso promedio de los usuarios en el área **Nueva York–Nueva Jersey** es diferente al de los usuarios de otras regiones.\n",
    "\n",
    "Tú decides qué valor α usar. Además, tienes que explicar:\n",
    "\n",
    "- Cómo formulaste la **hipótesis nula** y **alternativa**.  \n",
    "- Qué criterio utilizaste para probar las hipótesis y por qué (por ejemplo: prueba t, test no paramétrico, comprobación de supuestos, etc.).\n",
    "\n",
    "---\n",
    "\n",
    "## 🧾 Paso 5. Escribir una conclusión general\n",
    "\n",
    "Redacta una conclusión que resuma los hallazgos principales y la recomendación sobre qué plan genera más ingresos (si aplica).\n",
    "\n",
    "---\n",
    "\n",
    "## 🧩 Formato\n",
    "\n",
    "- Completa todas las tareas en un **Jupyter Notebook**.  \n",
    "- Almacena el código en **celdas code** y las explicaciones en **celdas markdown**.  \n",
    "- Añade títulos y el formato adecuado.  \n",
    "- Comenta cada paso del análisis.\n",
    "\n",
    "---\n",
    "\n",
    "## 🧮 Criterios de evaluación\n",
    "\n",
    "Los revisores valorarán:\n",
    "\n",
    "- Cómo explicas los problemas identificados en los datos.  \n",
    "- Cómo preparas los datos para el análisis.  \n",
    "- Qué gráficos trazas para las distribuciones.  \n",
    "- Cómo interpretas los gráficos resultantes.  \n",
    "- Cómo calculas la desviación estándar y la varianza.  \n",
    "- Si formulas la hipótesis nula y la alternativa.  \n",
    "- Qué métodos usas para probar las hipótesis.  \n",
    "- Si interpretas los resultados de tus pruebas de hipótesis.  \n",
    "- Si sigues la estructura del proyecto y mantienes el código ordenado.  \n",
    "- Las conclusiones a las que llegas.  \n",
    "- Si dejas comentarios en cada paso.\n",
    "\n",
    "---\n",
    "\n",
    "> 💡 **Consejo final:**  \n",
    "> Cuida la claridad de tu notebook.  \n",
    "> Explica **cada paso como si lo leyera alguien por primera vez**.  \n",
    "> Los revisores valoran más la **claridad y el razonamiento** que el número de líneas de código.\n"
   ]
  },
  {
   "cell_type": "markdown",
   "metadata": {},
   "source": [
    "# 🎨 Cheat Sheet Unificado: Visualizaciones con Matplotlib y Seaborn\n",
    "\n",
    "| Tipo de gráfico | Librería | Función / Sintaxis | Descripción | Ejemplo |\n",
    "|-----------------|----------|------------------|-------------|---------|\n",
    "| Línea | Matplotlib | `plt.plot(x, y, color='blue', marker='o', linestyle='--')` | Muestra tendencias o evolución | `plt.plot(años, ventas, color='red', marker='o')` |\n",
    "| Barras verticales | Matplotlib | `plt.bar(x, height, color='green')` | Compara categorías | `plt.bar(productos, ventas)` |\n",
    "| Barras horizontales | Matplotlib | `plt.barh(y, width, color='orange')` | Barras horizontales | `plt.barh(ciudades, poblacion)` |\n",
    "| Histograma | Matplotlib | `plt.hist(datos, bins=10, color='purple', edgecolor='black')` | Distribución de frecuencias | `plt.hist(edades, bins=5)` |\n",
    "| Dispersión | Matplotlib | `plt.scatter(x, y, color='blue', alpha=0.6)` | Relación entre dos variables | `plt.scatter(ingresos, gastos)` |\n",
    "| Pastel | Matplotlib | `plt.pie(valores, labels=etiquetas, autopct='%1.1f%%')` | Proporciones o porcentajes | `plt.pie(partes, labels=categorias)` |\n",
    "| Boxplot | Matplotlib | `plt.boxplot(datos)` | Distribución y valores atípicos | `plt.boxplot(alturas)` |\n",
    "| Área | Matplotlib | `plt.fill_between(x, y, color='skyblue', alpha=0.4)` | Relleno entre ejes | `plt.fill_between(dias, temp)` |\n",
    "| Subplots | Matplotlib | `fig, ax = plt.subplots(1,2, figsize=(10,5))` | Varias gráficas en una figura | `ax[0].plot(x,y)` |\n",
    "| Relación (scatter/line) | Seaborn | `sns.relplot(data=df, x='x', y='y', kind='scatter')` | Relación entre variables | `sns.relplot(data=df, x='edad', y='ingreso')` |\n",
    "| Línea (tendencia) | Seaborn | `sns.lineplot(data=df, x='x', y='y', hue='grupo')` | Tendencia por categorías | `sns.lineplot(x='año', y='ventas', data=df)` |\n",
    "| Histograma | Seaborn | `sns.histplot(data=df, x='columna', bins=10, kde=True)` | Distribución de una variable | `sns.histplot(df['edad'], bins=8)` |\n",
    "| KDE (densidad) | Seaborn | `sns.kdeplot(data=df['columna'], shade=True)` | Curva de densidad | `sns.kdeplot(df['altura'], shade=True)` |\n",
    "| Boxplot | Seaborn | `sns.boxplot(data=df, x='categoria', y='valor')` | Distribución por categoría | `sns.boxplot(x='sexo', y='altura', data=df)` |\n",
    "| Violinplot | Seaborn | `sns.violinplot(data=df, x='categoria', y='valor')` | Distribución + densidad | `sns.violinplot(x='grupo', y='peso', data=df)` |\n",
    "| Countplot | Seaborn | `sns.countplot(data=df, x='columna')` | Conteo de categorías | `sns.countplot(x='genero', data=df)` |\n",
    "| Barplot | Seaborn | `sns.barplot(data=df, x='categoria', y='valor', estimator=np.mean)` | Promedios o comparaciones | `sns.barplot(x='producto', y='ventas', data=df)` |\n",
    "| Heatmap | Seaborn | `sns.heatmap(df.corr(), annot=True, cmap='coolwarm')` | Muestra correlaciones | `sns.heatmap(df.corr(), annot=True)` |\n",
    "| Pairplot | Seaborn | `sns.pairplot(df)` | Relaciones entre todas las variables numéricas | `sns.pairplot(df)` |\n",
    "| Swarmplot | Seaborn | `sns.swarmplot(data=df, x='categoria', y='valor')` | Distribución individual de puntos | `sns.swarmplot(x='grupo', y='peso', data=df)` |\n"
   ]
  },
  {
   "cell_type": "markdown",
   "metadata": {},
   "source": [
    "# 📊 Cheat Sheet: Líneas verticales en Histogramas (Media, Mediana, Desviación Estándar)\n",
    "\n",
    "| Concepto | Librería | Función / Sintaxis | Descripción | Ejemplo |\n",
    "|----------|----------|------------------|-------------|---------|\n",
    "| Línea vertical | Matplotlib | `plt.axvline(x, color='red', linestyle='dashed', linewidth=2, label='Media')` | Dibuja línea vertical en `x` | `plt.axvline(np.mean(data), color='red', linestyle='dashed', label=f'Media={np.mean(data):.2f}')` |\n",
    "| Media | Matplotlib | `np.mean(data)` | Calcula la media de los datos | `media = np.mean(data)` |\n",
    "| Mediana | Matplotlib | `np.median(data)` | Calcula la mediana | `plt.axvline(np.median(data), color='green', linestyle='dashdot', label='Mediana')` |\n",
    "| Desviación estándar | Matplotlib | `np.std(data)` | Calcula desviación estándar | `plt.axvline(media+np.std(data), color='orange', linestyle='dotted', label='+1σ')`<br>`plt.axvline(media-np.std(data), color='orange', linestyle='dotted', label='-1σ')` |\n",
    "| Histograma básico | Matplotlib | `plt.hist(data, bins=10, color='skyblue', edgecolor='black')` | Dibuja histograma simple | `plt.hist(data, bins=10)` |\n",
    "| Histograma con KDE | Seaborn | `sns.histplot(data, bins=10, kde=True, color='skyblue')` | Histograma con curva de densidad | `sns.histplot(data, bins=10, kde=True)` |\n",
    "| Añadir línea vertical en Seaborn | Matplotlib | `plt.axvline(...)` | Se usa igual que en Matplotlib | `plt.axvline(np.mean(data), color='red', linestyle='dashed', label='Media')` |\n",
    "| Leyenda | Matplotlib | `plt.legend()` | Muestra la leyenda con etiquetas | `plt.legend()` |\n",
    "| Etiquetas y título | Matplotlib | `plt.xlabel() / plt.ylabel() / plt.title()` | Personaliza el gráfico | `plt.xlabel('Valor')`<br>`plt.ylabel('Frecuencia')`<br>`plt.title('Histograma con Media y Desviación')` |\n"
   ]
  },
  {
   "cell_type": "markdown",
   "metadata": {
    "id": "MQi4IPy70q0y"
   },
   "source": [
    "## Inicialización"
   ]
  },
  {
   "cell_type": "code",
   "execution_count": 103,
   "metadata": {
    "id": "MtYIuBxu0q0z"
   },
   "outputs": [],
   "source": [
    "# Cargar todas las librerías\n",
    "\n",
    "#Código para poder importar la librearía de pandas y poder manipular datos\n",
    "import pandas as pd\n",
    "#Para visualizaciones\n",
    "import matplotlib.pyplot as plt\n",
    "import seaborn as sns\n",
    "#Para cálculos estadísticos\n",
    "import numpy as np\n",
    "from scipy import stats"
   ]
  },
  {
   "cell_type": "markdown",
   "metadata": {
    "id": "4ysWWC5i0q00"
   },
   "source": [
    "## Cargar datos"
   ]
  },
  {
   "cell_type": "code",
   "execution_count": 104,
   "metadata": {
    "id": "CCqPW7rS0q01"
   },
   "outputs": [],
   "source": [
    "# Carga los archivos de datos en diferentes DataFrames\n",
    "#Se transforman los datasets a DataFrames en Pandas\n",
    "users = pd.read_csv('/Users/robertohernandezluna/Downloads/megaline_users.csv')\n",
    "calls = pd.read_csv('/Users/robertohernandezluna/Downloads/megaline_calls.csv')\n",
    "internet = pd.read_csv('/Users/robertohernandezluna/Downloads/megaline_internet.csv')\n",
    "messages = pd.read_csv('/Users/robertohernandezluna/Downloads/megaline_messages.csv')\n",
    "plans = pd.read_csv('/Users/robertohernandezluna/Downloads/megaline_plans.csv')"
   ]
  },
  {
   "cell_type": "markdown",
   "metadata": {
    "id": "69qqoJ3r0q01"
   },
   "source": [
    "## Preparar los datos"
   ]
  },
  {
   "cell_type": "markdown",
   "metadata": {
    "id": "ohBhimvH0q01"
   },
   "source": [
    "## Tarifas"
   ]
  },
  {
   "cell_type": "code",
   "execution_count": 105,
   "metadata": {
    "id": "GptqP3Q40q02"
   },
   "outputs": [
    {
     "name": "stdout",
     "output_type": "stream",
     "text": [
      "<class 'pandas.core.frame.DataFrame'>\n",
      "RangeIndex: 2 entries, 0 to 1\n",
      "Data columns (total 8 columns):\n",
      " #   Column                 Non-Null Count  Dtype  \n",
      "---  ------                 --------------  -----  \n",
      " 0   messages_included      2 non-null      int64  \n",
      " 1   mb_per_month_included  2 non-null      int64  \n",
      " 2   minutes_included       2 non-null      int64  \n",
      " 3   usd_monthly_pay        2 non-null      int64  \n",
      " 4   usd_per_gb             2 non-null      int64  \n",
      " 5   usd_per_message        2 non-null      float64\n",
      " 6   usd_per_minute         2 non-null      float64\n",
      " 7   plan_name              2 non-null      object \n",
      "dtypes: float64(2), int64(5), object(1)\n",
      "memory usage: 260.0+ bytes\n"
     ]
    }
   ],
   "source": [
    "# Imprime la información general/resumida sobre el DataFrame de las tarifas\n",
    "plans.info()"
   ]
  },
  {
   "cell_type": "code",
   "execution_count": 106,
   "metadata": {
    "id": "64xzjwL70q02"
   },
   "outputs": [
    {
     "data": {
      "text/plain": [
       "(2, 8)"
      ]
     },
     "execution_count": 106,
     "metadata": {},
     "output_type": "execute_result"
    }
   ],
   "source": [
    "plans.shape\n",
    "\n"
   ]
  },
  {
   "cell_type": "code",
   "execution_count": 107,
   "metadata": {},
   "outputs": [
    {
     "data": {
      "text/html": [
       "<div>\n",
       "<style scoped>\n",
       "    .dataframe tbody tr th:only-of-type {\n",
       "        vertical-align: middle;\n",
       "    }\n",
       "\n",
       "    .dataframe tbody tr th {\n",
       "        vertical-align: top;\n",
       "    }\n",
       "\n",
       "    .dataframe thead th {\n",
       "        text-align: right;\n",
       "    }\n",
       "</style>\n",
       "<table border=\"1\" class=\"dataframe\">\n",
       "  <thead>\n",
       "    <tr style=\"text-align: right;\">\n",
       "      <th></th>\n",
       "      <th>messages_included</th>\n",
       "      <th>mb_per_month_included</th>\n",
       "      <th>minutes_included</th>\n",
       "      <th>usd_monthly_pay</th>\n",
       "      <th>usd_per_gb</th>\n",
       "      <th>usd_per_message</th>\n",
       "      <th>usd_per_minute</th>\n",
       "    </tr>\n",
       "  </thead>\n",
       "  <tbody>\n",
       "    <tr>\n",
       "      <th>count</th>\n",
       "      <td>2.000000</td>\n",
       "      <td>2.000000</td>\n",
       "      <td>2.000000</td>\n",
       "      <td>2.000000</td>\n",
       "      <td>2.00000</td>\n",
       "      <td>2.000000</td>\n",
       "      <td>2.000000</td>\n",
       "    </tr>\n",
       "    <tr>\n",
       "      <th>mean</th>\n",
       "      <td>525.000000</td>\n",
       "      <td>23040.000000</td>\n",
       "      <td>1750.000000</td>\n",
       "      <td>45.000000</td>\n",
       "      <td>8.50000</td>\n",
       "      <td>0.020000</td>\n",
       "      <td>0.020000</td>\n",
       "    </tr>\n",
       "    <tr>\n",
       "      <th>std</th>\n",
       "      <td>671.751442</td>\n",
       "      <td>10861.160159</td>\n",
       "      <td>1767.766953</td>\n",
       "      <td>35.355339</td>\n",
       "      <td>2.12132</td>\n",
       "      <td>0.014142</td>\n",
       "      <td>0.014142</td>\n",
       "    </tr>\n",
       "    <tr>\n",
       "      <th>min</th>\n",
       "      <td>50.000000</td>\n",
       "      <td>15360.000000</td>\n",
       "      <td>500.000000</td>\n",
       "      <td>20.000000</td>\n",
       "      <td>7.00000</td>\n",
       "      <td>0.010000</td>\n",
       "      <td>0.010000</td>\n",
       "    </tr>\n",
       "    <tr>\n",
       "      <th>25%</th>\n",
       "      <td>287.500000</td>\n",
       "      <td>19200.000000</td>\n",
       "      <td>1125.000000</td>\n",
       "      <td>32.500000</td>\n",
       "      <td>7.75000</td>\n",
       "      <td>0.015000</td>\n",
       "      <td>0.015000</td>\n",
       "    </tr>\n",
       "    <tr>\n",
       "      <th>50%</th>\n",
       "      <td>525.000000</td>\n",
       "      <td>23040.000000</td>\n",
       "      <td>1750.000000</td>\n",
       "      <td>45.000000</td>\n",
       "      <td>8.50000</td>\n",
       "      <td>0.020000</td>\n",
       "      <td>0.020000</td>\n",
       "    </tr>\n",
       "    <tr>\n",
       "      <th>75%</th>\n",
       "      <td>762.500000</td>\n",
       "      <td>26880.000000</td>\n",
       "      <td>2375.000000</td>\n",
       "      <td>57.500000</td>\n",
       "      <td>9.25000</td>\n",
       "      <td>0.025000</td>\n",
       "      <td>0.025000</td>\n",
       "    </tr>\n",
       "    <tr>\n",
       "      <th>max</th>\n",
       "      <td>1000.000000</td>\n",
       "      <td>30720.000000</td>\n",
       "      <td>3000.000000</td>\n",
       "      <td>70.000000</td>\n",
       "      <td>10.00000</td>\n",
       "      <td>0.030000</td>\n",
       "      <td>0.030000</td>\n",
       "    </tr>\n",
       "  </tbody>\n",
       "</table>\n",
       "</div>"
      ],
      "text/plain": [
       "       messages_included  mb_per_month_included  minutes_included  \\\n",
       "count           2.000000               2.000000          2.000000   \n",
       "mean          525.000000           23040.000000       1750.000000   \n",
       "std           671.751442           10861.160159       1767.766953   \n",
       "min            50.000000           15360.000000        500.000000   \n",
       "25%           287.500000           19200.000000       1125.000000   \n",
       "50%           525.000000           23040.000000       1750.000000   \n",
       "75%           762.500000           26880.000000       2375.000000   \n",
       "max          1000.000000           30720.000000       3000.000000   \n",
       "\n",
       "       usd_monthly_pay  usd_per_gb  usd_per_message  usd_per_minute  \n",
       "count         2.000000     2.00000         2.000000        2.000000  \n",
       "mean         45.000000     8.50000         0.020000        0.020000  \n",
       "std          35.355339     2.12132         0.014142        0.014142  \n",
       "min          20.000000     7.00000         0.010000        0.010000  \n",
       "25%          32.500000     7.75000         0.015000        0.015000  \n",
       "50%          45.000000     8.50000         0.020000        0.020000  \n",
       "75%          57.500000     9.25000         0.025000        0.025000  \n",
       "max          70.000000    10.00000         0.030000        0.030000  "
      ]
     },
     "execution_count": 107,
     "metadata": {},
     "output_type": "execute_result"
    }
   ],
   "source": [
    "plans.describe()"
   ]
  },
  {
   "cell_type": "code",
   "execution_count": 108,
   "metadata": {},
   "outputs": [
    {
     "data": {
      "text/html": [
       "<div>\n",
       "<style scoped>\n",
       "    .dataframe tbody tr th:only-of-type {\n",
       "        vertical-align: middle;\n",
       "    }\n",
       "\n",
       "    .dataframe tbody tr th {\n",
       "        vertical-align: top;\n",
       "    }\n",
       "\n",
       "    .dataframe thead th {\n",
       "        text-align: right;\n",
       "    }\n",
       "</style>\n",
       "<table border=\"1\" class=\"dataframe\">\n",
       "  <thead>\n",
       "    <tr style=\"text-align: right;\">\n",
       "      <th></th>\n",
       "      <th>messages_included</th>\n",
       "      <th>mb_per_month_included</th>\n",
       "      <th>minutes_included</th>\n",
       "      <th>usd_monthly_pay</th>\n",
       "      <th>usd_per_gb</th>\n",
       "      <th>usd_per_message</th>\n",
       "      <th>usd_per_minute</th>\n",
       "      <th>plan_name</th>\n",
       "    </tr>\n",
       "  </thead>\n",
       "  <tbody>\n",
       "    <tr>\n",
       "      <th>0</th>\n",
       "      <td>50</td>\n",
       "      <td>15360</td>\n",
       "      <td>500</td>\n",
       "      <td>20</td>\n",
       "      <td>10</td>\n",
       "      <td>0.03</td>\n",
       "      <td>0.03</td>\n",
       "      <td>surf</td>\n",
       "    </tr>\n",
       "    <tr>\n",
       "      <th>1</th>\n",
       "      <td>1000</td>\n",
       "      <td>30720</td>\n",
       "      <td>3000</td>\n",
       "      <td>70</td>\n",
       "      <td>7</td>\n",
       "      <td>0.01</td>\n",
       "      <td>0.01</td>\n",
       "      <td>ultimate</td>\n",
       "    </tr>\n",
       "  </tbody>\n",
       "</table>\n",
       "</div>"
      ],
      "text/plain": [
       "   messages_included  mb_per_month_included  minutes_included  \\\n",
       "0                 50                  15360               500   \n",
       "1               1000                  30720              3000   \n",
       "\n",
       "   usd_monthly_pay  usd_per_gb  usd_per_message  usd_per_minute plan_name  \n",
       "0               20          10             0.03            0.03      surf  \n",
       "1               70           7             0.01            0.01  ultimate  "
      ]
     },
     "execution_count": 108,
     "metadata": {},
     "output_type": "execute_result"
    }
   ],
   "source": [
    "plans.head()"
   ]
  },
  {
   "cell_type": "markdown",
   "metadata": {
    "collapsed": false,
    "id": "R3C05i1l0q03",
    "jupyter": {
     "outputs_hidden": false
    }
   },
   "source": [
    "## Corregir datos"
   ]
  },
  {
   "cell_type": "code",
   "execution_count": 109,
   "metadata": {
    "id": "Y7SVmjGn0q03"
   },
   "outputs": [],
   "source": [
    "#1. La columna messages_included es correcto que sea entera, ya que los mensajes no se pueden fraccionar.\n",
    "#2. La columna mb_per_month_included debe de ser decimal o float ya que los megabytes si se pueden medir en decimales también.\n",
    "#3. La columna minutes_included debe de ser decimal o float ya que los minutos se pueden fraccionar.\n",
    "#4. La columna usd_monthly_pay debe ser decimal, ya que los pagos pueden usar decimales para una mejor exactitud.\n",
    "#5. La columna usd_per_gb debe ser decimal, ya que es un monto de dinero que se cobra por exeder el uso de gb.\n",
    "#6. La columna usd_per_message correcto que sea decimal, ya que es el monto que se cobra por exceder el uso de sms.\n",
    "#7. La columna usd_per_minute correcto que sea decimal, ya que es el monto que se cobra por exceder el uso de minutos.\n",
    "#8. plan_name, es correcta que sea objetc ya que es un dato categórico."
   ]
  },
  {
   "cell_type": "code",
   "execution_count": 110,
   "metadata": {},
   "outputs": [],
   "source": [
    "#1. Se procede a corregir la columna mb_per_month_included a float:\n",
    "plans['mb_per_month_included'] = plans['mb_per_month_included'].astype('float')"
   ]
  },
  {
   "cell_type": "code",
   "execution_count": 111,
   "metadata": {},
   "outputs": [],
   "source": [
    "#2. Se procede a convertir la columna minutes_included a float:\n",
    "plans['minutes_included'] = pd.to_numeric(plans['minutes_included'], downcast='float')"
   ]
  },
  {
   "cell_type": "code",
   "execution_count": 112,
   "metadata": {},
   "outputs": [],
   "source": [
    "#3. Se procede a convertir la columna usd_monthly_pay a float:\n",
    "plans['usd_monthly_pay'] = pd.to_numeric(plans['usd_monthly_pay'],downcast='float')"
   ]
  },
  {
   "cell_type": "code",
   "execution_count": 113,
   "metadata": {},
   "outputs": [],
   "source": [
    "#4. Se procede a convertir la columna usd_per_gb a float:\n",
    "plans['usd_per_gb'] = pd.to_numeric(plans['usd_per_gb'], downcast='float')"
   ]
  },
  {
   "cell_type": "code",
   "execution_count": 114,
   "metadata": {},
   "outputs": [
    {
     "name": "stdout",
     "output_type": "stream",
     "text": [
      "<class 'pandas.core.frame.DataFrame'>\n",
      "RangeIndex: 2 entries, 0 to 1\n",
      "Data columns (total 8 columns):\n",
      " #   Column                 Non-Null Count  Dtype  \n",
      "---  ------                 --------------  -----  \n",
      " 0   messages_included      2 non-null      int64  \n",
      " 1   mb_per_month_included  2 non-null      float64\n",
      " 2   minutes_included       2 non-null      float32\n",
      " 3   usd_monthly_pay        2 non-null      float32\n",
      " 4   usd_per_gb             2 non-null      float32\n",
      " 5   usd_per_message        2 non-null      float64\n",
      " 6   usd_per_minute         2 non-null      float64\n",
      " 7   plan_name              2 non-null      object \n",
      "dtypes: float32(3), float64(3), int64(1), object(1)\n",
      "memory usage: 236.0+ bytes\n"
     ]
    }
   ],
   "source": [
    "plans.info()"
   ]
  },
  {
   "cell_type": "markdown",
   "metadata": {
    "id": "1n2X6WXf0q04"
   },
   "source": [
    "## Usuarios/as"
   ]
  },
  {
   "cell_type": "code",
   "execution_count": 115,
   "metadata": {
    "id": "2NgjWFqx0q05"
   },
   "outputs": [
    {
     "name": "stdout",
     "output_type": "stream",
     "text": [
      "<class 'pandas.core.frame.DataFrame'>\n",
      "RangeIndex: 500 entries, 0 to 499\n",
      "Data columns (total 8 columns):\n",
      " #   Column      Non-Null Count  Dtype \n",
      "---  ------      --------------  ----- \n",
      " 0   user_id     500 non-null    int64 \n",
      " 1   first_name  500 non-null    object\n",
      " 2   last_name   500 non-null    object\n",
      " 3   age         500 non-null    int64 \n",
      " 4   city        500 non-null    object\n",
      " 5   reg_date    500 non-null    object\n",
      " 6   plan        500 non-null    object\n",
      " 7   churn_date  34 non-null     object\n",
      "dtypes: int64(2), object(6)\n",
      "memory usage: 31.4+ KB\n"
     ]
    }
   ],
   "source": [
    "# Imprime la información general/resumida sobre el DataFrame de usuarios\n",
    "users.info()"
   ]
  },
  {
   "cell_type": "code",
   "execution_count": 116,
   "metadata": {
    "id": "1IN1L9uh0q05"
   },
   "outputs": [
    {
     "data": {
      "text/plain": [
       "(500, 8)"
      ]
     },
     "execution_count": 116,
     "metadata": {},
     "output_type": "execute_result"
    }
   ],
   "source": [
    "users.shape\n"
   ]
  },
  {
   "cell_type": "code",
   "execution_count": 117,
   "metadata": {},
   "outputs": [
    {
     "data": {
      "text/html": [
       "<div>\n",
       "<style scoped>\n",
       "    .dataframe tbody tr th:only-of-type {\n",
       "        vertical-align: middle;\n",
       "    }\n",
       "\n",
       "    .dataframe tbody tr th {\n",
       "        vertical-align: top;\n",
       "    }\n",
       "\n",
       "    .dataframe thead th {\n",
       "        text-align: right;\n",
       "    }\n",
       "</style>\n",
       "<table border=\"1\" class=\"dataframe\">\n",
       "  <thead>\n",
       "    <tr style=\"text-align: right;\">\n",
       "      <th></th>\n",
       "      <th>user_id</th>\n",
       "      <th>age</th>\n",
       "    </tr>\n",
       "  </thead>\n",
       "  <tbody>\n",
       "    <tr>\n",
       "      <th>count</th>\n",
       "      <td>500.000000</td>\n",
       "      <td>500.000000</td>\n",
       "    </tr>\n",
       "    <tr>\n",
       "      <th>mean</th>\n",
       "      <td>1249.500000</td>\n",
       "      <td>45.486000</td>\n",
       "    </tr>\n",
       "    <tr>\n",
       "      <th>std</th>\n",
       "      <td>144.481833</td>\n",
       "      <td>16.972269</td>\n",
       "    </tr>\n",
       "    <tr>\n",
       "      <th>min</th>\n",
       "      <td>1000.000000</td>\n",
       "      <td>18.000000</td>\n",
       "    </tr>\n",
       "    <tr>\n",
       "      <th>25%</th>\n",
       "      <td>1124.750000</td>\n",
       "      <td>30.000000</td>\n",
       "    </tr>\n",
       "    <tr>\n",
       "      <th>50%</th>\n",
       "      <td>1249.500000</td>\n",
       "      <td>46.000000</td>\n",
       "    </tr>\n",
       "    <tr>\n",
       "      <th>75%</th>\n",
       "      <td>1374.250000</td>\n",
       "      <td>61.000000</td>\n",
       "    </tr>\n",
       "    <tr>\n",
       "      <th>max</th>\n",
       "      <td>1499.000000</td>\n",
       "      <td>75.000000</td>\n",
       "    </tr>\n",
       "  </tbody>\n",
       "</table>\n",
       "</div>"
      ],
      "text/plain": [
       "           user_id         age\n",
       "count   500.000000  500.000000\n",
       "mean   1249.500000   45.486000\n",
       "std     144.481833   16.972269\n",
       "min    1000.000000   18.000000\n",
       "25%    1124.750000   30.000000\n",
       "50%    1249.500000   46.000000\n",
       "75%    1374.250000   61.000000\n",
       "max    1499.000000   75.000000"
      ]
     },
     "execution_count": 117,
     "metadata": {},
     "output_type": "execute_result"
    }
   ],
   "source": [
    "users.describe()"
   ]
  },
  {
   "cell_type": "code",
   "execution_count": 118,
   "metadata": {},
   "outputs": [
    {
     "data": {
      "text/html": [
       "<div>\n",
       "<style scoped>\n",
       "    .dataframe tbody tr th:only-of-type {\n",
       "        vertical-align: middle;\n",
       "    }\n",
       "\n",
       "    .dataframe tbody tr th {\n",
       "        vertical-align: top;\n",
       "    }\n",
       "\n",
       "    .dataframe thead th {\n",
       "        text-align: right;\n",
       "    }\n",
       "</style>\n",
       "<table border=\"1\" class=\"dataframe\">\n",
       "  <thead>\n",
       "    <tr style=\"text-align: right;\">\n",
       "      <th></th>\n",
       "      <th>user_id</th>\n",
       "      <th>first_name</th>\n",
       "      <th>last_name</th>\n",
       "      <th>age</th>\n",
       "      <th>city</th>\n",
       "      <th>reg_date</th>\n",
       "      <th>plan</th>\n",
       "      <th>churn_date</th>\n",
       "    </tr>\n",
       "  </thead>\n",
       "  <tbody>\n",
       "    <tr>\n",
       "      <th>0</th>\n",
       "      <td>1000</td>\n",
       "      <td>Anamaria</td>\n",
       "      <td>Bauer</td>\n",
       "      <td>45</td>\n",
       "      <td>Atlanta-Sandy Springs-Roswell, GA MSA</td>\n",
       "      <td>2018-12-24</td>\n",
       "      <td>ultimate</td>\n",
       "      <td>NaN</td>\n",
       "    </tr>\n",
       "    <tr>\n",
       "      <th>1</th>\n",
       "      <td>1001</td>\n",
       "      <td>Mickey</td>\n",
       "      <td>Wilkerson</td>\n",
       "      <td>28</td>\n",
       "      <td>Seattle-Tacoma-Bellevue, WA MSA</td>\n",
       "      <td>2018-08-13</td>\n",
       "      <td>surf</td>\n",
       "      <td>NaN</td>\n",
       "    </tr>\n",
       "    <tr>\n",
       "      <th>2</th>\n",
       "      <td>1002</td>\n",
       "      <td>Carlee</td>\n",
       "      <td>Hoffman</td>\n",
       "      <td>36</td>\n",
       "      <td>Las Vegas-Henderson-Paradise, NV MSA</td>\n",
       "      <td>2018-10-21</td>\n",
       "      <td>surf</td>\n",
       "      <td>NaN</td>\n",
       "    </tr>\n",
       "    <tr>\n",
       "      <th>3</th>\n",
       "      <td>1003</td>\n",
       "      <td>Reynaldo</td>\n",
       "      <td>Jenkins</td>\n",
       "      <td>52</td>\n",
       "      <td>Tulsa, OK MSA</td>\n",
       "      <td>2018-01-28</td>\n",
       "      <td>surf</td>\n",
       "      <td>NaN</td>\n",
       "    </tr>\n",
       "    <tr>\n",
       "      <th>4</th>\n",
       "      <td>1004</td>\n",
       "      <td>Leonila</td>\n",
       "      <td>Thompson</td>\n",
       "      <td>40</td>\n",
       "      <td>Seattle-Tacoma-Bellevue, WA MSA</td>\n",
       "      <td>2018-05-23</td>\n",
       "      <td>surf</td>\n",
       "      <td>NaN</td>\n",
       "    </tr>\n",
       "  </tbody>\n",
       "</table>\n",
       "</div>"
      ],
      "text/plain": [
       "   user_id first_name  last_name  age                                   city  \\\n",
       "0     1000   Anamaria      Bauer   45  Atlanta-Sandy Springs-Roswell, GA MSA   \n",
       "1     1001     Mickey  Wilkerson   28        Seattle-Tacoma-Bellevue, WA MSA   \n",
       "2     1002     Carlee    Hoffman   36   Las Vegas-Henderson-Paradise, NV MSA   \n",
       "3     1003   Reynaldo    Jenkins   52                          Tulsa, OK MSA   \n",
       "4     1004    Leonila   Thompson   40        Seattle-Tacoma-Bellevue, WA MSA   \n",
       "\n",
       "     reg_date      plan churn_date  \n",
       "0  2018-12-24  ultimate        NaN  \n",
       "1  2018-08-13      surf        NaN  \n",
       "2  2018-10-21      surf        NaN  \n",
       "3  2018-01-28      surf        NaN  \n",
       "4  2018-05-23      surf        NaN  "
      ]
     },
     "execution_count": 118,
     "metadata": {},
     "output_type": "execute_result"
    }
   ],
   "source": [
    "users.head()"
   ]
  },
  {
   "cell_type": "markdown",
   "metadata": {
    "id": "BX5FQh_I0q06"
   },
   "source": [
    "### Corregir los datos"
   ]
  },
  {
   "cell_type": "code",
   "execution_count": 119,
   "metadata": {
    "id": "yUqX-K0C0q07"
   },
   "outputs": [],
   "source": [
    "#1. La columna reg_date debe ser de tipo date, ya que es una fecha y esta debe de estar en este formato sobre todo si se quiere trabajar con operaciones, se procede a corregir:\n",
    "users['reg_date'] = pd.to_datetime(users['reg_date'])"
   ]
  },
  {
   "cell_type": "code",
   "execution_count": 120,
   "metadata": {},
   "outputs": [],
   "source": [
    "#2. La columna churn_date debe ser de tipo date, ya que es una fecha y esta debe de estar en este formato sobre todo si se quiere trabajar con operaciones, se procede a corregir:\n",
    "users['churn_date'] = pd.to_datetime(users['churn_date'])"
   ]
  },
  {
   "cell_type": "code",
   "execution_count": 121,
   "metadata": {},
   "outputs": [
    {
     "name": "stdout",
     "output_type": "stream",
     "text": [
      "<class 'pandas.core.frame.DataFrame'>\n",
      "RangeIndex: 500 entries, 0 to 499\n",
      "Data columns (total 8 columns):\n",
      " #   Column      Non-Null Count  Dtype         \n",
      "---  ------      --------------  -----         \n",
      " 0   user_id     500 non-null    int64         \n",
      " 1   first_name  500 non-null    object        \n",
      " 2   last_name   500 non-null    object        \n",
      " 3   age         500 non-null    int64         \n",
      " 4   city        500 non-null    object        \n",
      " 5   reg_date    500 non-null    datetime64[ns]\n",
      " 6   plan        500 non-null    object        \n",
      " 7   churn_date  34 non-null     datetime64[ns]\n",
      "dtypes: datetime64[ns](2), int64(2), object(4)\n",
      "memory usage: 31.4+ KB\n"
     ]
    }
   ],
   "source": [
    "users.info()"
   ]
  },
  {
   "cell_type": "markdown",
   "metadata": {
    "id": "o7MeKCid0q08"
   },
   "source": [
    "## Llamadas"
   ]
  },
  {
   "cell_type": "code",
   "execution_count": 122,
   "metadata": {
    "id": "6dDlnoDm0q08"
   },
   "outputs": [
    {
     "data": {
      "text/plain": [
       "(137735, 4)"
      ]
     },
     "execution_count": 122,
     "metadata": {},
     "output_type": "execute_result"
    }
   ],
   "source": [
    "# Imprime la información general/resumida sobre el DataFrame de las llamadas\n",
    "calls.shape"
   ]
  },
  {
   "cell_type": "code",
   "execution_count": 123,
   "metadata": {
    "id": "kuh1vlNB0q09"
   },
   "outputs": [
    {
     "data": {
      "text/html": [
       "<div>\n",
       "<style scoped>\n",
       "    .dataframe tbody tr th:only-of-type {\n",
       "        vertical-align: middle;\n",
       "    }\n",
       "\n",
       "    .dataframe tbody tr th {\n",
       "        vertical-align: top;\n",
       "    }\n",
       "\n",
       "    .dataframe thead th {\n",
       "        text-align: right;\n",
       "    }\n",
       "</style>\n",
       "<table border=\"1\" class=\"dataframe\">\n",
       "  <thead>\n",
       "    <tr style=\"text-align: right;\">\n",
       "      <th></th>\n",
       "      <th>user_id</th>\n",
       "      <th>duration</th>\n",
       "    </tr>\n",
       "  </thead>\n",
       "  <tbody>\n",
       "    <tr>\n",
       "      <th>count</th>\n",
       "      <td>137735.000000</td>\n",
       "      <td>137735.000000</td>\n",
       "    </tr>\n",
       "    <tr>\n",
       "      <th>mean</th>\n",
       "      <td>1247.658046</td>\n",
       "      <td>6.745927</td>\n",
       "    </tr>\n",
       "    <tr>\n",
       "      <th>std</th>\n",
       "      <td>139.416268</td>\n",
       "      <td>5.839241</td>\n",
       "    </tr>\n",
       "    <tr>\n",
       "      <th>min</th>\n",
       "      <td>1000.000000</td>\n",
       "      <td>0.000000</td>\n",
       "    </tr>\n",
       "    <tr>\n",
       "      <th>25%</th>\n",
       "      <td>1128.000000</td>\n",
       "      <td>1.290000</td>\n",
       "    </tr>\n",
       "    <tr>\n",
       "      <th>50%</th>\n",
       "      <td>1247.000000</td>\n",
       "      <td>5.980000</td>\n",
       "    </tr>\n",
       "    <tr>\n",
       "      <th>75%</th>\n",
       "      <td>1365.000000</td>\n",
       "      <td>10.690000</td>\n",
       "    </tr>\n",
       "    <tr>\n",
       "      <th>max</th>\n",
       "      <td>1499.000000</td>\n",
       "      <td>37.600000</td>\n",
       "    </tr>\n",
       "  </tbody>\n",
       "</table>\n",
       "</div>"
      ],
      "text/plain": [
       "             user_id       duration\n",
       "count  137735.000000  137735.000000\n",
       "mean     1247.658046       6.745927\n",
       "std       139.416268       5.839241\n",
       "min      1000.000000       0.000000\n",
       "25%      1128.000000       1.290000\n",
       "50%      1247.000000       5.980000\n",
       "75%      1365.000000      10.690000\n",
       "max      1499.000000      37.600000"
      ]
     },
     "execution_count": 123,
     "metadata": {},
     "output_type": "execute_result"
    }
   ],
   "source": [
    "calls.describe()"
   ]
  },
  {
   "cell_type": "code",
   "execution_count": 124,
   "metadata": {},
   "outputs": [
    {
     "data": {
      "text/html": [
       "<div>\n",
       "<style scoped>\n",
       "    .dataframe tbody tr th:only-of-type {\n",
       "        vertical-align: middle;\n",
       "    }\n",
       "\n",
       "    .dataframe tbody tr th {\n",
       "        vertical-align: top;\n",
       "    }\n",
       "\n",
       "    .dataframe thead th {\n",
       "        text-align: right;\n",
       "    }\n",
       "</style>\n",
       "<table border=\"1\" class=\"dataframe\">\n",
       "  <thead>\n",
       "    <tr style=\"text-align: right;\">\n",
       "      <th></th>\n",
       "      <th>id</th>\n",
       "      <th>user_id</th>\n",
       "      <th>call_date</th>\n",
       "      <th>duration</th>\n",
       "    </tr>\n",
       "  </thead>\n",
       "  <tbody>\n",
       "    <tr>\n",
       "      <th>0</th>\n",
       "      <td>1000_93</td>\n",
       "      <td>1000</td>\n",
       "      <td>2018-12-27</td>\n",
       "      <td>8.52</td>\n",
       "    </tr>\n",
       "    <tr>\n",
       "      <th>1</th>\n",
       "      <td>1000_145</td>\n",
       "      <td>1000</td>\n",
       "      <td>2018-12-27</td>\n",
       "      <td>13.66</td>\n",
       "    </tr>\n",
       "    <tr>\n",
       "      <th>2</th>\n",
       "      <td>1000_247</td>\n",
       "      <td>1000</td>\n",
       "      <td>2018-12-27</td>\n",
       "      <td>14.48</td>\n",
       "    </tr>\n",
       "    <tr>\n",
       "      <th>3</th>\n",
       "      <td>1000_309</td>\n",
       "      <td>1000</td>\n",
       "      <td>2018-12-28</td>\n",
       "      <td>5.76</td>\n",
       "    </tr>\n",
       "    <tr>\n",
       "      <th>4</th>\n",
       "      <td>1000_380</td>\n",
       "      <td>1000</td>\n",
       "      <td>2018-12-30</td>\n",
       "      <td>4.22</td>\n",
       "    </tr>\n",
       "  </tbody>\n",
       "</table>\n",
       "</div>"
      ],
      "text/plain": [
       "         id  user_id   call_date  duration\n",
       "0   1000_93     1000  2018-12-27      8.52\n",
       "1  1000_145     1000  2018-12-27     13.66\n",
       "2  1000_247     1000  2018-12-27     14.48\n",
       "3  1000_309     1000  2018-12-28      5.76\n",
       "4  1000_380     1000  2018-12-30      4.22"
      ]
     },
     "execution_count": 124,
     "metadata": {},
     "output_type": "execute_result"
    }
   ],
   "source": [
    "calls.head()"
   ]
  },
  {
   "cell_type": "code",
   "execution_count": 125,
   "metadata": {},
   "outputs": [
    {
     "name": "stdout",
     "output_type": "stream",
     "text": [
      "<class 'pandas.core.frame.DataFrame'>\n",
      "RangeIndex: 137735 entries, 0 to 137734\n",
      "Data columns (total 4 columns):\n",
      " #   Column     Non-Null Count   Dtype  \n",
      "---  ------     --------------   -----  \n",
      " 0   id         137735 non-null  object \n",
      " 1   user_id    137735 non-null  int64  \n",
      " 2   call_date  137735 non-null  object \n",
      " 3   duration   137735 non-null  float64\n",
      "dtypes: float64(1), int64(1), object(2)\n",
      "memory usage: 4.2+ MB\n"
     ]
    }
   ],
   "source": [
    "calls.info()"
   ]
  },
  {
   "cell_type": "code",
   "execution_count": 126,
   "metadata": {},
   "outputs": [],
   "source": [
    "#1. La columna call_date debe de ser de tipo date, ya que es una fecha:\n",
    "\n",
    "calls['call_date'] = pd.to_datetime(calls['call_date'])"
   ]
  },
  {
   "cell_type": "markdown",
   "metadata": {
    "id": "mOUZSi180q0_"
   },
   "source": [
    "## Mensajes"
   ]
  },
  {
   "cell_type": "code",
   "execution_count": 127,
   "metadata": {
    "id": "R-bYJpdV0q1A"
   },
   "outputs": [
    {
     "data": {
      "text/plain": [
       "(76051, 3)"
      ]
     },
     "execution_count": 127,
     "metadata": {},
     "output_type": "execute_result"
    }
   ],
   "source": [
    "messages.shape"
   ]
  },
  {
   "cell_type": "code",
   "execution_count": 128,
   "metadata": {
    "id": "mCEl2iGE0q1A"
   },
   "outputs": [
    {
     "data": {
      "text/html": [
       "<div>\n",
       "<style scoped>\n",
       "    .dataframe tbody tr th:only-of-type {\n",
       "        vertical-align: middle;\n",
       "    }\n",
       "\n",
       "    .dataframe tbody tr th {\n",
       "        vertical-align: top;\n",
       "    }\n",
       "\n",
       "    .dataframe thead th {\n",
       "        text-align: right;\n",
       "    }\n",
       "</style>\n",
       "<table border=\"1\" class=\"dataframe\">\n",
       "  <thead>\n",
       "    <tr style=\"text-align: right;\">\n",
       "      <th></th>\n",
       "      <th>user_id</th>\n",
       "    </tr>\n",
       "  </thead>\n",
       "  <tbody>\n",
       "    <tr>\n",
       "      <th>count</th>\n",
       "      <td>76051.000000</td>\n",
       "    </tr>\n",
       "    <tr>\n",
       "      <th>mean</th>\n",
       "      <td>1245.972768</td>\n",
       "    </tr>\n",
       "    <tr>\n",
       "      <th>std</th>\n",
       "      <td>139.843635</td>\n",
       "    </tr>\n",
       "    <tr>\n",
       "      <th>min</th>\n",
       "      <td>1000.000000</td>\n",
       "    </tr>\n",
       "    <tr>\n",
       "      <th>25%</th>\n",
       "      <td>1123.000000</td>\n",
       "    </tr>\n",
       "    <tr>\n",
       "      <th>50%</th>\n",
       "      <td>1251.000000</td>\n",
       "    </tr>\n",
       "    <tr>\n",
       "      <th>75%</th>\n",
       "      <td>1362.000000</td>\n",
       "    </tr>\n",
       "    <tr>\n",
       "      <th>max</th>\n",
       "      <td>1497.000000</td>\n",
       "    </tr>\n",
       "  </tbody>\n",
       "</table>\n",
       "</div>"
      ],
      "text/plain": [
       "            user_id\n",
       "count  76051.000000\n",
       "mean    1245.972768\n",
       "std      139.843635\n",
       "min     1000.000000\n",
       "25%     1123.000000\n",
       "50%     1251.000000\n",
       "75%     1362.000000\n",
       "max     1497.000000"
      ]
     },
     "execution_count": 128,
     "metadata": {},
     "output_type": "execute_result"
    }
   ],
   "source": [
    "messages.describe()"
   ]
  },
  {
   "cell_type": "code",
   "execution_count": 129,
   "metadata": {},
   "outputs": [
    {
     "data": {
      "text/html": [
       "<div>\n",
       "<style scoped>\n",
       "    .dataframe tbody tr th:only-of-type {\n",
       "        vertical-align: middle;\n",
       "    }\n",
       "\n",
       "    .dataframe tbody tr th {\n",
       "        vertical-align: top;\n",
       "    }\n",
       "\n",
       "    .dataframe thead th {\n",
       "        text-align: right;\n",
       "    }\n",
       "</style>\n",
       "<table border=\"1\" class=\"dataframe\">\n",
       "  <thead>\n",
       "    <tr style=\"text-align: right;\">\n",
       "      <th></th>\n",
       "      <th>id</th>\n",
       "      <th>user_id</th>\n",
       "      <th>message_date</th>\n",
       "    </tr>\n",
       "  </thead>\n",
       "  <tbody>\n",
       "    <tr>\n",
       "      <th>0</th>\n",
       "      <td>1000_125</td>\n",
       "      <td>1000</td>\n",
       "      <td>2018-12-27</td>\n",
       "    </tr>\n",
       "    <tr>\n",
       "      <th>1</th>\n",
       "      <td>1000_160</td>\n",
       "      <td>1000</td>\n",
       "      <td>2018-12-31</td>\n",
       "    </tr>\n",
       "    <tr>\n",
       "      <th>2</th>\n",
       "      <td>1000_223</td>\n",
       "      <td>1000</td>\n",
       "      <td>2018-12-31</td>\n",
       "    </tr>\n",
       "    <tr>\n",
       "      <th>3</th>\n",
       "      <td>1000_251</td>\n",
       "      <td>1000</td>\n",
       "      <td>2018-12-27</td>\n",
       "    </tr>\n",
       "    <tr>\n",
       "      <th>4</th>\n",
       "      <td>1000_255</td>\n",
       "      <td>1000</td>\n",
       "      <td>2018-12-26</td>\n",
       "    </tr>\n",
       "  </tbody>\n",
       "</table>\n",
       "</div>"
      ],
      "text/plain": [
       "         id  user_id message_date\n",
       "0  1000_125     1000   2018-12-27\n",
       "1  1000_160     1000   2018-12-31\n",
       "2  1000_223     1000   2018-12-31\n",
       "3  1000_251     1000   2018-12-27\n",
       "4  1000_255     1000   2018-12-26"
      ]
     },
     "execution_count": 129,
     "metadata": {},
     "output_type": "execute_result"
    }
   ],
   "source": [
    "messages.head()"
   ]
  },
  {
   "cell_type": "code",
   "execution_count": 130,
   "metadata": {},
   "outputs": [
    {
     "name": "stdout",
     "output_type": "stream",
     "text": [
      "<class 'pandas.core.frame.DataFrame'>\n",
      "RangeIndex: 76051 entries, 0 to 76050\n",
      "Data columns (total 3 columns):\n",
      " #   Column        Non-Null Count  Dtype \n",
      "---  ------        --------------  ----- \n",
      " 0   id            76051 non-null  object\n",
      " 1   user_id       76051 non-null  int64 \n",
      " 2   message_date  76051 non-null  object\n",
      "dtypes: int64(1), object(2)\n",
      "memory usage: 1.7+ MB\n"
     ]
    }
   ],
   "source": [
    "messages.info()"
   ]
  },
  {
   "cell_type": "code",
   "execution_count": 131,
   "metadata": {},
   "outputs": [],
   "source": [
    "#1.La columna message_date debe de ser tipo date, ya que es una fecha:\n",
    "\n",
    "messages['message_date'] = pd.to_datetime(messages['message_date'])\n"
   ]
  },
  {
   "cell_type": "code",
   "execution_count": 132,
   "metadata": {},
   "outputs": [
    {
     "name": "stdout",
     "output_type": "stream",
     "text": [
      "<class 'pandas.core.frame.DataFrame'>\n",
      "RangeIndex: 76051 entries, 0 to 76050\n",
      "Data columns (total 3 columns):\n",
      " #   Column        Non-Null Count  Dtype         \n",
      "---  ------        --------------  -----         \n",
      " 0   id            76051 non-null  object        \n",
      " 1   user_id       76051 non-null  int64         \n",
      " 2   message_date  76051 non-null  datetime64[ns]\n",
      "dtypes: datetime64[ns](1), int64(1), object(1)\n",
      "memory usage: 1.7+ MB\n"
     ]
    }
   ],
   "source": [
    "messages.info()"
   ]
  },
  {
   "cell_type": "markdown",
   "metadata": {
    "id": "bStkaxn40q1C"
   },
   "source": [
    "## Internet"
   ]
  },
  {
   "cell_type": "code",
   "execution_count": 133,
   "metadata": {
    "id": "e-Uz5qyn0q1C"
   },
   "outputs": [
    {
     "data": {
      "text/plain": [
       "(104825, 4)"
      ]
     },
     "execution_count": 133,
     "metadata": {},
     "output_type": "execute_result"
    }
   ],
   "source": [
    "internet.shape"
   ]
  },
  {
   "cell_type": "code",
   "execution_count": 134,
   "metadata": {
    "id": "9r3x_XLw0q1C"
   },
   "outputs": [
    {
     "data": {
      "text/html": [
       "<div>\n",
       "<style scoped>\n",
       "    .dataframe tbody tr th:only-of-type {\n",
       "        vertical-align: middle;\n",
       "    }\n",
       "\n",
       "    .dataframe tbody tr th {\n",
       "        vertical-align: top;\n",
       "    }\n",
       "\n",
       "    .dataframe thead th {\n",
       "        text-align: right;\n",
       "    }\n",
       "</style>\n",
       "<table border=\"1\" class=\"dataframe\">\n",
       "  <thead>\n",
       "    <tr style=\"text-align: right;\">\n",
       "      <th></th>\n",
       "      <th>user_id</th>\n",
       "      <th>mb_used</th>\n",
       "    </tr>\n",
       "  </thead>\n",
       "  <tbody>\n",
       "    <tr>\n",
       "      <th>count</th>\n",
       "      <td>104825.000000</td>\n",
       "      <td>104825.000000</td>\n",
       "    </tr>\n",
       "    <tr>\n",
       "      <th>mean</th>\n",
       "      <td>1242.496361</td>\n",
       "      <td>366.713701</td>\n",
       "    </tr>\n",
       "    <tr>\n",
       "      <th>std</th>\n",
       "      <td>142.053913</td>\n",
       "      <td>277.170542</td>\n",
       "    </tr>\n",
       "    <tr>\n",
       "      <th>min</th>\n",
       "      <td>1000.000000</td>\n",
       "      <td>0.000000</td>\n",
       "    </tr>\n",
       "    <tr>\n",
       "      <th>25%</th>\n",
       "      <td>1122.000000</td>\n",
       "      <td>136.080000</td>\n",
       "    </tr>\n",
       "    <tr>\n",
       "      <th>50%</th>\n",
       "      <td>1236.000000</td>\n",
       "      <td>343.980000</td>\n",
       "    </tr>\n",
       "    <tr>\n",
       "      <th>75%</th>\n",
       "      <td>1367.000000</td>\n",
       "      <td>554.610000</td>\n",
       "    </tr>\n",
       "    <tr>\n",
       "      <th>max</th>\n",
       "      <td>1499.000000</td>\n",
       "      <td>1693.470000</td>\n",
       "    </tr>\n",
       "  </tbody>\n",
       "</table>\n",
       "</div>"
      ],
      "text/plain": [
       "             user_id        mb_used\n",
       "count  104825.000000  104825.000000\n",
       "mean     1242.496361     366.713701\n",
       "std       142.053913     277.170542\n",
       "min      1000.000000       0.000000\n",
       "25%      1122.000000     136.080000\n",
       "50%      1236.000000     343.980000\n",
       "75%      1367.000000     554.610000\n",
       "max      1499.000000    1693.470000"
      ]
     },
     "execution_count": 134,
     "metadata": {},
     "output_type": "execute_result"
    }
   ],
   "source": [
    "internet.describe()"
   ]
  },
  {
   "cell_type": "code",
   "execution_count": 135,
   "metadata": {},
   "outputs": [
    {
     "data": {
      "text/html": [
       "<div>\n",
       "<style scoped>\n",
       "    .dataframe tbody tr th:only-of-type {\n",
       "        vertical-align: middle;\n",
       "    }\n",
       "\n",
       "    .dataframe tbody tr th {\n",
       "        vertical-align: top;\n",
       "    }\n",
       "\n",
       "    .dataframe thead th {\n",
       "        text-align: right;\n",
       "    }\n",
       "</style>\n",
       "<table border=\"1\" class=\"dataframe\">\n",
       "  <thead>\n",
       "    <tr style=\"text-align: right;\">\n",
       "      <th></th>\n",
       "      <th>id</th>\n",
       "      <th>user_id</th>\n",
       "      <th>session_date</th>\n",
       "      <th>mb_used</th>\n",
       "    </tr>\n",
       "  </thead>\n",
       "  <tbody>\n",
       "    <tr>\n",
       "      <th>0</th>\n",
       "      <td>1000_13</td>\n",
       "      <td>1000</td>\n",
       "      <td>2018-12-29</td>\n",
       "      <td>89.86</td>\n",
       "    </tr>\n",
       "    <tr>\n",
       "      <th>1</th>\n",
       "      <td>1000_204</td>\n",
       "      <td>1000</td>\n",
       "      <td>2018-12-31</td>\n",
       "      <td>0.00</td>\n",
       "    </tr>\n",
       "    <tr>\n",
       "      <th>2</th>\n",
       "      <td>1000_379</td>\n",
       "      <td>1000</td>\n",
       "      <td>2018-12-28</td>\n",
       "      <td>660.40</td>\n",
       "    </tr>\n",
       "    <tr>\n",
       "      <th>3</th>\n",
       "      <td>1000_413</td>\n",
       "      <td>1000</td>\n",
       "      <td>2018-12-26</td>\n",
       "      <td>270.99</td>\n",
       "    </tr>\n",
       "    <tr>\n",
       "      <th>4</th>\n",
       "      <td>1000_442</td>\n",
       "      <td>1000</td>\n",
       "      <td>2018-12-27</td>\n",
       "      <td>880.22</td>\n",
       "    </tr>\n",
       "  </tbody>\n",
       "</table>\n",
       "</div>"
      ],
      "text/plain": [
       "         id  user_id session_date  mb_used\n",
       "0   1000_13     1000   2018-12-29    89.86\n",
       "1  1000_204     1000   2018-12-31     0.00\n",
       "2  1000_379     1000   2018-12-28   660.40\n",
       "3  1000_413     1000   2018-12-26   270.99\n",
       "4  1000_442     1000   2018-12-27   880.22"
      ]
     },
     "execution_count": 135,
     "metadata": {},
     "output_type": "execute_result"
    }
   ],
   "source": [
    "internet.head()"
   ]
  },
  {
   "cell_type": "code",
   "execution_count": 136,
   "metadata": {},
   "outputs": [
    {
     "name": "stdout",
     "output_type": "stream",
     "text": [
      "<class 'pandas.core.frame.DataFrame'>\n",
      "RangeIndex: 104825 entries, 0 to 104824\n",
      "Data columns (total 4 columns):\n",
      " #   Column        Non-Null Count   Dtype  \n",
      "---  ------        --------------   -----  \n",
      " 0   id            104825 non-null  object \n",
      " 1   user_id       104825 non-null  int64  \n",
      " 2   session_date  104825 non-null  object \n",
      " 3   mb_used       104825 non-null  float64\n",
      "dtypes: float64(1), int64(1), object(2)\n",
      "memory usage: 3.2+ MB\n"
     ]
    }
   ],
   "source": [
    "internet.info()"
   ]
  },
  {
   "cell_type": "code",
   "execution_count": 137,
   "metadata": {},
   "outputs": [],
   "source": [
    "#1. La columna session_date, se debe convertir a formato date, ya que es de tipo fecha:\n",
    "internet['session_date'] = pd.to_datetime(internet['session_date'])"
   ]
  },
  {
   "cell_type": "code",
   "execution_count": 138,
   "metadata": {},
   "outputs": [
    {
     "name": "stdout",
     "output_type": "stream",
     "text": [
      "<class 'pandas.core.frame.DataFrame'>\n",
      "RangeIndex: 104825 entries, 0 to 104824\n",
      "Data columns (total 4 columns):\n",
      " #   Column        Non-Null Count   Dtype         \n",
      "---  ------        --------------   -----         \n",
      " 0   id            104825 non-null  object        \n",
      " 1   user_id       104825 non-null  int64         \n",
      " 2   session_date  104825 non-null  datetime64[ns]\n",
      " 3   mb_used       104825 non-null  float64       \n",
      "dtypes: datetime64[ns](1), float64(1), int64(1), object(1)\n",
      "memory usage: 3.2+ MB\n"
     ]
    }
   ],
   "source": [
    "internet.info()"
   ]
  },
  {
   "cell_type": "markdown",
   "metadata": {},
   "source": [
    "<div class=\"alert alert-block alert-success\">\n",
    "<b>Comentario del revisor (1ra Iteración)</b> <a class=“tocSkip”></a>\n",
    "\n",
    "Excelente trabajo en el análisis preliminar de los datasets. Usaste correctamente las funciones `info`, `describe`, `shape` y `head` para revisar la estructura y el contenido de los datos, lo que te permitió realizar los ajustes necesarios. Esto facilitará el análisis de los datos y el desarrollo de las demás etapas del proyecto.\n",
    "\n",
    "</div>"
   ]
  },
  {
   "cell_type": "markdown",
   "metadata": {
    "id": "3UA2cqIW0q1E"
   },
   "source": [
    "## Estudiar las condiciones de las tarifas"
   ]
  },
  {
   "cell_type": "code",
   "execution_count": 139,
   "metadata": {
    "id": "i409op8p0q1F"
   },
   "outputs": [
    {
     "name": "stdout",
     "output_type": "stream",
     "text": [
      "\n",
      "Tarifas Megaline:\n",
      "\n",
      "Plan Surf:\n",
      "- Pago mensual: $20\n",
      "- 500 minutos al mes, 50 SMS y 15 GB de datos\n",
      "- Si se exceden los límites:\n",
      "    - 1 minuto adicional: $0.03\n",
      "    - 1 SMS adicional: $0.03\n",
      "    - 1 GB adicional: $10\n",
      "\n",
      "Plan Ultimate:\n",
      "- Pago mensual: $70\n",
      "- 3000 minutos al mes, 1000 SMS y 30 GB de datos\n",
      "- Si se exceden los límites:\n",
      "    - 1 minuto adicional: $0.01\n",
      "    - 1 SMS adicional: $0.01\n",
      "    - 1 GB adicional: $7\n",
      "\n"
     ]
    }
   ],
   "source": [
    "# Imprime las condiciones de la tarifa y asegúrate de que te quedan claras\n",
    "print(\"\"\"\n",
    "Tarifas Megaline:\n",
    "\n",
    "Plan Surf:\n",
    "- Pago mensual: $20\n",
    "- 500 minutos al mes, 50 SMS y 15 GB de datos\n",
    "- Si se exceden los límites:\n",
    "    - 1 minuto adicional: $0.03\n",
    "    - 1 SMS adicional: $0.03\n",
    "    - 1 GB adicional: $10\n",
    "\n",
    "Plan Ultimate:\n",
    "- Pago mensual: $70\n",
    "- 3000 minutos al mes, 1000 SMS y 30 GB de datos\n",
    "- Si se exceden los límites:\n",
    "    - 1 minuto adicional: $0.01\n",
    "    - 1 SMS adicional: $0.01\n",
    "    - 1 GB adicional: $7\n",
    "\"\"\")\n"
   ]
  },
  {
   "cell_type": "markdown",
   "metadata": {},
   "source": [
    "### Agregar datos por usuario"
   ]
  },
  {
   "cell_type": "code",
   "execution_count": 154,
   "metadata": {},
   "outputs": [
    {
     "data": {
      "text/html": [
       "<div>\n",
       "<style scoped>\n",
       "    .dataframe tbody tr th:only-of-type {\n",
       "        vertical-align: middle;\n",
       "    }\n",
       "\n",
       "    .dataframe tbody tr th {\n",
       "        vertical-align: top;\n",
       "    }\n",
       "\n",
       "    .dataframe thead th {\n",
       "        text-align: right;\n",
       "    }\n",
       "</style>\n",
       "<table border=\"1\" class=\"dataframe\">\n",
       "  <thead>\n",
       "    <tr style=\"text-align: right;\">\n",
       "      <th></th>\n",
       "      <th>user_id</th>\n",
       "      <th>month_year</th>\n",
       "      <th>monthly_calls</th>\n",
       "    </tr>\n",
       "  </thead>\n",
       "  <tbody>\n",
       "    <tr>\n",
       "      <th>0</th>\n",
       "      <td>1000</td>\n",
       "      <td>2018-12</td>\n",
       "      <td>16</td>\n",
       "    </tr>\n",
       "    <tr>\n",
       "      <th>1</th>\n",
       "      <td>1001</td>\n",
       "      <td>2018-08</td>\n",
       "      <td>27</td>\n",
       "    </tr>\n",
       "    <tr>\n",
       "      <th>2</th>\n",
       "      <td>1001</td>\n",
       "      <td>2018-09</td>\n",
       "      <td>49</td>\n",
       "    </tr>\n",
       "    <tr>\n",
       "      <th>3</th>\n",
       "      <td>1001</td>\n",
       "      <td>2018-10</td>\n",
       "      <td>65</td>\n",
       "    </tr>\n",
       "    <tr>\n",
       "      <th>4</th>\n",
       "      <td>1001</td>\n",
       "      <td>2018-11</td>\n",
       "      <td>64</td>\n",
       "    </tr>\n",
       "    <tr>\n",
       "      <th>5</th>\n",
       "      <td>1001</td>\n",
       "      <td>2018-12</td>\n",
       "      <td>56</td>\n",
       "    </tr>\n",
       "    <tr>\n",
       "      <th>6</th>\n",
       "      <td>1002</td>\n",
       "      <td>2018-10</td>\n",
       "      <td>11</td>\n",
       "    </tr>\n",
       "    <tr>\n",
       "      <th>7</th>\n",
       "      <td>1002</td>\n",
       "      <td>2018-11</td>\n",
       "      <td>55</td>\n",
       "    </tr>\n",
       "    <tr>\n",
       "      <th>8</th>\n",
       "      <td>1002</td>\n",
       "      <td>2018-12</td>\n",
       "      <td>47</td>\n",
       "    </tr>\n",
       "    <tr>\n",
       "      <th>9</th>\n",
       "      <td>1003</td>\n",
       "      <td>2018-12</td>\n",
       "      <td>149</td>\n",
       "    </tr>\n",
       "  </tbody>\n",
       "</table>\n",
       "</div>"
      ],
      "text/plain": [
       "   user_id month_year  monthly_calls\n",
       "0     1000    2018-12             16\n",
       "1     1001    2018-08             27\n",
       "2     1001    2018-09             49\n",
       "3     1001    2018-10             65\n",
       "4     1001    2018-11             64\n",
       "5     1001    2018-12             56\n",
       "6     1002    2018-10             11\n",
       "7     1002    2018-11             55\n",
       "8     1002    2018-12             47\n",
       "9     1003    2018-12            149"
      ]
     },
     "execution_count": 154,
     "metadata": {},
     "output_type": "execute_result"
    }
   ],
   "source": [
    "#1.Calcular el número de llamadas por usuario mensuales.\n",
    "\n",
    "#paso 1 Se agrega una nueva columna al DataFrame calls que contenga el mes y el año de cada llamada, esta columna se llamará 'month_year', \n",
    "# usando la función dt.to_period('M') para extraer el mes y el año de la columna 'call_date'.\n",
    "calls['month_year'] = calls['call_date'].dt.to_period('M')\n",
    "\n",
    "\n",
    "#paso 2 Se agrupa el DataFrame calls por 'user_id' y 'month_year', y se cuenta el número de llamadas en cada grupo usando size(), la variable resultante se llamará 'monthly_calls'.\n",
    "monthly_calls = calls.groupby(['user_id','month_year']).size().reset_index(name='monthly_calls')\n",
    "\n",
    "monthly_calls.head(10)\n",
    "\n"
   ]
  },
  {
   "cell_type": "code",
   "execution_count": 155,
   "metadata": {},
   "outputs": [
    {
     "data": {
      "text/html": [
       "<div>\n",
       "<style scoped>\n",
       "    .dataframe tbody tr th:only-of-type {\n",
       "        vertical-align: middle;\n",
       "    }\n",
       "\n",
       "    .dataframe tbody tr th {\n",
       "        vertical-align: top;\n",
       "    }\n",
       "\n",
       "    .dataframe thead th {\n",
       "        text-align: right;\n",
       "    }\n",
       "</style>\n",
       "<table border=\"1\" class=\"dataframe\">\n",
       "  <thead>\n",
       "    <tr style=\"text-align: right;\">\n",
       "      <th></th>\n",
       "      <th>user_id</th>\n",
       "      <th>month_year</th>\n",
       "      <th>total_minutes</th>\n",
       "    </tr>\n",
       "  </thead>\n",
       "  <tbody>\n",
       "    <tr>\n",
       "      <th>0</th>\n",
       "      <td>1000</td>\n",
       "      <td>2018-12</td>\n",
       "      <td>117.0</td>\n",
       "    </tr>\n",
       "    <tr>\n",
       "      <th>1</th>\n",
       "      <td>1001</td>\n",
       "      <td>2018-08</td>\n",
       "      <td>172.0</td>\n",
       "    </tr>\n",
       "    <tr>\n",
       "      <th>2</th>\n",
       "      <td>1001</td>\n",
       "      <td>2018-09</td>\n",
       "      <td>298.0</td>\n",
       "    </tr>\n",
       "    <tr>\n",
       "      <th>3</th>\n",
       "      <td>1001</td>\n",
       "      <td>2018-10</td>\n",
       "      <td>375.0</td>\n",
       "    </tr>\n",
       "    <tr>\n",
       "      <th>4</th>\n",
       "      <td>1001</td>\n",
       "      <td>2018-11</td>\n",
       "      <td>405.0</td>\n",
       "    </tr>\n",
       "    <tr>\n",
       "      <th>5</th>\n",
       "      <td>1001</td>\n",
       "      <td>2018-12</td>\n",
       "      <td>393.0</td>\n",
       "    </tr>\n",
       "    <tr>\n",
       "      <th>6</th>\n",
       "      <td>1002</td>\n",
       "      <td>2018-10</td>\n",
       "      <td>55.0</td>\n",
       "    </tr>\n",
       "    <tr>\n",
       "      <th>7</th>\n",
       "      <td>1002</td>\n",
       "      <td>2018-11</td>\n",
       "      <td>360.0</td>\n",
       "    </tr>\n",
       "    <tr>\n",
       "      <th>8</th>\n",
       "      <td>1002</td>\n",
       "      <td>2018-12</td>\n",
       "      <td>364.0</td>\n",
       "    </tr>\n",
       "    <tr>\n",
       "      <th>9</th>\n",
       "      <td>1003</td>\n",
       "      <td>2018-12</td>\n",
       "      <td>1041.0</td>\n",
       "    </tr>\n",
       "  </tbody>\n",
       "</table>\n",
       "</div>"
      ],
      "text/plain": [
       "   user_id month_year  total_minutes\n",
       "0     1000    2018-12          117.0\n",
       "1     1001    2018-08          172.0\n",
       "2     1001    2018-09          298.0\n",
       "3     1001    2018-10          375.0\n",
       "4     1001    2018-11          405.0\n",
       "5     1001    2018-12          393.0\n",
       "6     1002    2018-10           55.0\n",
       "7     1002    2018-11          360.0\n",
       "8     1002    2018-12          364.0\n",
       "9     1003    2018-12         1041.0"
      ]
     },
     "execution_count": 155,
     "metadata": {},
     "output_type": "execute_result"
    }
   ],
   "source": [
    "#2. Calcular el número de minutos utilizados mensualmente:\n",
    "\n",
    "#paso 1 Se agrega una nueva columna al DataFrame calls que contenga el mes y el año de cada llamada, esta columna se llamará 'month_year',\n",
    "# usando la función dt.to_period('M') para extraer el mes y el año de la columna 'call_date'.\n",
    "calls['month_year'] = calls['call_date'].dt.to_period('M')\n",
    "\n",
    "#paso 2 Se agrupa el DataFrame calls por 'user_id' y 'month_year', y se suma la duración de las llamadas en cada grupo usando sum(), la variable resultante se llamará 'total_minutes'.\n",
    "total_minutes = calls.groupby(['user_id','month_year'])['duration'].sum().apply(np.ceil).reset_index(name='total_minutes')\n",
    "total_minutes.head(10)"
   ]
  },
  {
   "cell_type": "code",
   "execution_count": 156,
   "metadata": {},
   "outputs": [
    {
     "data": {
      "text/html": [
       "<div>\n",
       "<style scoped>\n",
       "    .dataframe tbody tr th:only-of-type {\n",
       "        vertical-align: middle;\n",
       "    }\n",
       "\n",
       "    .dataframe tbody tr th {\n",
       "        vertical-align: top;\n",
       "    }\n",
       "\n",
       "    .dataframe thead th {\n",
       "        text-align: right;\n",
       "    }\n",
       "</style>\n",
       "<table border=\"1\" class=\"dataframe\">\n",
       "  <thead>\n",
       "    <tr style=\"text-align: right;\">\n",
       "      <th></th>\n",
       "      <th>user_id</th>\n",
       "      <th>month_year</th>\n",
       "      <th>total_messages</th>\n",
       "    </tr>\n",
       "  </thead>\n",
       "  <tbody>\n",
       "    <tr>\n",
       "      <th>0</th>\n",
       "      <td>1000</td>\n",
       "      <td>2018-12</td>\n",
       "      <td>11</td>\n",
       "    </tr>\n",
       "    <tr>\n",
       "      <th>1</th>\n",
       "      <td>1001</td>\n",
       "      <td>2018-08</td>\n",
       "      <td>30</td>\n",
       "    </tr>\n",
       "    <tr>\n",
       "      <th>2</th>\n",
       "      <td>1001</td>\n",
       "      <td>2018-09</td>\n",
       "      <td>44</td>\n",
       "    </tr>\n",
       "    <tr>\n",
       "      <th>3</th>\n",
       "      <td>1001</td>\n",
       "      <td>2018-10</td>\n",
       "      <td>53</td>\n",
       "    </tr>\n",
       "    <tr>\n",
       "      <th>4</th>\n",
       "      <td>1001</td>\n",
       "      <td>2018-11</td>\n",
       "      <td>36</td>\n",
       "    </tr>\n",
       "    <tr>\n",
       "      <th>5</th>\n",
       "      <td>1001</td>\n",
       "      <td>2018-12</td>\n",
       "      <td>44</td>\n",
       "    </tr>\n",
       "    <tr>\n",
       "      <th>6</th>\n",
       "      <td>1002</td>\n",
       "      <td>2018-10</td>\n",
       "      <td>15</td>\n",
       "    </tr>\n",
       "    <tr>\n",
       "      <th>7</th>\n",
       "      <td>1002</td>\n",
       "      <td>2018-11</td>\n",
       "      <td>32</td>\n",
       "    </tr>\n",
       "    <tr>\n",
       "      <th>8</th>\n",
       "      <td>1002</td>\n",
       "      <td>2018-12</td>\n",
       "      <td>41</td>\n",
       "    </tr>\n",
       "    <tr>\n",
       "      <th>9</th>\n",
       "      <td>1003</td>\n",
       "      <td>2018-12</td>\n",
       "      <td>50</td>\n",
       "    </tr>\n",
       "  </tbody>\n",
       "</table>\n",
       "</div>"
      ],
      "text/plain": [
       "   user_id month_year  total_messages\n",
       "0     1000    2018-12              11\n",
       "1     1001    2018-08              30\n",
       "2     1001    2018-09              44\n",
       "3     1001    2018-10              53\n",
       "4     1001    2018-11              36\n",
       "5     1001    2018-12              44\n",
       "6     1002    2018-10              15\n",
       "7     1002    2018-11              32\n",
       "8     1002    2018-12              41\n",
       "9     1003    2018-12              50"
      ]
     },
     "execution_count": 156,
     "metadata": {},
     "output_type": "execute_result"
    }
   ],
   "source": [
    "#3. Calcular la cantidad total de SMS enviados:\n",
    "#paso 1 Se agrega una nueva columna al DataFrame messages que contenga el mes y el año de cada mensaje, esta columna se llamará 'month_year',\n",
    "# usando la función dt.to_period('M') para extraer el mes y el año de la columna 'message_date'.\n",
    "messages['month_year'] = messages['message_date'].dt.to_period('M')\n",
    "#paso 2 Se agrupa el DataFrame messages por 'user_id' y 'month_year', y se cuenta el número de mensajes en cada grupo usando size(), la variable resultante se llamará 'total_messages'.\n",
    "total_messages = messages.groupby(['user_id','month_year']).size().reset_index(name='total_messages')\n",
    "total_messages.head(10)"
   ]
  },
  {
   "cell_type": "code",
   "execution_count": 157,
   "metadata": {},
   "outputs": [
    {
     "data": {
      "text/html": [
       "<div>\n",
       "<style scoped>\n",
       "    .dataframe tbody tr th:only-of-type {\n",
       "        vertical-align: middle;\n",
       "    }\n",
       "\n",
       "    .dataframe tbody tr th {\n",
       "        vertical-align: top;\n",
       "    }\n",
       "\n",
       "    .dataframe thead th {\n",
       "        text-align: right;\n",
       "    }\n",
       "</style>\n",
       "<table border=\"1\" class=\"dataframe\">\n",
       "  <thead>\n",
       "    <tr style=\"text-align: right;\">\n",
       "      <th></th>\n",
       "      <th>user_id</th>\n",
       "      <th>month_year</th>\n",
       "      <th>total_data_gb</th>\n",
       "    </tr>\n",
       "  </thead>\n",
       "  <tbody>\n",
       "    <tr>\n",
       "      <th>0</th>\n",
       "      <td>1000</td>\n",
       "      <td>2018-12</td>\n",
       "      <td>2.0</td>\n",
       "    </tr>\n",
       "    <tr>\n",
       "      <th>1</th>\n",
       "      <td>1001</td>\n",
       "      <td>2018-08</td>\n",
       "      <td>7.0</td>\n",
       "    </tr>\n",
       "    <tr>\n",
       "      <th>2</th>\n",
       "      <td>1001</td>\n",
       "      <td>2018-09</td>\n",
       "      <td>14.0</td>\n",
       "    </tr>\n",
       "    <tr>\n",
       "      <th>3</th>\n",
       "      <td>1001</td>\n",
       "      <td>2018-10</td>\n",
       "      <td>22.0</td>\n",
       "    </tr>\n",
       "    <tr>\n",
       "      <th>4</th>\n",
       "      <td>1001</td>\n",
       "      <td>2018-11</td>\n",
       "      <td>19.0</td>\n",
       "    </tr>\n",
       "    <tr>\n",
       "      <th>5</th>\n",
       "      <td>1001</td>\n",
       "      <td>2018-12</td>\n",
       "      <td>19.0</td>\n",
       "    </tr>\n",
       "    <tr>\n",
       "      <th>6</th>\n",
       "      <td>1002</td>\n",
       "      <td>2018-10</td>\n",
       "      <td>7.0</td>\n",
       "    </tr>\n",
       "    <tr>\n",
       "      <th>7</th>\n",
       "      <td>1002</td>\n",
       "      <td>2018-11</td>\n",
       "      <td>19.0</td>\n",
       "    </tr>\n",
       "    <tr>\n",
       "      <th>8</th>\n",
       "      <td>1002</td>\n",
       "      <td>2018-12</td>\n",
       "      <td>15.0</td>\n",
       "    </tr>\n",
       "    <tr>\n",
       "      <th>9</th>\n",
       "      <td>1003</td>\n",
       "      <td>2018-12</td>\n",
       "      <td>27.0</td>\n",
       "    </tr>\n",
       "  </tbody>\n",
       "</table>\n",
       "</div>"
      ],
      "text/plain": [
       "   user_id month_year  total_data_gb\n",
       "0     1000    2018-12            2.0\n",
       "1     1001    2018-08            7.0\n",
       "2     1001    2018-09           14.0\n",
       "3     1001    2018-10           22.0\n",
       "4     1001    2018-11           19.0\n",
       "5     1001    2018-12           19.0\n",
       "6     1002    2018-10            7.0\n",
       "7     1002    2018-11           19.0\n",
       "8     1002    2018-12           15.0\n",
       "9     1003    2018-12           27.0"
      ]
     },
     "execution_count": 157,
     "metadata": {},
     "output_type": "execute_result"
    }
   ],
   "source": [
    "#4. Calcular el volumen de datos por mes:\n",
    "#paso 1 Se agrega una nueva columna al DataFrame internet que contenga el mes y el año de cada sesión de internet, esta columna se llamará 'month_year',\n",
    "# usando la función dt.to_period('M') para extraer el mes y el año de la columna 'session_date'.\n",
    "internet['month_year'] = internet['session_date'].dt.to_period('M')\n",
    "\n",
    "#paso 2 Se agrupa el DataFrame internet por 'user_id' y 'month_year', y se suma la cantidad de datos usados en cada grupo usando sum(),\n",
    "# la variable resultante se llamará 'total_data_gb', y se convierte de megabytes a gigabytes dividiendo entre 1024 y redondeando hacia arriba con apply(np.ceil).\n",
    "\n",
    "total_data = internet.groupby(['user_id', 'month_year'])['mb_used'].sum().div(1024).apply(np.ceil).reset_index(name='total_data_gb')\n",
    "total_data.head(10)"
   ]
  },
  {
   "cell_type": "code",
   "execution_count": 164,
   "metadata": {},
   "outputs": [
    {
     "data": {
      "text/html": [
       "<div>\n",
       "<style scoped>\n",
       "    .dataframe tbody tr th:only-of-type {\n",
       "        vertical-align: middle;\n",
       "    }\n",
       "\n",
       "    .dataframe tbody tr th {\n",
       "        vertical-align: top;\n",
       "    }\n",
       "\n",
       "    .dataframe thead th {\n",
       "        text-align: right;\n",
       "    }\n",
       "</style>\n",
       "<table border=\"1\" class=\"dataframe\">\n",
       "  <thead>\n",
       "    <tr style=\"text-align: right;\">\n",
       "      <th></th>\n",
       "      <th>user_id</th>\n",
       "      <th>first_name</th>\n",
       "      <th>last_name</th>\n",
       "      <th>age</th>\n",
       "      <th>city</th>\n",
       "      <th>reg_date</th>\n",
       "      <th>plan</th>\n",
       "      <th>churn_date</th>\n",
       "      <th>month_year</th>\n",
       "      <th>messages_included</th>\n",
       "      <th>mb_per_month_included</th>\n",
       "      <th>minutes_included</th>\n",
       "      <th>usd_monthly_pay</th>\n",
       "      <th>usd_per_gb</th>\n",
       "      <th>usd_per_message</th>\n",
       "      <th>usd_per_minute</th>\n",
       "      <th>plan_name</th>\n",
       "      <th>total_minutes</th>\n",
       "      <th>total_messages</th>\n",
       "      <th>total_data_gb</th>\n",
       "    </tr>\n",
       "  </thead>\n",
       "  <tbody>\n",
       "    <tr>\n",
       "      <th>0</th>\n",
       "      <td>1000</td>\n",
       "      <td>Anamaria</td>\n",
       "      <td>Bauer</td>\n",
       "      <td>45</td>\n",
       "      <td>Atlanta-Sandy Springs-Roswell, GA MSA</td>\n",
       "      <td>2018-12-24</td>\n",
       "      <td>ultimate</td>\n",
       "      <td>NaT</td>\n",
       "      <td>2018-12</td>\n",
       "      <td>1000</td>\n",
       "      <td>30720.0</td>\n",
       "      <td>3000.0</td>\n",
       "      <td>70.0</td>\n",
       "      <td>7.0</td>\n",
       "      <td>0.01</td>\n",
       "      <td>0.01</td>\n",
       "      <td>ultimate</td>\n",
       "      <td>117.0</td>\n",
       "      <td>11.0</td>\n",
       "      <td>2.0</td>\n",
       "    </tr>\n",
       "    <tr>\n",
       "      <th>1</th>\n",
       "      <td>1001</td>\n",
       "      <td>Mickey</td>\n",
       "      <td>Wilkerson</td>\n",
       "      <td>28</td>\n",
       "      <td>Seattle-Tacoma-Bellevue, WA MSA</td>\n",
       "      <td>2018-08-13</td>\n",
       "      <td>surf</td>\n",
       "      <td>NaT</td>\n",
       "      <td>2018-08</td>\n",
       "      <td>50</td>\n",
       "      <td>15360.0</td>\n",
       "      <td>500.0</td>\n",
       "      <td>20.0</td>\n",
       "      <td>10.0</td>\n",
       "      <td>0.03</td>\n",
       "      <td>0.03</td>\n",
       "      <td>surf</td>\n",
       "      <td>172.0</td>\n",
       "      <td>30.0</td>\n",
       "      <td>7.0</td>\n",
       "    </tr>\n",
       "    <tr>\n",
       "      <th>2</th>\n",
       "      <td>1002</td>\n",
       "      <td>Carlee</td>\n",
       "      <td>Hoffman</td>\n",
       "      <td>36</td>\n",
       "      <td>Las Vegas-Henderson-Paradise, NV MSA</td>\n",
       "      <td>2018-10-21</td>\n",
       "      <td>surf</td>\n",
       "      <td>NaT</td>\n",
       "      <td>2018-10</td>\n",
       "      <td>50</td>\n",
       "      <td>15360.0</td>\n",
       "      <td>500.0</td>\n",
       "      <td>20.0</td>\n",
       "      <td>10.0</td>\n",
       "      <td>0.03</td>\n",
       "      <td>0.03</td>\n",
       "      <td>surf</td>\n",
       "      <td>55.0</td>\n",
       "      <td>15.0</td>\n",
       "      <td>7.0</td>\n",
       "    </tr>\n",
       "  </tbody>\n",
       "</table>\n",
       "</div>"
      ],
      "text/plain": [
       "   user_id first_name  last_name  age                                   city  \\\n",
       "0     1000   Anamaria      Bauer   45  Atlanta-Sandy Springs-Roswell, GA MSA   \n",
       "1     1001     Mickey  Wilkerson   28        Seattle-Tacoma-Bellevue, WA MSA   \n",
       "2     1002     Carlee    Hoffman   36   Las Vegas-Henderson-Paradise, NV MSA   \n",
       "\n",
       "    reg_date      plan churn_date month_year  messages_included  \\\n",
       "0 2018-12-24  ultimate        NaT    2018-12               1000   \n",
       "1 2018-08-13      surf        NaT    2018-08                 50   \n",
       "2 2018-10-21      surf        NaT    2018-10                 50   \n",
       "\n",
       "   mb_per_month_included  minutes_included  usd_monthly_pay  usd_per_gb  \\\n",
       "0                30720.0            3000.0             70.0         7.0   \n",
       "1                15360.0             500.0             20.0        10.0   \n",
       "2                15360.0             500.0             20.0        10.0   \n",
       "\n",
       "   usd_per_message  usd_per_minute plan_name  total_minutes  total_messages  \\\n",
       "0             0.01            0.01  ultimate          117.0            11.0   \n",
       "1             0.03            0.03      surf          172.0            30.0   \n",
       "2             0.03            0.03      surf           55.0            15.0   \n",
       "\n",
       "   total_data_gb  \n",
       "0            2.0  \n",
       "1            7.0  \n",
       "2            7.0  "
      ]
     },
     "execution_count": 164,
     "metadata": {},
     "output_type": "execute_result"
    }
   ],
   "source": [
    "#5. Calcular los ingresos mensuales por usuario:\n",
    "\n",
    "#paso 1 Se crea una copia del DataFrame users para evitar modificar el original.\n",
    "users_copy = users.copy()\n",
    "\n",
    "#paso 2 Se agrega una nueva columna al DataFrame users_copy que contenga el mes y el año de registro de cada usuario, esta columna se llamará 'month_year',\n",
    "# usando la función dt.to_period('M') para extraer el mes y el año de la columna 'reg_date'.\n",
    "users_copy['month_year'] = users_copy['reg_date'].dt.to_period('M')\n",
    "\n",
    "#paso 3 Se une el DataFrame users_copy con el DataFrame plans para obtener los detalles del plan de cada usuario, el resultado se almacenará en un nuevo DataFrame llamado user_plans.\n",
    "user_plans = users_copy.merge(plans, left_on='plan', right_on='plan_name', how='left')\n",
    "\n",
    "#se usa left join para asegurarse de que todos los usuarios estén incluidos, incluso si no tienen un plan asociado.\n",
    "\n",
    "#paso 4 Se une el DataFrame user_plans con los DataFrames total_minutes:\n",
    "user_usage = user_plans.merge(total_minutes, on=['user_id','month_year'], how='left')\n",
    "\n",
    "#paso 4.1 Se une el DataFrame user_usage con el DataFrame total_messages:\n",
    "user_usage = user_usage.merge(total_messages, on=['user_id','month_year'], how='left')\n",
    "\n",
    "#paso 4.2 Se une el DataFrame user_usage con el DataFrame total_data:\n",
    "user_usage = user_usage.merge(total_data, on=['user_id','month_year'], how='left')\n",
    "\n",
    "#paso 5 Se rellenan los valores NaN en las columnas de uso minutos con 0, ya que si un usuario no tiene registros de uso en un mes, se asume que no utilizó esos servicios.\n",
    "user_usage['total_minutes'] = user_usage['total_minutes'].fillna(0)\n",
    "\n",
    "#paso 6 se rellenan los valores NaN en las columnas de uso mensages con 0, ya que si un usuario no tiene registros de uso en un mes, se asume que no utilizó esos servicios.\n",
    "user_usage['total_messages'] = user_usage['total_messages'].fillna(0)\n",
    "\n",
    "#paso 7 se rellenan los valores NaN en las columnas de uso gb con 0, ya que si un usuario no tiene registros de uso en un mes, se asume que no utilizó esos servicios.\n",
    "\n",
    "user_usage['total_data_gb'] = user_usage['total_data_gb'].fillna(0)\n",
    "\n",
    "user_usage.head(3)"
   ]
  },
  {
   "cell_type": "code",
   "execution_count": 168,
   "metadata": {},
   "outputs": [],
   "source": [
    "#paso 8 se crea una función para calcular los cargos adicionales por excedentes en minutos, mensajes y datos.\n",
    "#se debe de tener en cuenta que los cargos adicionales se aplican solo si el uso excede lo incluido en el plan.\n",
    "\n",
    "# Tarifas Megaline:\n",
    "\n",
    "# Plan Surf:\n",
    "# - Pago mensual: $20\n",
    "# - 500 minutos al mes, 50 SMS y 15 GB de datos\n",
    "# - Si se exceden los límites:\n",
    "#     - 1 minuto adicional: $0.03\n",
    "#     - 1 SMS adicional: $0.03\n",
    "#     - 1 GB adicional: $10\n",
    "\n",
    "# Plan Ultimate:\n",
    "# - Pago mensual: $70\n",
    "# - 3000 minutos al mes, 1000 SMS y 30 GB de datos\n",
    "# - Si se exceden los límites:\n",
    "#     - 1 minuto adicional: $0.01\n",
    "#     - 1 SMS adicional: $0.01\n",
    "#     - 1 GB adicional: $7\n",
    "\n",
    "#paso 8.1 Se define la función calculate_additional_charges que toma una fila del DataFrame user_usage como entrada y calcula los cargos adicionales basados en el plan y el uso\n",
    "# el codigo es asi def calculate_additional_charges(row):\n",
    "\n",
    "def calculate_additional_charges(row):\n",
    "    #paso 8.2 Se inicializa la variable additional_charges en 0.\n",
    "    additional_charges = 0\n",
    "    #paso 8.3 Se verifica el plan del usuario con if row['plan'] == 'Surf':, y se calculan los cargos adicionales si el uso excede lo incluido en el plan Surf.\n",
    "    if row['plan'] == 'surf':\n",
    "        #paso 8.4 se verifica si el uso de minutos excede los incluidos en el plan (500 minutos), el codigo es asi if row['total_minutes'] > row['minutes_included']:\n",
    "        if row['total_minutes'] > row['minutes_included']:\n",
    "            #paso 8.5 se calcula el exceso de minutos y se multiplica por la tarifa adicional por minuto (0.03) y se suma a additional_charges.\n",
    "            additional_charges += (row['total_minutes'] - row['minutes_included']) * row['usd_per_minute']\n",
    "        #paso 8.6 se verifica si el uso de mensajes excede los incluidos en el plan (50 mensajes), el codigo es asi if row['total_messages'] > row['messages_included']:\n",
    "        if row['total_messages'] > row['messages_included']:\n",
    "            #paso 8.7 se calcula el exceso de mensajes y se multiplica por la tarifa adicional por mensaje (0.03) y se suma a additional_charges.\n",
    "            additional_charges += (row['total_messages'] - row['messages_included']) * row['usd_per_message']\n",
    "        #paso 8.8 se verifica si el uso de datos excede los incluidos en el plan (15 GB), el codigo es asi if row['total_data_gb'] > row['mb_per_month_included'] / 1024:\n",
    "        if row['total_data_gb'] > row['mb_per_month_included'] / 1024:\n",
    "            #paso 8.9 se calcula el exceso de datos y se multiplica por la tarifa adicional por GB (10) y se suma a additional_charges.\n",
    "            additional_charges += (row['total_data_gb'] - row['mb_per_month_included'] / 1024) * row['usd_per_gb']\n",
    "    #paso 8.10 Se verifica el plan del usuario con elif row['plan == 'Ultimate':, y se calculan los cargos adicionales si el uso excede lo incluido en el plan Ultimate.\n",
    "    elif row['plan'] == 'ultimate':\n",
    "        #paso 8.11 se verifica si el uso de minutos excede los incluidos en el plan (3000 minutos), el codigo es asi if row['total_minutes'] > row['minutes_included']:\n",
    "        if row['total_minutes'] > row['minutes_included']:\n",
    "            #paso 8.12 se calcula el exceso de minutos y se multiplica por la tarifa adicional por minuto (0.01) y se suma a additional_charges.\n",
    "            additional_charges += (row['total_minutes'] - row['minutes_included']) * row['usd_per_minute']\n",
    "            #paso 8.13 se verifica si el uso de mensajes excede los incluidos en el plan (1000 mensajes), el codigo es asi if row['total_messages'] > row['messages_included']:\n",
    "        if row['total_messages'] > row['messages_included']:\n",
    "            #paso 8.14 se calcula el exceso de mensajes y se multiplica por la tarifa adicional por mensaje (0.01) y se suma a additional_charges.\n",
    "            additional_charges += (row['total_messages'] - row['messages_included']) * row['usd_per_message']\n",
    "            #paso 8.15 se verifica si el uso de datos excede los incluidos en el plan (30 GB), el codigo es asi if row['total_data_gb'] > row['mb_per_month_included'] / 1024:\n",
    "        if row['total_data_gb'] > row['mb_per_month_included'] / 1024:\n",
    "            #paso 8.16 se calcula el exceso de datos y se multiplica por la tarifa adicional por GB (7) y se suma a additional_charges.\n",
    "            additional_charges += (row['total_data_gb'] - row['mb_per_month_included'] / 1024) * row['usd_per_gb']\n",
    "    #paso 8.17 Se retorna el valor total de additional_charges.\n",
    "    return additional_charges"
   ]
  },
  {
   "cell_type": "code",
   "execution_count": 169,
   "metadata": {},
   "outputs": [],
   "source": [
    "#paso 9 Se aplica la función calculate_additional_charges a cada fila del DataFrame user_usage usando apply(axis=1) y se crea una nueva columna llamada 'additional_charges' \n",
    "# para almacenar los resultados.\n",
    "user_usage['additional_charges'] = user_usage.apply(calculate_additional_charges, axis=1)"
   ]
  },
  {
   "cell_type": "code",
   "execution_count": 171,
   "metadata": {},
   "outputs": [
    {
     "data": {
      "text/html": [
       "<div>\n",
       "<style scoped>\n",
       "    .dataframe tbody tr th:only-of-type {\n",
       "        vertical-align: middle;\n",
       "    }\n",
       "\n",
       "    .dataframe tbody tr th {\n",
       "        vertical-align: top;\n",
       "    }\n",
       "\n",
       "    .dataframe thead th {\n",
       "        text-align: right;\n",
       "    }\n",
       "</style>\n",
       "<table border=\"1\" class=\"dataframe\">\n",
       "  <thead>\n",
       "    <tr style=\"text-align: right;\">\n",
       "      <th></th>\n",
       "      <th>user_id</th>\n",
       "      <th>first_name</th>\n",
       "      <th>last_name</th>\n",
       "      <th>age</th>\n",
       "      <th>city</th>\n",
       "      <th>reg_date</th>\n",
       "      <th>plan</th>\n",
       "      <th>churn_date</th>\n",
       "      <th>month_year</th>\n",
       "      <th>messages_included</th>\n",
       "      <th>...</th>\n",
       "      <th>minutes_included</th>\n",
       "      <th>usd_monthly_pay</th>\n",
       "      <th>usd_per_gb</th>\n",
       "      <th>usd_per_message</th>\n",
       "      <th>usd_per_minute</th>\n",
       "      <th>plan_name</th>\n",
       "      <th>total_minutes</th>\n",
       "      <th>total_messages</th>\n",
       "      <th>total_data_gb</th>\n",
       "      <th>additional_charges</th>\n",
       "    </tr>\n",
       "  </thead>\n",
       "  <tbody>\n",
       "    <tr>\n",
       "      <th>0</th>\n",
       "      <td>1000</td>\n",
       "      <td>Anamaria</td>\n",
       "      <td>Bauer</td>\n",
       "      <td>45</td>\n",
       "      <td>Atlanta-Sandy Springs-Roswell, GA MSA</td>\n",
       "      <td>2018-12-24</td>\n",
       "      <td>ultimate</td>\n",
       "      <td>NaT</td>\n",
       "      <td>2018-12</td>\n",
       "      <td>1000</td>\n",
       "      <td>...</td>\n",
       "      <td>3000.0</td>\n",
       "      <td>70.0</td>\n",
       "      <td>7.0</td>\n",
       "      <td>0.01</td>\n",
       "      <td>0.01</td>\n",
       "      <td>ultimate</td>\n",
       "      <td>117.0</td>\n",
       "      <td>11.0</td>\n",
       "      <td>2.0</td>\n",
       "      <td>0.0</td>\n",
       "    </tr>\n",
       "    <tr>\n",
       "      <th>1</th>\n",
       "      <td>1001</td>\n",
       "      <td>Mickey</td>\n",
       "      <td>Wilkerson</td>\n",
       "      <td>28</td>\n",
       "      <td>Seattle-Tacoma-Bellevue, WA MSA</td>\n",
       "      <td>2018-08-13</td>\n",
       "      <td>surf</td>\n",
       "      <td>NaT</td>\n",
       "      <td>2018-08</td>\n",
       "      <td>50</td>\n",
       "      <td>...</td>\n",
       "      <td>500.0</td>\n",
       "      <td>20.0</td>\n",
       "      <td>10.0</td>\n",
       "      <td>0.03</td>\n",
       "      <td>0.03</td>\n",
       "      <td>surf</td>\n",
       "      <td>172.0</td>\n",
       "      <td>30.0</td>\n",
       "      <td>7.0</td>\n",
       "      <td>0.0</td>\n",
       "    </tr>\n",
       "    <tr>\n",
       "      <th>2</th>\n",
       "      <td>1002</td>\n",
       "      <td>Carlee</td>\n",
       "      <td>Hoffman</td>\n",
       "      <td>36</td>\n",
       "      <td>Las Vegas-Henderson-Paradise, NV MSA</td>\n",
       "      <td>2018-10-21</td>\n",
       "      <td>surf</td>\n",
       "      <td>NaT</td>\n",
       "      <td>2018-10</td>\n",
       "      <td>50</td>\n",
       "      <td>...</td>\n",
       "      <td>500.0</td>\n",
       "      <td>20.0</td>\n",
       "      <td>10.0</td>\n",
       "      <td>0.03</td>\n",
       "      <td>0.03</td>\n",
       "      <td>surf</td>\n",
       "      <td>55.0</td>\n",
       "      <td>15.0</td>\n",
       "      <td>7.0</td>\n",
       "      <td>0.0</td>\n",
       "    </tr>\n",
       "  </tbody>\n",
       "</table>\n",
       "<p>3 rows × 21 columns</p>\n",
       "</div>"
      ],
      "text/plain": [
       "   user_id first_name  last_name  age                                   city  \\\n",
       "0     1000   Anamaria      Bauer   45  Atlanta-Sandy Springs-Roswell, GA MSA   \n",
       "1     1001     Mickey  Wilkerson   28        Seattle-Tacoma-Bellevue, WA MSA   \n",
       "2     1002     Carlee    Hoffman   36   Las Vegas-Henderson-Paradise, NV MSA   \n",
       "\n",
       "    reg_date      plan churn_date month_year  messages_included  ...  \\\n",
       "0 2018-12-24  ultimate        NaT    2018-12               1000  ...   \n",
       "1 2018-08-13      surf        NaT    2018-08                 50  ...   \n",
       "2 2018-10-21      surf        NaT    2018-10                 50  ...   \n",
       "\n",
       "   minutes_included  usd_monthly_pay  usd_per_gb  usd_per_message  \\\n",
       "0            3000.0             70.0         7.0             0.01   \n",
       "1             500.0             20.0        10.0             0.03   \n",
       "2             500.0             20.0        10.0             0.03   \n",
       "\n",
       "   usd_per_minute  plan_name total_minutes  total_messages  total_data_gb  \\\n",
       "0            0.01   ultimate         117.0            11.0            2.0   \n",
       "1            0.03       surf         172.0            30.0            7.0   \n",
       "2            0.03       surf          55.0            15.0            7.0   \n",
       "\n",
       "   additional_charges  \n",
       "0                 0.0  \n",
       "1                 0.0  \n",
       "2                 0.0  \n",
       "\n",
       "[3 rows x 21 columns]"
      ]
     },
     "execution_count": 171,
     "metadata": {},
     "output_type": "execute_result"
    }
   ],
   "source": [
    "user_usage.head(3)"
   ]
  },
  {
   "cell_type": "code",
   "execution_count": 178,
   "metadata": {},
   "outputs": [
    {
     "data": {
      "text/html": [
       "<div>\n",
       "<style scoped>\n",
       "    .dataframe tbody tr th:only-of-type {\n",
       "        vertical-align: middle;\n",
       "    }\n",
       "\n",
       "    .dataframe tbody tr th {\n",
       "        vertical-align: top;\n",
       "    }\n",
       "\n",
       "    .dataframe thead th {\n",
       "        text-align: right;\n",
       "    }\n",
       "</style>\n",
       "<table border=\"1\" class=\"dataframe\">\n",
       "  <thead>\n",
       "    <tr style=\"text-align: right;\">\n",
       "      <th></th>\n",
       "      <th>plan</th>\n",
       "      <th>month_year</th>\n",
       "      <th>average_minutes</th>\n",
       "    </tr>\n",
       "  </thead>\n",
       "  <tbody>\n",
       "    <tr>\n",
       "      <th>0</th>\n",
       "      <td>surf</td>\n",
       "      <td>2018-01</td>\n",
       "      <td>12.866667</td>\n",
       "    </tr>\n",
       "    <tr>\n",
       "      <th>1</th>\n",
       "      <td>surf</td>\n",
       "      <td>2018-02</td>\n",
       "      <td>28.666667</td>\n",
       "    </tr>\n",
       "    <tr>\n",
       "      <th>2</th>\n",
       "      <td>surf</td>\n",
       "      <td>2018-03</td>\n",
       "      <td>66.900000</td>\n",
       "    </tr>\n",
       "    <tr>\n",
       "      <th>3</th>\n",
       "      <td>surf</td>\n",
       "      <td>2018-04</td>\n",
       "      <td>107.205882</td>\n",
       "    </tr>\n",
       "    <tr>\n",
       "      <th>4</th>\n",
       "      <td>surf</td>\n",
       "      <td>2018-05</td>\n",
       "      <td>52.920000</td>\n",
       "    </tr>\n",
       "  </tbody>\n",
       "</table>\n",
       "</div>"
      ],
      "text/plain": [
       "   plan month_year  average_minutes\n",
       "0  surf    2018-01        12.866667\n",
       "1  surf    2018-02        28.666667\n",
       "2  surf    2018-03        66.900000\n",
       "3  surf    2018-04       107.205882\n",
       "4  surf    2018-05        52.920000"
      ]
     },
     "execution_count": 178,
     "metadata": {},
     "output_type": "execute_result"
    }
   ],
   "source": [
    "#10. encuentra los minutos que requieren los usuarios de cada tarifa por mes, aqui lo que se busca es encontrar el promedio de minutos que usan los usuarios de cada plan por mes.\n",
    "#paso 10.1 Se agrupa el DataFrame user_usage por 'plan' y 'month_year', y se calcula el promedio de minutos utilizados en cada grupo usando mean(), \n",
    "# la variable resultante se llamará 'average_minutes'.\n",
    "average_minutes = user_usage.groupby(['plan','month_year'])['total_minutes'].mean().reset_index(name='average_minutes')\n",
    "average_minutes.head()"
   ]
  },
  {
   "cell_type": "code",
   "execution_count": 179,
   "metadata": {},
   "outputs": [
    {
     "data": {
      "text/html": [
       "<div>\n",
       "<style scoped>\n",
       "    .dataframe tbody tr th:only-of-type {\n",
       "        vertical-align: middle;\n",
       "    }\n",
       "\n",
       "    .dataframe tbody tr th {\n",
       "        vertical-align: top;\n",
       "    }\n",
       "\n",
       "    .dataframe thead th {\n",
       "        text-align: right;\n",
       "    }\n",
       "</style>\n",
       "<table border=\"1\" class=\"dataframe\">\n",
       "  <thead>\n",
       "    <tr style=\"text-align: right;\">\n",
       "      <th></th>\n",
       "      <th>plan</th>\n",
       "      <th>month_year</th>\n",
       "      <th>var</th>\n",
       "      <th>std</th>\n",
       "    </tr>\n",
       "  </thead>\n",
       "  <tbody>\n",
       "    <tr>\n",
       "      <th>0</th>\n",
       "      <td>surf</td>\n",
       "      <td>2018-01</td>\n",
       "      <td>2907.705747</td>\n",
       "      <td>53.923147</td>\n",
       "    </tr>\n",
       "    <tr>\n",
       "      <th>1</th>\n",
       "      <td>surf</td>\n",
       "      <td>2018-02</td>\n",
       "      <td>6151.747126</td>\n",
       "      <td>78.433074</td>\n",
       "    </tr>\n",
       "    <tr>\n",
       "      <th>2</th>\n",
       "      <td>surf</td>\n",
       "      <td>2018-03</td>\n",
       "      <td>16761.472414</td>\n",
       "      <td>129.466105</td>\n",
       "    </tr>\n",
       "    <tr>\n",
       "      <th>3</th>\n",
       "      <td>surf</td>\n",
       "      <td>2018-04</td>\n",
       "      <td>43503.138146</td>\n",
       "      <td>208.574059</td>\n",
       "    </tr>\n",
       "    <tr>\n",
       "      <th>4</th>\n",
       "      <td>surf</td>\n",
       "      <td>2018-05</td>\n",
       "      <td>8748.576667</td>\n",
       "      <td>93.533826</td>\n",
       "    </tr>\n",
       "  </tbody>\n",
       "</table>\n",
       "</div>"
      ],
      "text/plain": [
       "   plan month_year           var         std\n",
       "0  surf    2018-01   2907.705747   53.923147\n",
       "1  surf    2018-02   6151.747126   78.433074\n",
       "2  surf    2018-03  16761.472414  129.466105\n",
       "3  surf    2018-04  43503.138146  208.574059\n",
       "4  surf    2018-05   8748.576667   93.533826"
      ]
     },
     "execution_count": 179,
     "metadata": {},
     "output_type": "execute_result"
    }
   ],
   "source": [
    "#paso 10.2 se calcula la varianza y la desviación estándar de los minutos utilizados por los usuarios de cada plan por mes.\n",
    "#se define la variable stats_minutes que agrupa el DataFrame user_usage por 'plan' y 'month_year', y calcula la varianza y la desviación estándar de \n",
    "# los minutos utilizados en cada grupo usando var() y std().\n",
    "stats_minutes = user_usage.groupby(['plan','month_year'])['total_minutes'].agg(['var','std']).reset_index()\n",
    "stats_minutes.head()"
   ]
  },
  {
   "cell_type": "code",
   "execution_count": 200,
   "metadata": {},
   "outputs": [
    {
     "data": {
      "image/png": "[encoded data removed]",
      "text/plain": [
       "<Figure size 1200x600 with 1 Axes>"
      ]
     },
     "metadata": {},
     "output_type": "display_data"
    },
    {
     "data": {
      "image/png": "[encoded data removed]",
      "text/plain": [
       "<Figure size 1200x600 with 1 Axes>"
      ]
     },
     "metadata": {},
     "output_type": "display_data"
    }
   ],
   "source": [
    "#paso 11 se traza un histograma para visualizar la distribución de los minutos utilizados por los usuarios de cada plan.\n",
    "#paso 11.1 se usa seaborn para crear histogramas de los minutos utilizados por los usuarios de cada plan.\n",
    "#paso 11.2 se usa plt.figure(figsize=(12, 6)) para definir el tamaño de la figura 12 de ancho por 6 de alto.\n",
    "#se tiene que ver los graficos lados por lado para ver la diferencia entre los planes.\n",
    "plt.figure(figsize=(12, 6))\n",
    "#paso 11.3 se usa sns.histplot para crear histogramas de los minutos utilizados por los usuarios de cada plan, primero para el plan Surf y luego para el plan Ultimate.\n",
    "#paso 11.3.1 se crea el histograma para el plan Surf.\n",
    "sns.histplot(data=user_usage[user_usage['plan'] == 'surf'], x='total_minutes', bins=30, color='blue', kde=True)\n",
    "plt.axvline(user_usage[user_usage['plan'] == 'surf']['total_minutes'].mean(), color='red', linestyle='dashed', linewidth=1)\n",
    "#paso 11.3.2 se crea el titulo del histograma para el plan Surf.\n",
    "plt.title('Distribución de Minutos Utilizados - Plan Surf')\n",
    "#paso 11.3.3 se crea la leyenda del eje x.\n",
    "plt.xlabel('Minutos Utilizados')\n",
    "#paso 11.3.4 se crea la leyenda del eje y.\n",
    "plt.ylabel('Frecuencia')\n",
    "#paso 11.3.5 se muestra el histograma para el plan Surf.\n",
    "plt.show()\n",
    "\n",
    "#paso 12 se crea el histograma para el plan Ultimate.\n",
    "#paso 12.1 se usa plt.figure(figsize=(12, 6)) para definir el tamaño de la figura 12 de ancho por 6 de alto.\n",
    "plt.figure(figsize=(12, 6))\n",
    "#paso 12.2 se usa sns.histplot para crear histogramas de los minutos utilizados por los usuarios de cada plan, primero para el plan Surf y luego para el plan Ultimate.\n",
    "sns.histplot(data=user_usage[user_usage['plan'] == 'ultimate'], x='total_minutes', bins=30, color='green', kde=True)\n",
    "plt.axvline(user_usage[user_usage['plan'] == 'ultimate']['total_minutes'].mean(), color='red', linestyle='dashed', linewidth=1)\n",
    "#paso 12.3 se crea el titulo del histograma para el plan Ultimate.\n",
    "plt.title('Distribución de Minutos Utilizados - Plan Ultimate')\n",
    "#paso 12.4 se crea la leyenda del eje x.\n",
    "plt.xlabel('Minutos Utilizados')\n",
    "#paso 12.5 se crea la leyenda del eje y.\n",
    "plt.ylabel('Frecuencia')\n",
    "#paso 12.6 se muestra el histograma para el plan Ultimate.\n",
    "plt.show()"
   ]
  },
  {
   "cell_type": "code",
   "execution_count": 202,
   "metadata": {},
   "outputs": [
    {
     "data": {
      "text/html": [
       "<div>\n",
       "<style scoped>\n",
       "    .dataframe tbody tr th:only-of-type {\n",
       "        vertical-align: middle;\n",
       "    }\n",
       "\n",
       "    .dataframe tbody tr th {\n",
       "        vertical-align: top;\n",
       "    }\n",
       "\n",
       "    .dataframe thead th {\n",
       "        text-align: right;\n",
       "    }\n",
       "</style>\n",
       "<table border=\"1\" class=\"dataframe\">\n",
       "  <thead>\n",
       "    <tr style=\"text-align: right;\">\n",
       "      <th></th>\n",
       "      <th>plan</th>\n",
       "      <th>month_year</th>\n",
       "      <th>average_messages</th>\n",
       "    </tr>\n",
       "  </thead>\n",
       "  <tbody>\n",
       "    <tr>\n",
       "      <th>0</th>\n",
       "      <td>surf</td>\n",
       "      <td>2018-01</td>\n",
       "      <td>0.700000</td>\n",
       "    </tr>\n",
       "    <tr>\n",
       "      <th>1</th>\n",
       "      <td>surf</td>\n",
       "      <td>2018-02</td>\n",
       "      <td>0.700000</td>\n",
       "    </tr>\n",
       "    <tr>\n",
       "      <th>2</th>\n",
       "      <td>surf</td>\n",
       "      <td>2018-03</td>\n",
       "      <td>3.166667</td>\n",
       "    </tr>\n",
       "    <tr>\n",
       "      <th>3</th>\n",
       "      <td>surf</td>\n",
       "      <td>2018-04</td>\n",
       "      <td>9.323529</td>\n",
       "    </tr>\n",
       "    <tr>\n",
       "      <th>4</th>\n",
       "      <td>surf</td>\n",
       "      <td>2018-05</td>\n",
       "      <td>1.760000</td>\n",
       "    </tr>\n",
       "  </tbody>\n",
       "</table>\n",
       "</div>"
      ],
      "text/plain": [
       "   plan month_year  average_messages\n",
       "0  surf    2018-01          0.700000\n",
       "1  surf    2018-02          0.700000\n",
       "2  surf    2018-03          3.166667\n",
       "3  surf    2018-04          9.323529\n",
       "4  surf    2018-05          1.760000"
      ]
     },
     "execution_count": 202,
     "metadata": {},
     "output_type": "execute_result"
    }
   ],
   "source": [
    "#paso 13 encontrar los sms que requieren los usuarios de cada tarifa por mes, aqui lo que se busca es encontrar el promedio de sms que usan los usuarios de cada plan por mes.\n",
    "#se define la variable average_messages que agrupa el DataFrame user_usage por 'plan' y 'month_year', y calcula el promedio de mensajes utilizados en cada grupo usando mean(),\n",
    "# la variable resultante se llamará 'average_messages'.\n",
    "average_messages = user_usage.groupby(['plan','month_year'])['total_messages'].mean().reset_index(name='average_messages')\n",
    "average_messages.head()"
   ]
  },
  {
   "cell_type": "code",
   "execution_count": 203,
   "metadata": {},
   "outputs": [
    {
     "data": {
      "text/html": [
       "<div>\n",
       "<style scoped>\n",
       "    .dataframe tbody tr th:only-of-type {\n",
       "        vertical-align: middle;\n",
       "    }\n",
       "\n",
       "    .dataframe tbody tr th {\n",
       "        vertical-align: top;\n",
       "    }\n",
       "\n",
       "    .dataframe thead th {\n",
       "        text-align: right;\n",
       "    }\n",
       "</style>\n",
       "<table border=\"1\" class=\"dataframe\">\n",
       "  <thead>\n",
       "    <tr style=\"text-align: right;\">\n",
       "      <th></th>\n",
       "      <th>plan</th>\n",
       "      <th>month_year</th>\n",
       "      <th>var</th>\n",
       "      <th>std</th>\n",
       "    </tr>\n",
       "  </thead>\n",
       "  <tbody>\n",
       "    <tr>\n",
       "      <th>0</th>\n",
       "      <td>surf</td>\n",
       "      <td>2018-01</td>\n",
       "      <td>14.700000</td>\n",
       "      <td>3.834058</td>\n",
       "    </tr>\n",
       "    <tr>\n",
       "      <th>1</th>\n",
       "      <td>surf</td>\n",
       "      <td>2018-02</td>\n",
       "      <td>5.665517</td>\n",
       "      <td>2.380235</td>\n",
       "    </tr>\n",
       "    <tr>\n",
       "      <th>2</th>\n",
       "      <td>surf</td>\n",
       "      <td>2018-03</td>\n",
       "      <td>102.626437</td>\n",
       "      <td>10.130471</td>\n",
       "    </tr>\n",
       "    <tr>\n",
       "      <th>3</th>\n",
       "      <td>surf</td>\n",
       "      <td>2018-04</td>\n",
       "      <td>569.922460</td>\n",
       "      <td>23.873049</td>\n",
       "    </tr>\n",
       "    <tr>\n",
       "      <th>4</th>\n",
       "      <td>surf</td>\n",
       "      <td>2018-05</td>\n",
       "      <td>22.440000</td>\n",
       "      <td>4.737088</td>\n",
       "    </tr>\n",
       "  </tbody>\n",
       "</table>\n",
       "</div>"
      ],
      "text/plain": [
       "   plan month_year         var        std\n",
       "0  surf    2018-01   14.700000   3.834058\n",
       "1  surf    2018-02    5.665517   2.380235\n",
       "2  surf    2018-03  102.626437  10.130471\n",
       "3  surf    2018-04  569.922460  23.873049\n",
       "4  surf    2018-05   22.440000   4.737088"
      ]
     },
     "execution_count": 203,
     "metadata": {},
     "output_type": "execute_result"
    }
   ],
   "source": [
    "#paso 13.1 se calcula la varianza y la desviación estándar de los mensajes utilizados por los usuarios de cada plan por mes.\n",
    "#se define la variable stats_messages que agrupa el DataFrame user_usage por 'plan' y 'month_year', y calcula la varianza y la desviación estándar de \n",
    "# los mensajes utilizados en cada grupo usando var() y std().\n",
    "stats_messages = user_usage.groupby(['plan','month_year'])['total_messages'].agg(['var','std']).reset_index()\n",
    "stats_messages.head()"
   ]
  },
  {
   "cell_type": "code",
   "execution_count": 205,
   "metadata": {},
   "outputs": [
    {
     "data": {
      "image/png": "[encoded data removed]",
      "text/plain": [
       "<Figure size 1200x600 with 1 Axes>"
      ]
     },
     "metadata": {},
     "output_type": "display_data"
    },
    {
     "data": {
      "image/png": "[encoded data removed]",
      "text/plain": [
       "<Figure size 1200x600 with 1 Axes>"
      ]
     },
     "metadata": {},
     "output_type": "display_data"
    }
   ],
   "source": [
    "#paso 14 se traza un histograma para visualizar la distribución de los mensajes utilizados por los usuarios de cada plan.\n",
    "#paso 14.1 se usa seaborn para crear histogramas de los mensajes utilizados por los usuarios de cada plan.\n",
    "#paso 14.2 se usa plt.figure(figsize=(12, 6)) para definir el tamaño de la figura 12 de ancho por 6 de alto.\n",
    "#se tiene que ver los graficos lados por lado para ver la diferencia entre los planes.\n",
    "plt.figure(figsize=(12,6))\n",
    "#paso 14.3 se usa sns.histplot para crear histogramas de los mensajes utilizados por los usuarios de cada plan, primero para el plan Surf y luego para el plan Ultimate.\n",
    "#paso 14.3.1 se crea el histograma para el plan Surf.\n",
    "sns.histplot(data=user_usage[user_usage['plan'] == 'surf'], x='total_messages', bins=30, color='blue', kde=True)\n",
    "#paso 14.3.2 se traza la línea vertical que indica el promedio de mensajes utilizados en el plan Surf.\n",
    "plt.axvline(user_usage[user_usage['plan'] == 'surf']['total_messages'].mean(), color='red', linestyle='dashed', linewidth=1)\n",
    "#paso 14.3.3 se crea el titulo del histograma para el plan Surf.\n",
    "plt.title('Distribución de Mensajes Utilizados - Plan Surf')\n",
    "#paso 14.3.4 se crea la leyenda del eje x.\n",
    "plt.xlabel('Mensajes Utilizados')\n",
    "#paso 14.3.5 se crea la leyenda del eje y.\n",
    "plt.ylabel('Frecuencia')\n",
    "#paso 14.3.6 se muestra el histograma para el plan Surf.\n",
    "plt.show()\n",
    "\n",
    "#paso 15 se crea el histograma para el plan Ultimate.\n",
    "#paso 15.1 se usa plt.figure(figsize=(12, 6)) para definir el tamaño de la figura 12 de ancho por 6 de alto.\n",
    "plt.figure(figsize=(12, 6))\n",
    "#paso 15.2 se usa sns.histplot para crear histogramas de los mensajes utilizados por los usuarios de cada plan, primero para el plan Surf y luego para el plan Ultimate.\n",
    "sns.histplot(data=user_usage[user_usage['plan'] == 'ultimate'], x='total_messages', bins=30, color='green', kde=True)\n",
    "#paso 15.3 se traza la línea vertical que indica el promedio de mensajes utilizados en el plan Ultimate.\n",
    "plt.axvline(user_usage[user_usage['plan'] == 'ultimate']['total_messages'].mean(), color='red', linestyle='dashed', linewidth=1)\n",
    "#paso 15.4 se crea el titulo del histograma para el plan Ultimate.\n",
    "plt.title('Distribución de Mensajes Utilizados - Plan Ultimate')\n",
    "#paso 15.5 se crea la leyenda del eje x.\n",
    "plt.xlabel('Mensajes Utilizados')\n",
    "#paso 15.6 se crea la leyenda del eje y.\n",
    "plt.ylabel('Frecuencia')\n",
    "#paso 15.7 se muestra el histograma para el plan Ultimate.\n",
    "plt.show()"
   ]
  },
  {
   "cell_type": "code",
   "execution_count": 207,
   "metadata": {},
   "outputs": [
    {
     "data": {
      "text/html": [
       "<div>\n",
       "<style scoped>\n",
       "    .dataframe tbody tr th:only-of-type {\n",
       "        vertical-align: middle;\n",
       "    }\n",
       "\n",
       "    .dataframe tbody tr th {\n",
       "        vertical-align: top;\n",
       "    }\n",
       "\n",
       "    .dataframe thead th {\n",
       "        text-align: right;\n",
       "    }\n",
       "</style>\n",
       "<table border=\"1\" class=\"dataframe\">\n",
       "  <thead>\n",
       "    <tr style=\"text-align: right;\">\n",
       "      <th></th>\n",
       "      <th>plan</th>\n",
       "      <th>month_year</th>\n",
       "      <th>average_data_gb</th>\n",
       "    </tr>\n",
       "  </thead>\n",
       "  <tbody>\n",
       "    <tr>\n",
       "      <th>0</th>\n",
       "      <td>surf</td>\n",
       "      <td>2018-01</td>\n",
       "      <td>0.333333</td>\n",
       "    </tr>\n",
       "    <tr>\n",
       "      <th>1</th>\n",
       "      <td>surf</td>\n",
       "      <td>2018-02</td>\n",
       "      <td>2.133333</td>\n",
       "    </tr>\n",
       "    <tr>\n",
       "      <th>2</th>\n",
       "      <td>surf</td>\n",
       "      <td>2018-03</td>\n",
       "      <td>2.466667</td>\n",
       "    </tr>\n",
       "    <tr>\n",
       "      <th>3</th>\n",
       "      <td>surf</td>\n",
       "      <td>2018-04</td>\n",
       "      <td>3.735294</td>\n",
       "    </tr>\n",
       "    <tr>\n",
       "      <th>4</th>\n",
       "      <td>surf</td>\n",
       "      <td>2018-05</td>\n",
       "      <td>2.720000</td>\n",
       "    </tr>\n",
       "  </tbody>\n",
       "</table>\n",
       "</div>"
      ],
      "text/plain": [
       "   plan month_year  average_data_gb\n",
       "0  surf    2018-01         0.333333\n",
       "1  surf    2018-02         2.133333\n",
       "2  surf    2018-03         2.466667\n",
       "3  surf    2018-04         3.735294\n",
       "4  surf    2018-05         2.720000"
      ]
     },
     "execution_count": 207,
     "metadata": {},
     "output_type": "execute_result"
    }
   ],
   "source": [
    "#paso 16 encontrar los gb que requieren los usuarios de cada tarifa por mes, aqui lo que se busca es encontrar el promedio de gb que usan los usuarios de cada plan por mes.\n",
    "#se define la variable average_data que agrupa el DataFrame user_usage por 'plan' y 'month_year', y calcula el promedio de gb utilizados en cada grupo usando mean(),\n",
    "# la variable se llama average_data y se muestra en la salida.\n",
    "average_data = user_usage.groupby(['plan','month_year'])['total_data_gb'].mean().reset_index(name='average_data_gb')\n",
    "average_data.head()"
   ]
  },
  {
   "cell_type": "code",
   "execution_count": 208,
   "metadata": {},
   "outputs": [
    {
     "data": {
      "text/html": [
       "<div>\n",
       "<style scoped>\n",
       "    .dataframe tbody tr th:only-of-type {\n",
       "        vertical-align: middle;\n",
       "    }\n",
       "\n",
       "    .dataframe tbody tr th {\n",
       "        vertical-align: top;\n",
       "    }\n",
       "\n",
       "    .dataframe thead th {\n",
       "        text-align: right;\n",
       "    }\n",
       "</style>\n",
       "<table border=\"1\" class=\"dataframe\">\n",
       "  <thead>\n",
       "    <tr style=\"text-align: right;\">\n",
       "      <th></th>\n",
       "      <th>plan</th>\n",
       "      <th>month_year</th>\n",
       "      <th>var</th>\n",
       "      <th>std</th>\n",
       "    </tr>\n",
       "  </thead>\n",
       "  <tbody>\n",
       "    <tr>\n",
       "      <th>0</th>\n",
       "      <td>surf</td>\n",
       "      <td>2018-01</td>\n",
       "      <td>2.229885</td>\n",
       "      <td>1.493280</td>\n",
       "    </tr>\n",
       "    <tr>\n",
       "      <th>1</th>\n",
       "      <td>surf</td>\n",
       "      <td>2018-02</td>\n",
       "      <td>33.429885</td>\n",
       "      <td>5.781858</td>\n",
       "    </tr>\n",
       "    <tr>\n",
       "      <th>2</th>\n",
       "      <td>surf</td>\n",
       "      <td>2018-03</td>\n",
       "      <td>25.222989</td>\n",
       "      <td>5.022249</td>\n",
       "    </tr>\n",
       "    <tr>\n",
       "      <th>3</th>\n",
       "      <td>surf</td>\n",
       "      <td>2018-04</td>\n",
       "      <td>36.139929</td>\n",
       "      <td>6.011649</td>\n",
       "    </tr>\n",
       "    <tr>\n",
       "      <th>4</th>\n",
       "      <td>surf</td>\n",
       "      <td>2018-05</td>\n",
       "      <td>20.793333</td>\n",
       "      <td>4.559971</td>\n",
       "    </tr>\n",
       "  </tbody>\n",
       "</table>\n",
       "</div>"
      ],
      "text/plain": [
       "   plan month_year        var       std\n",
       "0  surf    2018-01   2.229885  1.493280\n",
       "1  surf    2018-02  33.429885  5.781858\n",
       "2  surf    2018-03  25.222989  5.022249\n",
       "3  surf    2018-04  36.139929  6.011649\n",
       "4  surf    2018-05  20.793333  4.559971"
      ]
     },
     "execution_count": 208,
     "metadata": {},
     "output_type": "execute_result"
    }
   ],
   "source": [
    "#paso 16.1 se calcula la varianza y la desviación estándar de los gb utilizados por los usuarios de cada plan por mes.\n",
    "#se define la variable stats_data que agrupa el DataFrame user_usage por 'plan' y 'month_year', y calcula la varianza y la desviación estándar de \n",
    "# los gb utilizados en cada grupo usando var() y std().\n",
    "stats_data = user_usage.groupby(['plan','month_year'])['total_data_gb'].agg(['var','std']).reset_index()\n",
    "stats_data.head()"
   ]
  },
  {
   "cell_type": "code",
   "execution_count": 210,
   "metadata": {},
   "outputs": [
    {
     "data": {
      "image/png": "[encoded data removed]",
      "text/plain": [
       "<Figure size 1200x600 with 1 Axes>"
      ]
     },
     "metadata": {},
     "output_type": "display_data"
    },
    {
     "data": {
      "image/png": "[encoded data removed]",
      "text/plain": [
       "<Figure size 1200x600 with 1 Axes>"
      ]
     },
     "metadata": {},
     "output_type": "display_data"
    }
   ],
   "source": [
    "#paso 17 se traza un histograma para visualizar la distribución de los gb utilizados por los usuarios de cada plan.\n",
    "#paso 17.1 se usa seaborn para crear histogramas de los gb utilizados por los usuarios de cada plan.\n",
    "#paso 17.2 se usa plt.figure(figsize=(12, 6)) para definir el tamaño de la figura 12 de ancho por 6 de alto.\n",
    "plt.figure(figsize=(12,6))\n",
    "#paso 17.3 se usa sns.histplot para crear histogramas de los gb utilizados por los usuarios de cada plan, primero para el plan Surf y luego para el plan Ultimate.\n",
    "#paso 17.3.1 se crea el histograma para el plan Surf.\n",
    "sns.histplot(data=user_usage[user_usage['plan'] == 'surf'], x='total_data_gb', bins=30, color='blue', kde=True)\n",
    "#paso 17.3.2 se traza la línea vertical que indica el promedio de gb utilizados en el plan Surf.\n",
    "plt.axvline(user_usage[user_usage['plan'] == 'surf']['total_data_gb'].mean(), color='red', linestyle='dashed', linewidth=1)\n",
    "#paso 17.3.3 se crea el titulo del histograma para el plan Surf.\n",
    "plt.title('Distribución de GB Utilizados - Plan Surf')\n",
    "#paso 17.3.4 se crea la leyenda del eje x.\n",
    "plt.xlabel('GB Utilizados')\n",
    "#paso 17.3.5 se crea la leyenda del eje y.\n",
    "plt.ylabel('Frecuencia')\n",
    "#paso 17.3.6 se muestra el histograma para el plan Surf.\n",
    "plt.show()\n",
    "#paso 18 se crea el histograma para el plan Ultimate.\n",
    "#paso 18.1 se usa plt.figure(figsize=(12, 6)) para definir el tamaño de la figura 12 de ancho por 6 de alto.\n",
    "plt.figure(figsize=(12,6))\n",
    "#paso 18.2 se usa sns.histplot para crear histogramas de los gb utilizados por los usuarios de cada plan, primero para el plan Surf y luego para el plan Ultimate.\n",
    "sns.histplot(data=user_usage[user_usage['plan'] == 'ultimate'], x='total_data_gb', bins=30, color='green', kde=True)\n",
    "#paso 18.3 se traza la línea vertical que indica el promedio de gb utilizados en el plan Ultimate.\n",
    "plt.axvline(user_usage[user_usage['plan'] == 'ultimate']['total_data_gb'].mean(), color='red', linestyle='dashed', linewidth=1)\n",
    "#paso 18.4 se crea el titulo del histograma para el plan Ultimate.\n",
    "plt.title('Distribución de GB Utilizados - Plan Ultimate')\n",
    "#paso 18.5 se crea la leyenda del eje x.\n",
    "plt.xlabel('GB Utilizados')\n",
    "#paso 18.6 se crea la leyenda del eje y.\n",
    "plt.ylabel('Frecuencia')\n",
    "#paso 18.7 se muestra el histograma para el plan Ultimate.\n",
    "plt.show()"
   ]
  },
  {
   "cell_type": "code",
   "execution_count": 211,
   "metadata": {},
   "outputs": [],
   "source": [
    "#paso 19 verificar la hipotesis A que dice: \"El ingreso promedio de los usuarios de las tarifas Surf y Ultimate difiere.\"\n",
    "\n",
    "#En donde la hipotesis nula H0: El ingreso promedio de los usuarios de las tarifas Surf y Ultimate es igual.\n",
    "#Y la hipotesis alternativa H1: El ingreso promedio de los usuarios de las tarifas Surf y Ultimate difiere.\n",
    "\n",
    "#En este caso es una probabilidad de dos colas, ya que se quiere saber si el ingreso promedio de los usuarios de las tarifas Surf y Ultimate es diferente no se pide \n",
    "# saber si es mayor o menor, por lo que se debe de dividir el nivel de significancia entre 2.\n"
   ]
  },
  {
   "cell_type": "code",
   "execution_count": 212,
   "metadata": {},
   "outputs": [],
   "source": [
    "#paso 20 se define el nivel de significancia alpha, en este caso se usará un nivel de significancia del 5% (0.05).\n",
    "alpha = 0.05\n",
    "#el alpha nos indica la probabilidad de rechazar la hipotesis nula cuando esta es verdadera, es decir, el nivel de error que estamos dispuestos a aceptar.\n",
    "#es decir se va arechazar la hipotesis nula con un 5% de error."
   ]
  },
  {
   "cell_type": "code",
   "execution_count": 238,
   "metadata": {},
   "outputs": [
    {
     "name": "stdout",
     "output_type": "stream",
     "text": [
      "Ingreso total del plan Surf: $8168.33\n",
      "Ingreso medio mensual por usuario del plan Surf: $24.10\n"
     ]
    }
   ],
   "source": [
    "#paso 21 se calcula el ingreso medio mensual por usuario para cada plan.\n",
    "#paso 21.1 se obtiene el promedio total del pago mensual y los cargos adicionales para el plan Surf.\n",
    "\n",
    "#se calcula el ingreso total del plan Surf sumando el pago mensual y los cargos adicionales.\n",
    "#se define la variable surf_revenue que contiene la suma del pago mensual y los cargos adicionales\n",
    "surf_revenue = user_usage[user_usage['plan'] == 'surf']['usd_monthly_pay'] + user_usage[user_usage['plan'] == 'surf']['additional_charges']\n",
    "#se calcula el ingreso medio mensual por usuario para el plan Surf usando mean().\n",
    "surf_mean_revenue = surf_revenue.mean()\n",
    "#se muestra el ingreso total y medio mensual por usuario para el plan Surf.\n",
    "print(f'Ingreso total del plan Surf: ${surf_revenue.sum():.2f}')\n",
    "print(f'Ingreso medio mensual por usuario del plan Surf: ${surf_mean_revenue:.2f}')"
   ]
  },
  {
   "cell_type": "code",
   "execution_count": 239,
   "metadata": {},
   "outputs": [
    {
     "name": "stdout",
     "output_type": "stream",
     "text": [
      "Ingreso total del plan Ultimate: $11270.00\n",
      "Ingreso medio mensual por usuario del plan Ultimate: $70.00\n"
     ]
    }
   ],
   "source": [
    "#paso 22 se calcula el ingreso medio mensual por usuario para cada plan.\n",
    "#paso 21.1 se obtiene el promedio total del pago mensual y los cargos adicionales para el plan Ultimate.\n",
    "#se calcula el ingreso total del plan Ultimate sumando el pago mensual y los cargos adicionales.\n",
    "#se define la variable ultimate_revenue que contiene la suma del pago mensual y los cargos adicionales\n",
    "ultimate_revenue = user_usage[user_usage['plan'] == 'ultimate']['usd_monthly_pay'] + user_usage[user_usage['plan'] == 'ultimate']['additional_charges']\n",
    "#se calcular_ingreso_medio mensual por usuario para el plan Ultimate usando mean().\n",
    "ultimate_mean_revenue = ultimate_revenue.mean()\n",
    "#se muestra el ingreso total y medio mensual por usuario para el plan Ultimate.\n",
    "print(f'Ingreso total del plan Ultimate: ${ultimate_revenue.sum():.2f}')\n",
    "print(f'Ingreso medio mensual por usuario del plan Ultimate: ${ultimate_mean_revenue:.2f}')"
   ]
  },
  {
   "cell_type": "code",
   "execution_count": 251,
   "metadata": {},
   "outputs": [
    {
     "name": "stdout",
     "output_type": "stream",
     "text": [
      "Estadístico de Levene: 12.8605, Valor p: 0.0004\n",
      "Las varianzas son diferentes.\n"
     ]
    }
   ],
   "source": [
    "#paso 23 se verifica si las varianzas de los ingresos de ambos planes son iguales usando el test de Levene.\n",
    "#se usa stats.levene para realizar el test de Levene, que prueba la igualdad de varianzas entre dos o más grupos.\n",
    "#se define la variable levene_stat que contiene el estadístico del test de Levene.\n",
    "#se define la variable levene_p que contiene el valor p del test de Levene.\n",
    "#se usa stats.levene para realizar el test de Levene, que prueba la igualdad de varianzas entre dos o más grupos.\n",
    "#se le pasa como argumentos los ingresos de ambos planes en este caso surf_revenue y ultimate_revenue, no se usa surf_mean_revenue ni ultimate_mean_revenue porque son promedios y no se pueden usar en el test de Levene.\n",
    "levene_stat, levene_p = stats.levene(surf_revenue, ultimate_revenue)\n",
    "#se muestra el estadístico y el valor p del test de Levene.\n",
    "print(f'Estadístico de Levene: {levene_stat:.4f}, Valor p: {levene_p:.4f}')\n",
    "#se interpreta el resultado del test de Levene.\n",
    "if levene_p < alpha:\n",
    "    print('Las varianzas son diferentes.')\n",
    "else:\n",
    "    print('Las varianzas son iguales.')\n",
    "    \n",
    "#el estadistico de Levene fue de 12.8605 lo que la mediana de los ingresos de ambos planes no son iguales.\n",
    "#el valor p fue de 0.0003 que es menor que el nivel de significancia de 0.05, por lo que se rechaza la hipotesis nula y se acepta la hipotesis alternativa.\n",
    "#por lo que se concluye que las varianzas de los ingresos de ambos planes son diferentes."
   ]
  },
  {
   "cell_type": "code",
   "execution_count": 253,
   "metadata": {},
   "outputs": [],
   "source": [
    "#en este caso se usara la prueba t de Student para muestras independientes con varianzas desiguales (Welch's t-test), por las siguientes razones:\n",
    "#1. Se tienen dos grupos independientes (usuarios del plan Surf y usuarios del plan Ultimate).\n",
    "#2. Se quiere comparar las medias de los ingresos mensuales entre estos dos grupos.\n",
    "#3. El test de Levene indicó que las varianzas de los ingresos entre los dos grupos son diferentes.\n"
   ]
  },
  {
   "cell_type": "code",
   "execution_count": 250,
   "metadata": {},
   "outputs": [
    {
     "name": "stdout",
     "output_type": "stream",
     "text": [
      "Estadístico t: -58.3590, Valor p: 0.0000\n",
      "Se rechaza la hipótesis nula: El ingreso promedio de los usuarios de las tarifas Surf y Ultimate difiere.\n"
     ]
    }
   ],
   "source": [
    "#paso 24 debido a que las varianzas son diferentes, se usa el test t de Student para muestras independientes con varianzas desiguales (Welch's t-test)\n",
    "#paso 24.1 se define la variable t_stat que contiene el estadístico t del test t de Student.\n",
    "#paso 24.2 se define la variable t_p que contiene el valor p del test t de Student.\n",
    "#paso 24.3 se usa stats.ttest_ind con el parámetro equal_var=False para indicar que las varianzas son diferentes.\n",
    "#se le pasa como argumentos los ingresos de ambos planes en este caso surf_revenue y ultimate_revenue, no se usa surf_mean_revenue ni ultimate_mean_revenue porque son promedios y no se pueden usar en el test t de Student.\n",
    "t_stat, t_p = stats.ttest_ind(surf_revenue, ultimate_revenue, equal_var=False)\n",
    "#se muestra el estadístico t y el valor p del test t de Student.\n",
    "print(f'Estadístico t: {t_stat:.4f}, Valor p: {t_p:.4f}')\n",
    "#se interpreta el resultado del test t de Student.\n",
    "if t_p < alpha / 2:  # Dividido entre 2 porque es una prueba de dos colas\n",
    "    print('Se rechaza la hipótesis nula: El ingreso promedio de los usuarios de las tarifas Surf y Ultimate difiere.')\n",
    "else:\n",
    "    print('No se rechaza la hipótesis nula: El ingreso promedio de los usuarios de las tarifas Surf y Ultimate es igual.') \n",
    "    \n",
    "#el estadistico t fue de -58.3590 lo que indica que la media de ingresos del plan Surf es menor que la del plan Ultimate, y el valor p es menor a 0.025\n",
    "#por lo que se rechaza la hipotesis nula y se acepta la hipotesis alternativa, es decir, que el ingreso promedio de los usuarios de las tarifas Surf y Ultimate difiere.\n"
   ]
  },
  {
   "cell_type": "code",
   "execution_count": null,
   "metadata": {},
   "outputs": [],
   "source": [
    "#paso 25 verificar la hipotesis B que dice: \"El ingreso promedio de los usuarios en el área de New York-New Jersey es dieferente al de los usuarios de otras regiones.\"\n",
    "#En donde la hipotesis nula H0: El ingreso promedio de los usuarios en el área de New York-New Jersey es igual al de los usuarios de otras regiones.\n",
    "#Y la hipotesis alternativa H1: El ingreso promedio de los usuarios en el área de New York-New Jersey es diferente al de los usuarios de otras regiones.\n",
    "\n",
    "#en este caso es una probabilidad de dos colas, ya que se quiere saber si el ingreso promedio de los usuarios en el área de New York-New Jersey es diferente\n",
    "#al de los usuarios de otras regiones no se pide saber si es mayor o menor, por lo que se debe de dividir el nivel de significancia entre 2."
   ]
  },
  {
   "cell_type": "code",
   "execution_count": 254,
   "metadata": {},
   "outputs": [],
   "source": [
    "#paso 26 se define el nivel de significancia alpha, en este caso se usará un nivel de significancia del 5% (0.05).\n",
    "alpha = 0.05\n",
    "#el alpha nos indica la probabilidad de rechazar la hipotesis nula cuando esta es verdadera, es decir, el nivel de error que estamos dispuestos a aceptar.\n",
    "#es decir se va a rechazar la hipotesis nula con un 5% de error."
   ]
  },
  {
   "cell_type": "code",
   "execution_count": 265,
   "metadata": {},
   "outputs": [
    {
     "data": {
      "text/html": [
       "<div>\n",
       "<style scoped>\n",
       "    .dataframe tbody tr th:only-of-type {\n",
       "        vertical-align: middle;\n",
       "    }\n",
       "\n",
       "    .dataframe tbody tr th {\n",
       "        vertical-align: top;\n",
       "    }\n",
       "\n",
       "    .dataframe thead th {\n",
       "        text-align: right;\n",
       "    }\n",
       "</style>\n",
       "<table border=\"1\" class=\"dataframe\">\n",
       "  <thead>\n",
       "    <tr style=\"text-align: right;\">\n",
       "      <th></th>\n",
       "      <th>user_id</th>\n",
       "      <th>first_name</th>\n",
       "      <th>last_name</th>\n",
       "      <th>age</th>\n",
       "      <th>city</th>\n",
       "      <th>reg_date</th>\n",
       "      <th>plan</th>\n",
       "      <th>churn_date</th>\n",
       "      <th>month_year</th>\n",
       "      <th>messages_included</th>\n",
       "      <th>...</th>\n",
       "      <th>usd_monthly_pay</th>\n",
       "      <th>usd_per_gb</th>\n",
       "      <th>usd_per_message</th>\n",
       "      <th>usd_per_minute</th>\n",
       "      <th>plan_name</th>\n",
       "      <th>total_minutes</th>\n",
       "      <th>total_messages</th>\n",
       "      <th>total_data_gb</th>\n",
       "      <th>additional_charges</th>\n",
       "      <th>is_ny_nj</th>\n",
       "    </tr>\n",
       "  </thead>\n",
       "  <tbody>\n",
       "    <tr>\n",
       "      <th>0</th>\n",
       "      <td>1000</td>\n",
       "      <td>Anamaria</td>\n",
       "      <td>Bauer</td>\n",
       "      <td>45</td>\n",
       "      <td>Atlanta-Sandy Springs-Roswell, GA MSA</td>\n",
       "      <td>2018-12-24</td>\n",
       "      <td>ultimate</td>\n",
       "      <td>NaT</td>\n",
       "      <td>2018-12</td>\n",
       "      <td>1000</td>\n",
       "      <td>...</td>\n",
       "      <td>70.0</td>\n",
       "      <td>7.0</td>\n",
       "      <td>0.01</td>\n",
       "      <td>0.01</td>\n",
       "      <td>ultimate</td>\n",
       "      <td>117.0</td>\n",
       "      <td>11.0</td>\n",
       "      <td>2.0</td>\n",
       "      <td>0.0</td>\n",
       "      <td>False</td>\n",
       "    </tr>\n",
       "    <tr>\n",
       "      <th>1</th>\n",
       "      <td>1001</td>\n",
       "      <td>Mickey</td>\n",
       "      <td>Wilkerson</td>\n",
       "      <td>28</td>\n",
       "      <td>Seattle-Tacoma-Bellevue, WA MSA</td>\n",
       "      <td>2018-08-13</td>\n",
       "      <td>surf</td>\n",
       "      <td>NaT</td>\n",
       "      <td>2018-08</td>\n",
       "      <td>50</td>\n",
       "      <td>...</td>\n",
       "      <td>20.0</td>\n",
       "      <td>10.0</td>\n",
       "      <td>0.03</td>\n",
       "      <td>0.03</td>\n",
       "      <td>surf</td>\n",
       "      <td>172.0</td>\n",
       "      <td>30.0</td>\n",
       "      <td>7.0</td>\n",
       "      <td>0.0</td>\n",
       "      <td>False</td>\n",
       "    </tr>\n",
       "    <tr>\n",
       "      <th>2</th>\n",
       "      <td>1002</td>\n",
       "      <td>Carlee</td>\n",
       "      <td>Hoffman</td>\n",
       "      <td>36</td>\n",
       "      <td>Las Vegas-Henderson-Paradise, NV MSA</td>\n",
       "      <td>2018-10-21</td>\n",
       "      <td>surf</td>\n",
       "      <td>NaT</td>\n",
       "      <td>2018-10</td>\n",
       "      <td>50</td>\n",
       "      <td>...</td>\n",
       "      <td>20.0</td>\n",
       "      <td>10.0</td>\n",
       "      <td>0.03</td>\n",
       "      <td>0.03</td>\n",
       "      <td>surf</td>\n",
       "      <td>55.0</td>\n",
       "      <td>15.0</td>\n",
       "      <td>7.0</td>\n",
       "      <td>0.0</td>\n",
       "      <td>False</td>\n",
       "    </tr>\n",
       "  </tbody>\n",
       "</table>\n",
       "<p>3 rows × 22 columns</p>\n",
       "</div>"
      ],
      "text/plain": [
       "   user_id first_name  last_name  age                                   city  \\\n",
       "0     1000   Anamaria      Bauer   45  Atlanta-Sandy Springs-Roswell, GA MSA   \n",
       "1     1001     Mickey  Wilkerson   28        Seattle-Tacoma-Bellevue, WA MSA   \n",
       "2     1002     Carlee    Hoffman   36   Las Vegas-Henderson-Paradise, NV MSA   \n",
       "\n",
       "    reg_date      plan churn_date month_year  messages_included  ...  \\\n",
       "0 2018-12-24  ultimate        NaT    2018-12               1000  ...   \n",
       "1 2018-08-13      surf        NaT    2018-08                 50  ...   \n",
       "2 2018-10-21      surf        NaT    2018-10                 50  ...   \n",
       "\n",
       "   usd_monthly_pay  usd_per_gb  usd_per_message  usd_per_minute  plan_name  \\\n",
       "0             70.0         7.0             0.01            0.01   ultimate   \n",
       "1             20.0        10.0             0.03            0.03       surf   \n",
       "2             20.0        10.0             0.03            0.03       surf   \n",
       "\n",
       "   total_minutes total_messages  total_data_gb  additional_charges  is_ny_nj  \n",
       "0          117.0           11.0            2.0                 0.0     False  \n",
       "1          172.0           30.0            7.0                 0.0     False  \n",
       "2           55.0           15.0            7.0                 0.0     False  \n",
       "\n",
       "[3 rows x 22 columns]"
      ]
     },
     "execution_count": 265,
     "metadata": {},
     "output_type": "execute_result"
    }
   ],
   "source": [
    "#paso 27 identificar en la columna 'city' del DataFrame users los usuarios que pertenecen al área de New York-New Jersey.\n",
    "#paso 27.1 se crea una nueva columna en el DataFrame users llamada 'is_ny_nj' que contiene True si el usuario pertenece al área de New York-New Jersey y False en caso contrario.\n",
    "user_usage['is_ny_nj'] = user_usage['city'].str.contains('New York|New Jersey|NY|NJ|Newark', case=False, na=False)\n",
    "user_usage.head(3)"
   ]
  },
  {
   "cell_type": "code",
   "execution_count": 266,
   "metadata": {},
   "outputs": [
    {
     "name": "stdout",
     "output_type": "stream",
     "text": [
      "Ingreso total del área de New York-New Jersey: $4038.09\n",
      "Ingreso medio mensual por usuario del área de New York-New Jersey: $37.39\n"
     ]
    }
   ],
   "source": [
    "#paso 27.2 se define la variable ny_nj_revenue que contiene la suma del pago mensual y los cargos adicionales para los usuarios del área de New York-New Jersey.\n",
    "ny_nj_revenue = user_usage[user_usage['is_ny_nj']]['usd_monthly_pay'] +user_usage[user_usage['is_ny_nj']]['additional_charges']\n",
    "#se calcula el ingreso medio mensual por usuario para los usuarios del área de New York-New Jersey usando mean().\n",
    "ny_nj_mean_revenue = ny_nj_revenue.mean()\n",
    "#se muestra el ingreso total y medio mensual por usuario para los usuarios del área de New York-New Jersey.\n",
    "print(f'Ingreso total del área de New York-New Jersey: ${ny_nj_revenue.sum():.2f}')\n",
    "print(f'Ingreso medio mensual por usuario del área de New York-New Jersey: ${ny_nj_mean_revenue:.2f}')\n"
   ]
  },
  {
   "cell_type": "code",
   "execution_count": 267,
   "metadata": {},
   "outputs": [
    {
     "name": "stdout",
     "output_type": "stream",
     "text": [
      "Ingreso total de otras regiones: $15400.24\n",
      "Ingreso medio mensual por usuario de otras regiones: $39.29\n"
     ]
    }
   ],
   "source": [
    "#paso 27.3 se define la variable other_revenue que contiene la suma del pago mensual y los cargos adicionales para los usuarios de otras regiones.\n",
    "other_revenue = user_usage[~user_usage['is_ny_nj']]['usd_monthly_pay'] + user_usage[~user_usage['is_ny_nj']]['additional_charges']\n",
    "#se calcula el ingreso medio mensual por usuario para los usuarios de otras regiones usando mean().\n",
    "other_mean_revenue = other_revenue.mean()\n",
    "#se muestra el ingreso total y medio mensual por usuario para los usuarios de otras regiones.\n",
    "print(f'Ingreso total de otras regiones: ${other_revenue.sum():.2f}')\n",
    "print(f'Ingreso medio mensual por usuario de otras regiones: ${other_mean_revenue:.2f}')\n"
   ]
  },
  {
   "cell_type": "code",
   "execution_count": 271,
   "metadata": {},
   "outputs": [
    {
     "name": "stdout",
     "output_type": "stream",
     "text": [
      "Estadístico de Levene: 0.5046, Valor p: 0.4778\n",
      "Las varianzas son iguales.\n"
     ]
    }
   ],
   "source": [
    "#paso 28 se verifica si las varianzas de los ingresos de ambos grupos son iguales usando el test de Levene.\n",
    "#se usa stats.levene para realizar el test de Levene, que prueba la igualdad de varianzas entre dos o más grupos.\n",
    "#se define la variable levene_stat que contiene el estadístico del test de Levene.\n",
    "#se define la variable levene_p que contiene el valor p del test de Levene.\n",
    "#se usa stats.levene para realizar el test de Levene, que prueba la igualdad de varianzas entre dos o más grupos.\n",
    "#se le pasa como argumentos los ingresos de ambos grupos en este caso ny_nj_revenue y other_revenue, no se usa ny_nj_mean_revenue ni other_mean_revenue porque son promedios y no se pueden usar en el test de Levene.\n",
    "levene_stat, levene_p = stats.levene(ny_nj_revenue, other_revenue)\n",
    "#se muestra el estadístico y el valor p del test de Levene.\n",
    "print(f'Estadístico de Levene: {levene_stat:.4f}, Valor p: {levene_p:.4f}')\n",
    "#se interpreta el resultado del test de Levene.\n",
    "if levene_p < alpha:\n",
    "    print('Las varianzas son diferentes.')\n",
    "else:\n",
    "    print('Las varianzas son iguales.')"
   ]
  },
  {
   "cell_type": "code",
   "execution_count": null,
   "metadata": {},
   "outputs": [],
   "source": [
    "#se usara la prueba t de Student para muestras independientes con varianzas iguales, por las siguientes razones:\n",
    "#1. Se tienen dos grupos independientes (usuarios del área de New York-New Jersey y usuarios de otras regiones).\n",
    "#2. Se quiere comparar las medias de los ingresos mensuales entre estos dos grupos.\n",
    "#3. El test de Levene indicó que las varianzas de los ingresos entre los dos grupos son iguales."
   ]
  },
  {
   "cell_type": "code",
   "execution_count": 273,
   "metadata": {},
   "outputs": [
    {
     "name": "stdout",
     "output_type": "stream",
     "text": [
      "Estadístico t: -0.7103, Valor p: 0.4778\n",
      "No se rechaza la hipótesis nula: El ingreso promedio de los usuarios en el área de New York-New Jersey es igual al de los usuarios de otras regiones.\n"
     ]
    }
   ],
   "source": [
    "#paso 29 se usa el test t de Student para muestras independientes con varianzas iguales.\n",
    "#paso 29.1 se define la variable t_stat que contiene el estadístico t del test t de Student, este indica la diferencia entre las medias de los dos grupos en unidades de error estándar.\n",
    "#paso 29.2 se define la variable t_p que contiene el valor p del test t de Student, este indica la probabilidad de obtener un estadístico t tan extremo como el observado si la hipótesis nula es cierta.\n",
    "#paso 29.3 se usa stats.ttest_ind para realizar el test t de Student, se le pasan como argumentos los ingresos de ambos grupos y se especifica que se asume varianzas iguales.\n",
    "t_stat, t_p = stats.ttest_ind(ny_nj_revenue, other_revenue, equal_var=True)\n",
    "#se muestra el estadístico t y el valor p del test t de Student.\n",
    "print(f'Estadístico t: {t_stat:.4f}, Valor p: {t_p:.4f}')\n",
    "#se interpreta el resultado del test t de Student.\n",
    "if t_p < alpha / 2:  # Dividido entre 2 porque es una prueba de dos colas\n",
    "    print('Se rechaza la hipótesis nula: El ingreso promedio de los usuarios en el área de New York-New Jersey es diferente al de los usuarios de otras regiones.')\n",
    "else:\n",
    "    print('No se rechaza la hipótesis nula: El ingreso promedio de los usuarios en el área de New York-New Jersey es igual al de los usuarios de otras regiones.')"
   ]
  },
  {
   "cell_type": "code",
   "execution_count": null,
   "metadata": {},
   "outputs": [],
   "source": [
    "#en este caso el t_p fue de 0.4778 lo que indica que no se rechaza la hipotesis nula, es decir, que el ingreso promedio de los usuarios en el área de New York-New Jersey es igual al de los usuarios de otras regiones.\n",
    "#esto indica que hay una probabilidad del 47.78% de que la diferencia observada en los ingresos promedio entre los dos grupos se deba al azar, lo cual es mayor que el nivel de significancia del 5% (0.05).\n",
    "#por lo que no se puede concluir que exista una diferencia significativa en los ingresos promedio entre los usuarios del área de New York-New Jersey y los usuarios de otras regiones."
   ]
  },
  {
   "cell_type": "code",
   "execution_count": null,
   "metadata": {},
   "outputs": [],
   "source": [
    "#paso 30 se realiza un resumen de los hallazgos y se presentan las conclusiones.\n",
    "\n",
    "# Conclusiones:\n",
    "#1. Se encontró que el ingreso promedio de los usuarios de las tarifas Surf y Ultimate difiere significativamente, con el plan Ultimate generando mayores ingresos en promedio.\n",
    "#2. No se encontró una diferencia significativa en el ingreso promedio entre los usuarios del área de New York-New Jersey y los usuarios de otras regiones.\n",
    "#3. Los usuarios del plan Surf tienden a utilizar menos minutos, mensajes y datos en comparación con los usuarios del plan Ultimate, lo que se refleja en los histogramas de uso.\n",
    "#4. Las varianzas en el uso de minutos, mensajes y datos son diferentes entre los dos planes, lo que sugiere que los patrones de uso varían significativamente entre los usuarios de cada plan.\n",
    "#5. Estos hallazgos pueden ayudar a la empresa a ajustar sus estrategias de marketing y precios para maximizar los ingresos y satisfacer mejor las necesidades de sus clientes."
   ]
  }
 ],
 "metadata": {
  "ExecuteTimeLog": [
   {
    "duration": 828,
    "start_time": "2021-11-16T09:21:11.304Z"
   },
   {
    "duration": 893,
    "start_time": "2021-11-16T09:21:17.728Z"
   },
   {
    "duration": 1150,
    "start_time": "2021-11-16T09:21:29.568Z"
   },
   {
    "duration": 3,
    "start_time": "2021-11-16T09:24:14.495Z"
   },
   {
    "duration": 120,
    "start_time": "2021-11-16T09:24:46.630Z"
   },
   {
    "duration": 3,
    "start_time": "2021-11-16T09:28:27.882Z"
   },
   {
    "duration": 4,
    "start_time": "2021-11-16T09:29:54.281Z"
   },
   {
    "duration": 3,
    "start_time": "2021-11-16T09:30:45.936Z"
   },
   {
    "duration": 4,
    "start_time": "2021-11-16T09:31:06.300Z"
   },
   {
    "duration": 113,
    "start_time": "2021-11-16T09:31:37.208Z"
   },
   {
    "duration": 143,
    "start_time": "2021-11-16T09:31:48.656Z"
   },
   {
    "duration": 98,
    "start_time": "2021-11-16T09:31:55.678Z"
   },
   {
    "duration": 3,
    "start_time": "2021-11-16T09:32:08.535Z"
   },
   {
    "duration": 111,
    "start_time": "2021-11-16T09:32:10.120Z"
   },
   {
    "duration": 3,
    "start_time": "2021-11-16T09:32:15.732Z"
   },
   {
    "duration": 4,
    "start_time": "2021-11-16T09:32:29.423Z"
   },
   {
    "duration": 3,
    "start_time": "2021-11-16T10:03:03.074Z"
   },
   {
    "duration": 3,
    "start_time": "2021-11-16T10:10:01.288Z"
   },
   {
    "duration": 3,
    "start_time": "2021-11-16T10:10:46.923Z"
   },
   {
    "duration": 121,
    "start_time": "2021-11-16T10:37:46.494Z"
   },
   {
    "duration": 125,
    "start_time": "2021-11-16T10:38:20.632Z"
   },
   {
    "duration": 112,
    "start_time": "2021-11-16T10:46:53.001Z"
   },
   {
    "duration": 110,
    "start_time": "2021-11-16T10:48:25.775Z"
   },
   {
    "duration": 3,
    "start_time": "2021-11-16T10:50:18.720Z"
   },
   {
    "duration": 4,
    "start_time": "2021-11-16T10:50:37.649Z"
   },
   {
    "duration": 2,
    "start_time": "2021-11-16T10:50:51.884Z"
   },
   {
    "duration": 3,
    "start_time": "2021-11-16T10:51:56.237Z"
   },
   {
    "duration": 101,
    "start_time": "2021-11-16T10:53:13.791Z"
   },
   {
    "duration": 3,
    "start_time": "2021-11-16T10:55:59.186Z"
   },
   {
    "duration": 3,
    "start_time": "2021-11-16T10:56:10.751Z"
   },
   {
    "duration": 3,
    "start_time": "2021-11-16T10:56:49.038Z"
   },
   {
    "duration": 3,
    "start_time": "2021-11-16T10:56:49.174Z"
   },
   {
    "duration": 4,
    "start_time": "2021-11-16T10:56:49.414Z"
   },
   {
    "duration": 3,
    "start_time": "2021-11-16T10:56:49.680Z"
   },
   {
    "duration": 3,
    "start_time": "2021-11-16T10:56:50.370Z"
   },
   {
    "duration": 114,
    "start_time": "2021-11-16T10:59:34.518Z"
   },
   {
    "duration": 3,
    "start_time": "2021-11-16T11:01:41.201Z"
   },
   {
    "duration": 116,
    "start_time": "2021-11-16T11:01:48.754Z"
   },
   {
    "duration": 3,
    "start_time": "2021-11-16T11:02:16.685Z"
   },
   {
    "duration": 3,
    "start_time": "2021-11-16T11:02:19.479Z"
   },
   {
    "duration": 3,
    "start_time": "2021-11-16T11:02:47.067Z"
   },
   {
    "duration": 3,
    "start_time": "2021-11-16T11:02:49.353Z"
   },
   {
    "duration": 3,
    "start_time": "2021-11-16T11:03:07.835Z"
   },
   {
    "duration": 3,
    "start_time": "2021-11-16T11:03:07.953Z"
   },
   {
    "duration": 112,
    "start_time": "2021-11-16T11:07:52.072Z"
   },
   {
    "duration": 187,
    "start_time": "2021-11-16T11:09:23.468Z"
   },
   {
    "duration": 4,
    "start_time": "2021-11-16T11:10:01.455Z"
   },
   {
    "duration": 3,
    "start_time": "2021-11-16T11:10:05.069Z"
   },
   {
    "duration": 4,
    "start_time": "2021-11-16T11:10:13.376Z"
   },
   {
    "duration": 3,
    "start_time": "2021-11-16T11:10:14.434Z"
   },
   {
    "duration": 3,
    "start_time": "2021-11-16T11:10:22.853Z"
   },
   {
    "duration": 4,
    "start_time": "2021-11-16T11:27:29.279Z"
   },
   {
    "duration": 4,
    "start_time": "2021-11-16T11:29:08.919Z"
   },
   {
    "duration": 118,
    "start_time": "2021-11-16T11:29:46.703Z"
   },
   {
    "duration": 437,
    "start_time": "2021-11-16T11:36:02.181Z"
   },
   {
    "duration": 157,
    "start_time": "2021-11-16T11:36:14.388Z"
   },
   {
    "duration": 207,
    "start_time": "2021-11-16T11:47:15.898Z"
   },
   {
    "duration": 3,
    "start_time": "2021-11-16T11:53:52.092Z"
   },
   {
    "duration": 3,
    "start_time": "2021-11-16T11:53:52.236Z"
   },
   {
    "duration": 3,
    "start_time": "2021-11-16T11:59:12.005Z"
   },
   {
    "duration": 112,
    "start_time": "2021-11-16T12:00:33.446Z"
   },
   {
    "duration": 3,
    "start_time": "2021-11-16T12:02:14.453Z"
   },
   {
    "duration": 3,
    "start_time": "2021-11-16T12:02:39.512Z"
   },
   {
    "duration": 106,
    "start_time": "2021-11-16T12:03:03.460Z"
   },
   {
    "duration": 3,
    "start_time": "2021-11-17T20:37:21.139Z"
   },
   {
    "duration": 3,
    "start_time": "2021-11-17T20:37:22.229Z"
   },
   {
    "duration": 3,
    "start_time": "2021-11-17T20:38:38.806Z"
   },
   {
    "duration": 3,
    "start_time": "2021-11-17T20:38:41.958Z"
   },
   {
    "duration": 3,
    "start_time": "2021-11-17T20:43:46.551Z"
   },
   {
    "duration": 4,
    "start_time": "2021-11-17T20:58:21.835Z"
   },
   {
    "duration": 3,
    "start_time": "2021-11-17T20:59:21.872Z"
   },
   {
    "duration": 4,
    "start_time": "2021-11-17T20:59:45.352Z"
   },
   {
    "duration": 4,
    "start_time": "2021-11-17T20:59:49.646Z"
   },
   {
    "duration": 159,
    "start_time": "2021-11-17T21:02:26.949Z"
   },
   {
    "duration": 3,
    "start_time": "2021-11-17T21:03:53.461Z"
   },
   {
    "duration": 3,
    "start_time": "2021-11-17T21:03:53.694Z"
   },
   {
    "duration": 3,
    "start_time": "2021-11-17T21:05:28.145Z"
   },
   {
    "duration": 116,
    "start_time": "2021-11-17T21:05:57.787Z"
   },
   {
    "duration": 3,
    "start_time": "2021-11-17T21:06:37.993Z"
   },
   {
    "duration": 3,
    "start_time": "2021-11-17T21:06:38.261Z"
   },
   {
    "duration": 3,
    "start_time": "2021-11-17T21:11:54.358Z"
   },
   {
    "duration": 3,
    "start_time": "2021-11-17T21:12:43.846Z"
   },
   {
    "duration": 4,
    "start_time": "2021-11-17T21:13:08.773Z"
   },
   {
    "duration": 3,
    "start_time": "2021-11-17T21:14:44.441Z"
   },
   {
    "duration": 3,
    "start_time": "2021-11-17T21:15:42.059Z"
   },
   {
    "duration": 4,
    "start_time": "2021-11-17T21:15:51.995Z"
   },
   {
    "duration": 3,
    "start_time": "2021-11-17T21:15:53.923Z"
   },
   {
    "duration": 3,
    "start_time": "2021-11-17T21:15:55.282Z"
   },
   {
    "duration": 3,
    "start_time": "2021-11-17T21:16:28.492Z"
   },
   {
    "duration": 3,
    "start_time": "2021-11-17T21:16:32.603Z"
   },
   {
    "duration": 3,
    "start_time": "2021-11-17T21:17:06.941Z"
   },
   {
    "duration": 98,
    "start_time": "2021-11-17T21:18:05.733Z"
   },
   {
    "duration": 4,
    "start_time": "2021-11-17T21:21:35.255Z"
   },
   {
    "duration": 3,
    "start_time": "2021-11-17T21:21:37.804Z"
   },
   {
    "duration": 4,
    "start_time": "2021-11-17T21:23:06.071Z"
   },
   {
    "duration": 3,
    "start_time": "2021-11-17T21:23:24.799Z"
   },
   {
    "duration": 3,
    "start_time": "2021-11-17T21:23:32.591Z"
   },
   {
    "duration": 98,
    "start_time": "2021-11-17T21:28:31.559Z"
   },
   {
    "duration": 3,
    "start_time": "2021-11-17T21:28:45.448Z"
   },
   {
    "duration": 3,
    "start_time": "2021-11-17T21:29:17.303Z"
   },
   {
    "duration": 3,
    "start_time": "2021-11-17T21:29:29.617Z"
   },
   {
    "duration": 3,
    "start_time": "2021-11-17T21:29:32.681Z"
   },
   {
    "duration": 3,
    "start_time": "2021-11-17T21:36:11.474Z"
   },
   {
    "duration": 3,
    "start_time": "2021-11-17T21:36:14.791Z"
   },
   {
    "duration": 3,
    "start_time": "2021-11-17T21:36:53.943Z"
   },
   {
    "duration": 3,
    "start_time": "2021-11-17T21:36:56.165Z"
   },
   {
    "duration": 4,
    "start_time": "2021-11-17T21:37:16.590Z"
   },
   {
    "duration": 3,
    "start_time": "2021-11-17T21:37:22.702Z"
   },
   {
    "duration": 4,
    "start_time": "2021-11-17T21:38:03.479Z"
   },
   {
    "duration": 3,
    "start_time": "2021-11-17T21:38:08.601Z"
   },
   {
    "duration": 3,
    "start_time": "2021-11-17T21:38:12.928Z"
   },
   {
    "duration": 3,
    "start_time": "2021-11-17T21:38:48.896Z"
   },
   {
    "duration": 2,
    "start_time": "2021-11-17T21:38:49.171Z"
   },
   {
    "duration": 4,
    "start_time": "2021-11-17T21:39:57.889Z"
   },
   {
    "duration": 3,
    "start_time": "2021-11-17T21:39:58.057Z"
   },
   {
    "duration": 3,
    "start_time": "2021-11-17T21:41:20.108Z"
   },
   {
    "duration": 3,
    "start_time": "2021-11-17T21:41:20.629Z"
   },
   {
    "duration": 3,
    "start_time": "2021-11-17T21:42:49.136Z"
   },
   {
    "duration": 3,
    "start_time": "2021-11-17T21:43:15.137Z"
   },
   {
    "duration": 4,
    "start_time": "2021-11-17T21:43:16.766Z"
   },
   {
    "duration": 4,
    "start_time": "2021-11-17T21:43:31.711Z"
   },
   {
    "duration": 3,
    "start_time": "2021-11-17T21:43:36.312Z"
   },
   {
    "duration": 4,
    "start_time": "2021-11-17T21:45:08.825Z"
   },
   {
    "duration": 4,
    "start_time": "2021-11-17T21:45:10.119Z"
   },
   {
    "duration": 4,
    "start_time": "2021-11-17T21:45:13.748Z"
   },
   {
    "duration": 3,
    "start_time": "2021-11-17T21:45:22.219Z"
   },
   {
    "duration": 3,
    "start_time": "2021-11-17T21:45:33.412Z"
   },
   {
    "duration": 2,
    "start_time": "2021-11-17T21:46:01.885Z"
   },
   {
    "duration": 3,
    "start_time": "2021-11-17T21:46:03.628Z"
   },
   {
    "duration": 107,
    "start_time": "2021-11-17T21:47:32.512Z"
   },
   {
    "duration": 103,
    "start_time": "2021-11-17T21:50:36.243Z"
   },
   {
    "duration": 3,
    "start_time": "2021-11-18T06:28:31.440Z"
   },
   {
    "duration": 3,
    "start_time": "2021-11-18T06:29:00.168Z"
   },
   {
    "duration": 3,
    "start_time": "2021-11-18T06:31:27.008Z"
   },
   {
    "duration": 2,
    "start_time": "2021-11-18T06:35:34.288Z"
   },
   {
    "duration": 2,
    "start_time": "2021-11-18T06:38:04.527Z"
   }
  ],
  "colab": {
   "provenance": []
  },
  "kernelspec": {
   "display_name": "estadistica",
   "language": "python",
   "name": "python3"
  },
  "language_info": {
   "codemirror_mode": {
    "name": "ipython",
    "version": 3
   },
   "file_extension": ".py",
   "mimetype": "text/x-python",
   "name": "python",
   "nbconvert_exporter": "python",
   "pygments_lexer": "ipython3",
   "version": "3.12.11"
  },
  "toc": {
   "base_numbering": 1,
   "nav_menu": {},
   "number_sections": true,
   "sideBar": true,
   "skip_h1_title": false,
   "title_cell": "Table of Contents",
   "title_sidebar": "Contents",
   "toc_cell": false,
   "toc_position": {},
   "toc_section_display": true,
   "toc_window_display": true
  }
 },
 "nbformat": 4,
 "nbformat_minor": 4
}
